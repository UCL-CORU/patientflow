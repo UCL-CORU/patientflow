{
 "cells": [
  {
   "cell_type": "markdown",
   "id": "b25b74cf-7d86-4196-90be-8362038cff69",
   "metadata": {},
   "source": [
    "# Predict  aggregate demand for beds\n",
    "\n",
    "At set times of day, we want to know how many beds will be needed for patients in the ED at that time\n",
    "\n",
    "For aggregation\n",
    "- evaluation is done for times of day agreed with users"
   ]
  },
  {
   "cell_type": "markdown",
   "id": "d49f32df-9f33-45c4-89ab-8663d7c32301",
   "metadata": {},
   "source": [
    "## Set up the notebook environment"
   ]
  },
  {
   "cell_type": "code",
   "execution_count": 1,
   "id": "1dddd7fe-729f-4b6b-a05d-ab2547b1f180",
   "metadata": {
    "tags": []
   },
   "outputs": [],
   "source": [
    "# Reload functions every time\n",
    "%load_ext autoreload \n",
    "%autoreload 2"
   ]
  },
  {
   "cell_type": "code",
   "execution_count": 5,
   "id": "56ed8f2f-4f5d-47b5-bfab-71235e27b45b",
   "metadata": {
    "tags": []
   },
   "outputs": [],
   "source": [
    "from pathlib import Path\n",
    "import sys\n",
    "import json\n",
    "import pandas as pd\n",
    "\n",
    "PROJECT_ROOT = Path().home() \n",
    "USER_ROOT = Path().home() / 'work'\n",
    "\n",
    "sys.path.append(str(USER_ROOT / 'patientflow' / 'src' / 'patientflow'))\n",
    "sys.path.append(str(USER_ROOT / 'patientflow' / 'functions'))\n",
    "sys.path.append(str(USER_ROOT / 'ed-predictor' / 'functions'))\n",
    "\n",
    "\n",
    "model_file_path = PROJECT_ROOT /'data' / 'ed-predictor' / 'trained-models'\n",
    "data_path = USER_ROOT / 'patientflow' / 'data-raw'\n",
    "media_file_path = USER_ROOT / 'patientflow' / 'notebooks' / 'img'\n",
    "media_file_path.mkdir(parents=True, exist_ok=True)\n",
    "\n"
   ]
  },
  {
   "cell_type": "markdown",
   "id": "d9d66370-bcbe-4b95-bd03-ce8e32fb6ff9",
   "metadata": {},
   "source": [
    "## Load parameters\n",
    "\n",
    "These are set in config.json. You can change these for your own purposes. But the times of day will need to match those in the provided dataset if you want to run this notebook successfully."
   ]
  },
  {
   "cell_type": "code",
   "execution_count": 6,
   "id": "94c4097e",
   "metadata": {},
   "outputs": [],
   "source": [
    "uclh = False"
   ]
  },
  {
   "cell_type": "code",
   "execution_count": 7,
   "id": "d2bcac22-aeab-4e44-a886-ba5c13255f6e",
   "metadata": {
    "tags": []
   },
   "outputs": [],
   "source": [
    "from load_config import load_config_file\n",
    "\n",
    "if uclh:\n",
    "    config_path = Path(USER_ROOT / 'patientflow' / 'config-uclh.yaml')\n",
    "else:\n",
    "    config_path = Path(USER_ROOT / 'patientflow' / 'config.yaml')\n",
    "\n",
    "params = load_config_file(config_path)\n",
    "\n",
    "prediction_times = params[0]\n",
    "start_training_set, start_validation_set, start_test_set, end_test_set = params[1:5]\n"
   ]
  },
  {
   "cell_type": "markdown",
   "id": "3458fc58-9456-4873-918d-efe92cf60e7f",
   "metadata": {
    "execution": {
     "iopub.execute_input": "2024-03-12T15:15:27.833741Z",
     "iopub.status.busy": "2024-03-12T15:15:27.833169Z",
     "iopub.status.idle": "2024-03-12T15:15:27.839751Z",
     "shell.execute_reply": "2024-03-12T15:15:27.838492Z",
     "shell.execute_reply.started": "2024-03-12T15:15:27.833704Z"
    }
   },
   "source": [
    "## Load data"
   ]
  },
  {
   "cell_type": "code",
   "execution_count": 10,
   "id": "6facb49b-8906-4feb-9acf-2b43c945ecfe",
   "metadata": {
    "tags": []
   },
   "outputs": [],
   "source": [
    "import pandas as pd\n",
    "from load_data_utils import set_file_locations\n",
    "\n",
    "if uclh:\n",
    "    visits_path, visits_csv_path, yta_path, yta_csv_path = set_file_locations(uclh, data_path, config_path)\n",
    "else:\n",
    "    visits_csv_path, yta_csv_path = set_file_locations(uclh, data_path)\n",
    "\n",
    "visits = pd.read_csv(visits_csv_path)\n",
    "yta = pd.read_csv(yta_csv_path)\n",
    "\n",
    "if visits.index.name != 'snapshot_id':\n",
    "    visits = visits.set_index('snapshot_id')\n",
    "\n",
    "visits['snapshot_date'] = pd.to_datetime(visits['snapshot_date']).dt.date"
   ]
  },
  {
   "cell_type": "code",
   "execution_count": 9,
   "id": "201b87b8-72f9-42c7-8a29-49336a6f7365",
   "metadata": {
    "tags": []
   },
   "outputs": [],
   "source": [
    "visits.sort_values(['snapshot_date', 'prediction_time'], inplace = True)"
   ]
  },
  {
   "cell_type": "markdown",
   "id": "2db1f21d-d23e-4245-a511-8cd128d895b9",
   "metadata": {},
   "source": [
    "## Generate aggregate predictions for each time of day"
   ]
  },
  {
   "cell_type": "code",
   "execution_count": 17,
   "id": "cb61b306-929a-4a72-af64-462dd6fd972e",
   "metadata": {
    "tags": []
   },
   "outputs": [
    {
     "name": "stdout",
     "output_type": "stream",
     "text": [
      "\n",
      "Processing :(15, 30)\n",
      "Calculating probability distributions for 182 horizon dates\n",
      "This may take a minute or more\n",
      "Processed 10 horizon dates\n",
      "Processed 20 horizon dates\n",
      "Processed 30 horizon dates\n",
      "Processed 40 horizon dates\n",
      "Processed 50 horizon dates\n",
      "Processed 60 horizon dates\n",
      "Processed 70 horizon dates\n",
      "Processed 80 horizon dates\n",
      "Processed 90 horizon dates\n",
      "Processed 100 horizon dates\n",
      "Processed 110 horizon dates\n",
      "Processed 120 horizon dates\n",
      "Processed 130 horizon dates\n",
      "Processed 140 horizon dates\n",
      "Processed 150 horizon dates\n",
      "Processed 160 horizon dates\n",
      "Processed 170 horizon dates\n",
      "Processed 180 horizon dates\n",
      "Processed 182 horizon dates\n"
     ]
    }
   ],
   "source": [
    "from ed_admissions_helper_functions import prepare_for_inference, get_model_name\n",
    "PATH_ED = 'HyMind/dissemination/data-raw/ED_visits.csv'\n",
    "from predict.emergency_demand.from_individual_probs import get_prob_dist\n",
    "\n",
    "from ed_admissions_helper_functions import prepare_snapshots_dict\n",
    "\n",
    "prob_dist_dict_all = {}\n",
    "# Process each time of day\n",
    "for prediction_time_ in prediction_times[3:4]:\n",
    "\n",
    "    print(\"\\nProcessing :\" + str(prediction_time_))\n",
    "    \n",
    "    MODEL__ED_ADMISSIONS__NAME = get_model_name('ed_admission', prediction_time_)\n",
    "\n",
    "    # prepare data \n",
    "    X_test, y_test, model = prepare_for_inference(model_file_path, 'ed_admission', prediction_time = prediction_time_, data_path = full_path, single_snapshot_per_visit = False)\n",
    "    \n",
    "    # a check that might be useful\n",
    "    sum(visits.loc[(visits.training_validation_test == 'test') & (visits.prediction_time == prediction_time_), 'is_admitted']) == sum(y_test)\n",
    "\n",
    "    # select the horizon dates to include in the probability distribution, with the episode slices associated with them\n",
    "    snapshots_dict = prepare_snapshots_dict(visits[(visits.training_validation_test == 'test') & (visits.prediction_time == prediction_time_)])\n",
    "    \n",
    "    # get probability distribution for this time of day\n",
    "    prob_dist_dict_all[MODEL__ED_ADMISSIONS__NAME] = get_prob_dist(\n",
    "            snapshots_dict, X_test, y_test, model\n",
    "        )\n",
    "    \n",
    "    # # use model name in the path for saving the prob dist\n",
    "    # full_path = prob_dist_file_path / MODEL__ED_ADMISSIONS__NAME \n",
    "    # full_path = full_path.with_suffix('.pickle')\n",
    "        \n",
    "    # with open(full_path, 'wb') as f:  # Note the 'wb' mode for binary writing\n",
    "    #     pickle.dump(prob_dist_dict_all[MODEL__ED_ADMISSIONS__NAME], f)\n",
    "    \n",
    "    \n",
    "    \n",
    "    \n",
    "    "
   ]
  },
  {
   "cell_type": "markdown",
   "id": "aa2c9809-059a-4380-bb3d-7022cc7e4181",
   "metadata": {},
   "source": [
    "## Plot one horizon date as an example"
   ]
  },
  {
   "cell_type": "code",
   "execution_count": null,
   "id": "59f981b6-ac04-4fc5-8539-5b9068f0f2c4",
   "metadata": {
    "execution": {
     "iopub.execute_input": "2024-05-03T17:33:20.491637Z",
     "iopub.status.busy": "2024-05-03T17:33:20.491090Z",
     "iopub.status.idle": "2024-05-03T17:33:20.657084Z",
     "shell.execute_reply": "2024-05-03T17:33:20.656084Z",
     "shell.execute_reply.started": "2024-05-03T17:33:20.491602Z"
    },
    "tags": []
   },
   "outputs": [],
   "source": [
    "dt = list(snapshots_dict.keys())[0]\n",
    "# with open(full_path, 'rb') as f:  # Note the 'wb' mode for binary writing\n",
    "#     prob_dist_dict_all[MODEL__ED_ADMISSIONS__NAME] = pickle.load( f)\n",
    "\n",
    "from viz.prob_dist_plot import prob_dist_plot\n",
    "\n",
    "title_ = f'Probability distribution for beds needed in time window for patients in ED at {dt} {MODEL__ED_ADMISSIONS__NAME[-4:]}'\n",
    "prob_dist_plot(prob_dist_data=prob_dist_dict_all[MODEL__ED_ADMISSIONS__NAME][dt]['pred_demand'], title_=title_,  include_titles=True)"
   ]
  },
  {
   "cell_type": "markdown",
   "id": "5b0e8bab-c955-479a-94d9-8f58b95391f6",
   "metadata": {},
   "source": [
    "## Plot qq plot for each time of day"
   ]
  },
  {
   "cell_type": "code",
   "execution_count": 14,
   "id": "91476ea2-6323-4c88-9215-f0c60226f143",
   "metadata": {},
   "outputs": [
    {
     "data": {
      "text/plain": [
       "\u001b[0;31mSignature:\u001b[0m \u001b[0mqq_plot\u001b[0m\u001b[0;34m(\u001b[0m\u001b[0mprediction_moments\u001b[0m\u001b[0;34m,\u001b[0m \u001b[0mprob_dist_dict\u001b[0m\u001b[0;34m,\u001b[0m \u001b[0mtitle_\u001b[0m\u001b[0;34m)\u001b[0m\u001b[0;34m\u001b[0m\u001b[0;34m\u001b[0m\u001b[0m\n",
       "\u001b[0;31mSource:\u001b[0m   \n",
       "\u001b[0;32mdef\u001b[0m \u001b[0mqq_plot\u001b[0m\u001b[0;34m(\u001b[0m\u001b[0mprediction_moments\u001b[0m\u001b[0;34m,\u001b[0m \u001b[0mprob_dist_dict\u001b[0m\u001b[0;34m,\u001b[0m \u001b[0mtitle_\u001b[0m\u001b[0;34m)\u001b[0m\u001b[0;34m:\u001b[0m\u001b[0;34m\u001b[0m\n",
       "\u001b[0;34m\u001b[0m    \u001b[0;34m\"\"\"\u001b[0m\n",
       "\u001b[0;34m    Generate a QQ plot comparing observed values with model predictions.\u001b[0m\n",
       "\u001b[0;34m\u001b[0m\n",
       "\u001b[0;34m    The function aggregates the predicted and observed distributions, calculates their CDF (Cumulative Distribution Function),\u001b[0m\n",
       "\u001b[0;34m    and plots the observed CDF against the predicted CDF to visualize the accuracy of the predictions.\u001b[0m\n",
       "\u001b[0;34m\u001b[0m\n",
       "\u001b[0;34m    Parameters:\u001b[0m\n",
       "\u001b[0;34m    - prediction_moments (list): A list of time points of interest.\u001b[0m\n",
       "\u001b[0;34m    - prob_dist_dict (dict): A nested dictionary containing predicted and actual demands for each time point.\u001b[0m\n",
       "\u001b[0;34m      The structure is {time_point: {'pred_demand': pd.DataFrame of predicted value, 'actual_demand': integer}}.\u001b[0m\n",
       "\u001b[0;34m    - title_ (str): Title for the plot.\u001b[0m\n",
       "\u001b[0;34m\u001b[0m\n",
       "\u001b[0;34m    Returns:\u001b[0m\n",
       "\u001b[0;34m    - matplotlib.figure.Figure: A figure object containing the QQ plot.\u001b[0m\n",
       "\u001b[0;34m    \"\"\"\u001b[0m\u001b[0;34m\u001b[0m\n",
       "\u001b[0;34m\u001b[0m\u001b[0;34m\u001b[0m\n",
       "\u001b[0;34m\u001b[0m    \u001b[0;31m# Initialize lists to store CDF and observed data\u001b[0m\u001b[0;34m\u001b[0m\n",
       "\u001b[0;34m\u001b[0m    \u001b[0mcdf_data\u001b[0m \u001b[0;34m=\u001b[0m \u001b[0;34m[\u001b[0m\u001b[0;34m]\u001b[0m\u001b[0;34m\u001b[0m\n",
       "\u001b[0;34m\u001b[0m    \u001b[0mobserved_data\u001b[0m \u001b[0;34m=\u001b[0m \u001b[0;34m[\u001b[0m\u001b[0;34m]\u001b[0m\u001b[0;34m\u001b[0m\n",
       "\u001b[0;34m\u001b[0m\u001b[0;34m\u001b[0m\n",
       "\u001b[0;34m\u001b[0m    \u001b[0;31m# Loop through each time point to process predicted and observed data\u001b[0m\u001b[0;34m\u001b[0m\n",
       "\u001b[0;34m\u001b[0m    \u001b[0;32mfor\u001b[0m \u001b[0mdt\u001b[0m \u001b[0;32min\u001b[0m \u001b[0mprediction_moments\u001b[0m\u001b[0;34m:\u001b[0m\u001b[0;34m\u001b[0m\n",
       "\u001b[0;34m\u001b[0m        \u001b[0;31m# Check if there is data for the current time point\u001b[0m\u001b[0;34m\u001b[0m\n",
       "\u001b[0;34m\u001b[0m        \u001b[0;32mif\u001b[0m \u001b[0mdt\u001b[0m \u001b[0;32min\u001b[0m \u001b[0mprob_dist_dict\u001b[0m\u001b[0;34m:\u001b[0m\u001b[0;34m\u001b[0m\n",
       "\u001b[0;34m\u001b[0m            \u001b[0;31m# Extract predicted demand and actual demand\u001b[0m\u001b[0;34m\u001b[0m\n",
       "\u001b[0;34m\u001b[0m            \u001b[0mpred_demand\u001b[0m \u001b[0;34m=\u001b[0m \u001b[0mnp\u001b[0m\u001b[0;34m.\u001b[0m\u001b[0marray\u001b[0m\u001b[0;34m(\u001b[0m\u001b[0mprob_dist_dict\u001b[0m\u001b[0;34m[\u001b[0m\u001b[0mdt\u001b[0m\u001b[0;34m]\u001b[0m\u001b[0;34m[\u001b[0m\u001b[0;34m\"pred_demand\"\u001b[0m\u001b[0;34m]\u001b[0m\u001b[0;34m)\u001b[0m\u001b[0;34m\u001b[0m\n",
       "\u001b[0;34m\u001b[0m            \u001b[0mactual_demand\u001b[0m \u001b[0;34m=\u001b[0m \u001b[0mprob_dist_dict\u001b[0m\u001b[0;34m[\u001b[0m\u001b[0mdt\u001b[0m\u001b[0;34m]\u001b[0m\u001b[0;34m[\u001b[0m\u001b[0;34m\"actual_demand\"\u001b[0m\u001b[0;34m]\u001b[0m\u001b[0;34m\u001b[0m\n",
       "\u001b[0;34m\u001b[0m\u001b[0;34m\u001b[0m\n",
       "\u001b[0;34m\u001b[0m            \u001b[0;31m# Calculate the CDF for predicted demand\u001b[0m\u001b[0;34m\u001b[0m\n",
       "\u001b[0;34m\u001b[0m            \u001b[0mupper\u001b[0m \u001b[0;34m=\u001b[0m \u001b[0mpred_demand\u001b[0m\u001b[0;34m.\u001b[0m\u001b[0mcumsum\u001b[0m\u001b[0;34m(\u001b[0m\u001b[0;34m)\u001b[0m\u001b[0;34m\u001b[0m\n",
       "\u001b[0;34m\u001b[0m            \u001b[0mlower\u001b[0m \u001b[0;34m=\u001b[0m \u001b[0mnp\u001b[0m\u001b[0;34m.\u001b[0m\u001b[0mhstack\u001b[0m\u001b[0;34m(\u001b[0m\u001b[0;34m(\u001b[0m\u001b[0;36m0\u001b[0m\u001b[0;34m,\u001b[0m \u001b[0mupper\u001b[0m\u001b[0;34m[\u001b[0m\u001b[0;34m:\u001b[0m\u001b[0;34m-\u001b[0m\u001b[0;36m1\u001b[0m\u001b[0;34m]\u001b[0m\u001b[0;34m)\u001b[0m\u001b[0;34m)\u001b[0m\u001b[0;34m\u001b[0m\n",
       "\u001b[0;34m\u001b[0m            \u001b[0mmid\u001b[0m \u001b[0;34m=\u001b[0m \u001b[0;34m(\u001b[0m\u001b[0mupper\u001b[0m \u001b[0;34m+\u001b[0m \u001b[0mlower\u001b[0m\u001b[0;34m)\u001b[0m \u001b[0;34m/\u001b[0m \u001b[0;36m2\u001b[0m\u001b[0;34m\u001b[0m\n",
       "\u001b[0;34m\u001b[0m\u001b[0;34m\u001b[0m\n",
       "\u001b[0;34m\u001b[0m            \u001b[0;31m# Collect the CDF data and the observed data point\u001b[0m\u001b[0;34m\u001b[0m\n",
       "\u001b[0;34m\u001b[0m            \u001b[0mcdf_data\u001b[0m\u001b[0;34m.\u001b[0m\u001b[0mappend\u001b[0m\u001b[0;34m(\u001b[0m\u001b[0mnp\u001b[0m\u001b[0;34m.\u001b[0m\u001b[0mcolumn_stack\u001b[0m\u001b[0;34m(\u001b[0m\u001b[0;34m(\u001b[0m\u001b[0mupper\u001b[0m\u001b[0;34m,\u001b[0m \u001b[0mlower\u001b[0m\u001b[0;34m,\u001b[0m \u001b[0mmid\u001b[0m\u001b[0;34m,\u001b[0m \u001b[0mpred_demand\u001b[0m\u001b[0;34m)\u001b[0m\u001b[0;34m)\u001b[0m\u001b[0;34m)\u001b[0m\u001b[0;34m\u001b[0m\n",
       "\u001b[0;34m\u001b[0m            \u001b[0mobserved_data\u001b[0m\u001b[0;34m.\u001b[0m\u001b[0mappend\u001b[0m\u001b[0;34m(\u001b[0m\u001b[0;34m\u001b[0m\n",
       "\u001b[0;34m\u001b[0m                \u001b[0mmid\u001b[0m\u001b[0;34m[\u001b[0m\u001b[0mactual_demand\u001b[0m\u001b[0;34m]\u001b[0m\u001b[0;34m\u001b[0m\n",
       "\u001b[0;34m\u001b[0m            \u001b[0;34m)\u001b[0m  \u001b[0;31m# CDF value at the observed admission count\u001b[0m\u001b[0;34m\u001b[0m\n",
       "\u001b[0;34m\u001b[0m\u001b[0;34m\u001b[0m\n",
       "\u001b[0;34m\u001b[0m    \u001b[0;31m# Return None if there is no data to plot\u001b[0m\u001b[0;34m\u001b[0m\n",
       "\u001b[0;34m\u001b[0m    \u001b[0;32mif\u001b[0m \u001b[0;32mnot\u001b[0m \u001b[0mcdf_data\u001b[0m\u001b[0;34m:\u001b[0m\u001b[0;34m\u001b[0m\n",
       "\u001b[0;34m\u001b[0m        \u001b[0;32mreturn\u001b[0m \u001b[0;32mNone\u001b[0m\u001b[0;34m\u001b[0m\n",
       "\u001b[0;34m\u001b[0m\u001b[0;34m\u001b[0m\n",
       "\u001b[0;34m\u001b[0m    \u001b[0;31m# Consolidate CDF data and prepare the dataframe for model predictions\u001b[0m\u001b[0;34m\u001b[0m\n",
       "\u001b[0;34m\u001b[0m    \u001b[0mcdf_data\u001b[0m \u001b[0;34m=\u001b[0m \u001b[0mnp\u001b[0m\u001b[0;34m.\u001b[0m\u001b[0mvstack\u001b[0m\u001b[0;34m(\u001b[0m\u001b[0mcdf_data\u001b[0m\u001b[0;34m)\u001b[0m\u001b[0;34m\u001b[0m\n",
       "\u001b[0;34m\u001b[0m    \u001b[0mqq_model\u001b[0m \u001b[0;34m=\u001b[0m \u001b[0mpd\u001b[0m\u001b[0;34m.\u001b[0m\u001b[0mDataFrame\u001b[0m\u001b[0;34m(\u001b[0m\u001b[0;34m\u001b[0m\n",
       "\u001b[0;34m\u001b[0m        \u001b[0mcdf_data\u001b[0m\u001b[0;34m,\u001b[0m \u001b[0mcolumns\u001b[0m\u001b[0;34m=\u001b[0m\u001b[0;34m[\u001b[0m\u001b[0;34m\"cdf_upper\"\u001b[0m\u001b[0;34m,\u001b[0m \u001b[0;34m\"cdf_mid\"\u001b[0m\u001b[0;34m,\u001b[0m \u001b[0;34m\"cdf_lower\"\u001b[0m\u001b[0;34m,\u001b[0m \u001b[0;34m\"weights\"\u001b[0m\u001b[0;34m]\u001b[0m\u001b[0;34m\u001b[0m\n",
       "\u001b[0;34m\u001b[0m    \u001b[0;34m)\u001b[0m\u001b[0;34m\u001b[0m\n",
       "\u001b[0;34m\u001b[0m    \u001b[0mqq_model\u001b[0m \u001b[0;34m=\u001b[0m \u001b[0mqq_model\u001b[0m\u001b[0;34m.\u001b[0m\u001b[0msort_values\u001b[0m\u001b[0;34m(\u001b[0m\u001b[0;34m\"cdf_mid\"\u001b[0m\u001b[0;34m)\u001b[0m\u001b[0;34m\u001b[0m\n",
       "\u001b[0;34m\u001b[0m    \u001b[0mqq_model\u001b[0m\u001b[0;34m[\u001b[0m\u001b[0;34m\"cum_weight\"\u001b[0m\u001b[0;34m]\u001b[0m \u001b[0;34m=\u001b[0m \u001b[0mqq_model\u001b[0m\u001b[0;34m[\u001b[0m\u001b[0;34m\"weights\"\u001b[0m\u001b[0;34m]\u001b[0m\u001b[0;34m.\u001b[0m\u001b[0mcumsum\u001b[0m\u001b[0;34m(\u001b[0m\u001b[0;34m)\u001b[0m\u001b[0;34m\u001b[0m\n",
       "\u001b[0;34m\u001b[0m    \u001b[0mqq_model\u001b[0m\u001b[0;34m[\u001b[0m\u001b[0;34m\"cum_weight_normed\"\u001b[0m\u001b[0;34m]\u001b[0m \u001b[0;34m=\u001b[0m \u001b[0mqq_model\u001b[0m\u001b[0;34m[\u001b[0m\u001b[0;34m\"cum_weight\"\u001b[0m\u001b[0;34m]\u001b[0m \u001b[0;34m/\u001b[0m \u001b[0mqq_model\u001b[0m\u001b[0;34m[\u001b[0m\u001b[0;34m\"weights\"\u001b[0m\u001b[0;34m]\u001b[0m\u001b[0;34m.\u001b[0m\u001b[0msum\u001b[0m\u001b[0;34m(\u001b[0m\u001b[0;34m)\u001b[0m\u001b[0;34m\u001b[0m\n",
       "\u001b[0;34m\u001b[0m\u001b[0;34m\u001b[0m\n",
       "\u001b[0;34m\u001b[0m    \u001b[0;31m# Prepare the observed data for plotting\u001b[0m\u001b[0;34m\u001b[0m\n",
       "\u001b[0;34m\u001b[0m    \u001b[0mqq_observed\u001b[0m \u001b[0;34m=\u001b[0m \u001b[0mpd\u001b[0m\u001b[0;34m.\u001b[0m\u001b[0mDataFrame\u001b[0m\u001b[0;34m(\u001b[0m\u001b[0mobserved_data\u001b[0m\u001b[0;34m,\u001b[0m \u001b[0mcolumns\u001b[0m\u001b[0;34m=\u001b[0m\u001b[0;34m[\u001b[0m\u001b[0;34m\"cdf_observed\"\u001b[0m\u001b[0;34m]\u001b[0m\u001b[0;34m)\u001b[0m\u001b[0;34m\u001b[0m\n",
       "\u001b[0;34m\u001b[0m    \u001b[0mqq_observed\u001b[0m \u001b[0;34m=\u001b[0m \u001b[0mqq_observed\u001b[0m\u001b[0;34m.\u001b[0m\u001b[0msort_values\u001b[0m\u001b[0;34m(\u001b[0m\u001b[0;34m\"cdf_observed\"\u001b[0m\u001b[0;34m)\u001b[0m\u001b[0;34m\u001b[0m\n",
       "\u001b[0;34m\u001b[0m    \u001b[0mqq_observed\u001b[0m\u001b[0;34m[\u001b[0m\u001b[0;34m\"weights\"\u001b[0m\u001b[0;34m]\u001b[0m \u001b[0;34m=\u001b[0m \u001b[0;36m1\u001b[0m \u001b[0;34m/\u001b[0m \u001b[0mlen\u001b[0m\u001b[0;34m(\u001b[0m\u001b[0mobserved_data\u001b[0m\u001b[0;34m)\u001b[0m\u001b[0;34m\u001b[0m\n",
       "\u001b[0;34m\u001b[0m    \u001b[0mqq_observed\u001b[0m\u001b[0;34m[\u001b[0m\u001b[0;34m\"cum_weight_normed\"\u001b[0m\u001b[0;34m]\u001b[0m \u001b[0;34m=\u001b[0m \u001b[0mqq_observed\u001b[0m\u001b[0;34m[\u001b[0m\u001b[0;34m\"weights\"\u001b[0m\u001b[0;34m]\u001b[0m\u001b[0;34m.\u001b[0m\u001b[0mcumsum\u001b[0m\u001b[0;34m(\u001b[0m\u001b[0;34m)\u001b[0m\u001b[0;34m\u001b[0m\n",
       "\u001b[0;34m\u001b[0m\u001b[0;34m\u001b[0m\n",
       "\u001b[0;34m\u001b[0m    \u001b[0;31m# Calculate the maximum model CDF value corresponding to each observed value\u001b[0m\u001b[0;34m\u001b[0m\n",
       "\u001b[0;34m\u001b[0m    \u001b[0mqq_observed\u001b[0m\u001b[0;34m[\u001b[0m\u001b[0;34m\"max_model_cdf_at_this_value\"\u001b[0m\u001b[0;34m]\u001b[0m \u001b[0;34m=\u001b[0m \u001b[0mqq_observed\u001b[0m\u001b[0;34m[\u001b[0m\u001b[0;34m\"cdf_observed\"\u001b[0m\u001b[0;34m]\u001b[0m\u001b[0;34m.\u001b[0m\u001b[0mapply\u001b[0m\u001b[0;34m(\u001b[0m\u001b[0;34m\u001b[0m\n",
       "\u001b[0;34m\u001b[0m        \u001b[0;32mlambda\u001b[0m \u001b[0mx\u001b[0m\u001b[0;34m:\u001b[0m \u001b[0mqq_model\u001b[0m\u001b[0;34m[\u001b[0m\u001b[0mqq_model\u001b[0m\u001b[0;34m[\u001b[0m\u001b[0;34m\"cdf_mid\"\u001b[0m\u001b[0;34m]\u001b[0m \u001b[0;34m<=\u001b[0m \u001b[0mx\u001b[0m\u001b[0;34m]\u001b[0m\u001b[0;34m[\u001b[0m\u001b[0;34m\"cum_weight_normed\"\u001b[0m\u001b[0;34m]\u001b[0m\u001b[0;34m.\u001b[0m\u001b[0mmax\u001b[0m\u001b[0;34m(\u001b[0m\u001b[0;34m)\u001b[0m\u001b[0;34m\u001b[0m\n",
       "\u001b[0;34m\u001b[0m    \u001b[0;34m)\u001b[0m\u001b[0;34m\u001b[0m\n",
       "\u001b[0;34m\u001b[0m\u001b[0;34m\u001b[0m\n",
       "\u001b[0;34m\u001b[0m    \u001b[0;31m# Plotting the QQ plot\u001b[0m\u001b[0;34m\u001b[0m\n",
       "\u001b[0;34m\u001b[0m    \u001b[0mfig\u001b[0m\u001b[0;34m,\u001b[0m \u001b[0max\u001b[0m \u001b[0;34m=\u001b[0m \u001b[0mplt\u001b[0m\u001b[0;34m.\u001b[0m\u001b[0msubplots\u001b[0m\u001b[0;34m(\u001b[0m\u001b[0;34m)\u001b[0m\u001b[0;34m\u001b[0m\n",
       "\u001b[0;34m\u001b[0m    \u001b[0max\u001b[0m\u001b[0;34m.\u001b[0m\u001b[0mplot\u001b[0m\u001b[0;34m(\u001b[0m\u001b[0;34m[\u001b[0m\u001b[0;36m0\u001b[0m\u001b[0;34m,\u001b[0m \u001b[0;36m1\u001b[0m\u001b[0;34m]\u001b[0m\u001b[0;34m,\u001b[0m \u001b[0;34m[\u001b[0m\u001b[0;36m0\u001b[0m\u001b[0;34m,\u001b[0m \u001b[0;36m1\u001b[0m\u001b[0;34m]\u001b[0m\u001b[0;34m,\u001b[0m \u001b[0mlinestyle\u001b[0m\u001b[0;34m=\u001b[0m\u001b[0;34m\"--\"\u001b[0m\u001b[0;34m)\u001b[0m  \u001b[0;31m# Reference line y=x\u001b[0m\u001b[0;34m\u001b[0m\n",
       "\u001b[0;34m\u001b[0m    \u001b[0max\u001b[0m\u001b[0;34m.\u001b[0m\u001b[0mplot\u001b[0m\u001b[0;34m(\u001b[0m\u001b[0;34m\u001b[0m\n",
       "\u001b[0;34m\u001b[0m        \u001b[0mqq_observed\u001b[0m\u001b[0;34m[\u001b[0m\u001b[0;34m\"max_model_cdf_at_this_value\"\u001b[0m\u001b[0;34m]\u001b[0m\u001b[0;34m,\u001b[0m\u001b[0;34m\u001b[0m\n",
       "\u001b[0;34m\u001b[0m        \u001b[0mqq_observed\u001b[0m\u001b[0;34m[\u001b[0m\u001b[0;34m\"cum_weight_normed\"\u001b[0m\u001b[0;34m]\u001b[0m\u001b[0;34m,\u001b[0m\u001b[0;34m\u001b[0m\n",
       "\u001b[0;34m\u001b[0m        \u001b[0mmarker\u001b[0m\u001b[0;34m=\u001b[0m\u001b[0;34m\".\"\u001b[0m\u001b[0;34m,\u001b[0m\u001b[0;34m\u001b[0m\n",
       "\u001b[0;34m\u001b[0m        \u001b[0mlinewidth\u001b[0m\u001b[0;34m=\u001b[0m\u001b[0;36m0\u001b[0m\u001b[0;34m,\u001b[0m\u001b[0;34m\u001b[0m\n",
       "\u001b[0;34m\u001b[0m    \u001b[0;34m)\u001b[0m\u001b[0;34m\u001b[0m\n",
       "\u001b[0;34m\u001b[0m    \u001b[0max\u001b[0m\u001b[0;34m.\u001b[0m\u001b[0mset_xlabel\u001b[0m\u001b[0;34m(\u001b[0m\u001b[0;34m\"Cdf of model distribution\"\u001b[0m\u001b[0;34m)\u001b[0m\u001b[0;34m\u001b[0m\n",
       "\u001b[0;34m\u001b[0m    \u001b[0max\u001b[0m\u001b[0;34m.\u001b[0m\u001b[0mset_ylabel\u001b[0m\u001b[0;34m(\u001b[0m\u001b[0;34m\"Cdf of observed distribution\"\u001b[0m\u001b[0;34m)\u001b[0m\u001b[0;34m\u001b[0m\n",
       "\u001b[0;34m\u001b[0m    \u001b[0mplt\u001b[0m\u001b[0;34m.\u001b[0m\u001b[0mtitle\u001b[0m\u001b[0;34m(\u001b[0m\u001b[0mtitle_\u001b[0m\u001b[0;34m)\u001b[0m\u001b[0;34m\u001b[0m\n",
       "\u001b[0;34m\u001b[0m\u001b[0;34m\u001b[0m\n",
       "\u001b[0;34m\u001b[0m    \u001b[0;32mreturn\u001b[0m \u001b[0mfig\u001b[0m  \u001b[0;31m# Return the figure object containing the QQ plot\u001b[0m\u001b[0;34m\u001b[0m\u001b[0;34m\u001b[0m\u001b[0m\n",
       "\u001b[0;31mFile:\u001b[0m      ~/work/patientflow/src/patientflow/viz/qq_plot.py\n",
       "\u001b[0;31mType:\u001b[0m      function"
      ]
     },
     "metadata": {},
     "output_type": "display_data"
    }
   ],
   "source": [
    "??qq_plot\n"
   ]
  },
  {
   "cell_type": "code",
   "execution_count": 18,
   "id": "3cd82a18-ce23-45f8-bb7b-c1a3496e70d9",
   "metadata": {
    "tags": []
   },
   "outputs": [
    {
     "name": "stdout",
     "output_type": "stream",
     "text": [
      "\n",
      "Processing :(15, 30)\n",
      "ed_admission_1530\n"
     ]
    },
    {
     "data": {
      "image/png": "[encoded data removed]",
      "text/plain": [
       "<Figure size 640x480 with 1 Axes>"
      ]
     },
     "metadata": {},
     "output_type": "display_data"
    }
   ],
   "source": [
    "from viz.qq_plot import qq_plot\n",
    "\n",
    "for prediction_time_ in prediction_times[3:4]:\n",
    "\n",
    "    print(\"\\nProcessing :\" + str(prediction_time_))\n",
    "    \n",
    "    # retrieve a name for the model based on the time of day it is trained for\n",
    "    hour_, min_ = prediction_time_\n",
    "    min_ = f\"{min_}0\" if min_ % 60 == 0 else str(min_)\n",
    "    MODEL__ED_ADMISSIONS__NAME = 'ed_admission_' + f\"{hour_:02}\" + min_\n",
    "    print(MODEL__ED_ADMISSIONS__NAME)\n",
    "    \n",
    "    title_ = 'Q-Q Plot for emergency demand predictions at ' + f\"{hour_:02}\" + min_\n",
    "\n",
    "    plt = qq_plot(snapshots_dict.keys(), prob_dist_dict_all[MODEL__ED_ADMISSIONS__NAME], title_)\n",
    "    \n",
    "    # use model name in the path for saving the plot\n",
    "    qq_plot_path = media_file_path / MODEL__ED_ADMISSIONS__NAME \n",
    "    qq_plot_path = qq_plot_path.with_suffix('.png')\n",
    "    \n",
    "    plt.savefig(qq_plot_path)\n",
    "        \n"
   ]
  },
  {
   "cell_type": "markdown",
   "id": "87f7b1c0-4551-4a26-a682-50bad722c636",
   "metadata": {},
   "source": [
    "## Applying a time window\n",
    "\n",
    "So far, we have created a probability distribution for the number of beds needed at some point, by the set of patients currently in ED. Now consider that we want to predict bed demand within a time window of x hours. \n",
    "\n",
    "At the time of prediction, a patient might have just arrived, or might have already been in the ED for some hours. Their probability of being admitted within x hours is different depending how long they have been in the department already. "
   ]
  },
  {
   "cell_type": "code",
   "execution_count": null,
   "id": "862c8493-e7d0-46c4-9137-3db2073fb6dc",
   "metadata": {
    "execution": {
     "iopub.execute_input": "2024-05-03T17:39:04.863331Z",
     "iopub.status.busy": "2024-05-03T17:39:04.862684Z",
     "iopub.status.idle": "2024-05-03T17:59:36.101743Z",
     "shell.execute_reply": "2024-05-03T17:59:36.100552Z",
     "shell.execute_reply.started": "2024-05-03T17:39:04.863280Z"
    },
    "tags": []
   },
   "outputs": [],
   "source": [
    "from ed_admissions_helper_functions import prepare_for_inference, get_model_name\n",
    "PATH_ED = 'HyMind/dissemination/data-raw/ED_visits.csv'\n",
    "from predict.emergency_demand.from_individual_probs import get_prob_dist\n",
    "\n",
    "from ed_admissions_helper_functions import prepare_snapshots_dict\n",
    "from predict.emergency_demand.admission_in_time_window_using_aspirational_curve import create_curve, calculate_probability\n",
    "\n",
    "\n",
    "prob_dist_dict_all_in_window = {}\n",
    "# Process each time of day\n",
    "for prediction_time_ in prediction_times:\n",
    "\n",
    "    print(\"\\nProcessing :\" + str(prediction_time_))\n",
    "    \n",
    "    MODEL__ED_ADMISSIONS__NAME = get_model_name('ed_admission', prediction_time_)\n",
    "\n",
    "    # prepare data \n",
    "    X_test, y_test, model = prepare_for_inference(model_file_path, 'ed_admission', prediction_time = prediction_time_, data_path = PATH_ED, single_snapshot_per_visit = False)\n",
    "    \n",
    "    # a check that might be useful\n",
    "    sum(visits.loc[(visits.training_validation_test == 'test') & (visits.prediction_time == prediction_time_), 'is_admitted']) == sum(y_test)\n",
    "    \n",
    "    X_test_admission_in_window_prob = X_test[['elapsed_los']].copy()\n",
    "\n",
    "    time_window_hrs = config['time_window']/60\n",
    "    X_test_admission_in_window_prob['elapsed_los_hrs'] = X_test_admission_in_window_prob['elapsed_los']/3600\n",
    "\n",
    "    # get probability of admission within time window\n",
    "    weights = X_test_admission_in_window_prob.apply(lambda row: calculate_probability(row['elapsed_los_hrs'], time_window_hrs, x1 = 4, y1 = 0.76, x2 = 12, y2 = .99), axis=1)\n",
    "\n",
    "    # select the horizon dates to include in the probability distribution, with the episode slices associated with them\n",
    "    snapshots_dict = prepare_snapshots_dict(visits[(visits.training_validation_test == 'test') & (visits.prediction_time == prediction_time_)])\n",
    "    \n",
    "    # get probability distribution for this time of day\n",
    "    prob_dist_dict_all_in_window[MODEL__ED_ADMISSIONS__NAME] = get_prob_dist(\n",
    "            snapshots_dict, X_test, y_test, model, weights = weights\n",
    "        )\n",
    "    \n",
    "    # use model name in the path for saving the prob dist\n",
    "    full_path = prob_dist_file_path / str(MODEL__ED_ADMISSIONS__NAME + '_in_time_window')\n",
    "    full_path = full_path.with_suffix('.pickle')\n",
    "        \n",
    "    with open(full_path, 'wb') as f:  # Note the 'wb' mode for binary writing\n",
    "        pickle.dump(prob_dist_dict_all_in_window[MODEL__ED_ADMISSIONS__NAME], f)\n",
    "    \n",
    "    \n",
    "    "
   ]
  },
  {
   "cell_type": "markdown",
   "id": "cf1a0909-bb2c-499b-8c90-0e5ac9338f44",
   "metadata": {},
   "source": [
    "## Compare one horizon date with and without admission in time window"
   ]
  },
  {
   "cell_type": "code",
   "execution_count": null,
   "id": "08b5290f-f89b-4922-a5bb-76fa932a6373",
   "metadata": {
    "execution": {
     "iopub.execute_input": "2024-05-04T12:19:59.770446Z",
     "iopub.status.busy": "2024-05-04T12:19:59.769845Z",
     "iopub.status.idle": "2024-05-04T12:19:59.833903Z",
     "shell.execute_reply": "2024-05-04T12:19:59.832104Z",
     "shell.execute_reply.started": "2024-05-04T12:19:59.770398Z"
    }
   },
   "outputs": [],
   "source": [
    "full_path"
   ]
  },
  {
   "cell_type": "code",
   "execution_count": null,
   "id": "72a6f146-cfe3-4c4e-aa13-5bbbfb8635d8",
   "metadata": {
    "execution": {
     "iopub.execute_input": "2024-05-04T12:22:15.941106Z",
     "iopub.status.busy": "2024-05-04T12:22:15.940537Z",
     "iopub.status.idle": "2024-05-04T12:22:16.810191Z",
     "shell.execute_reply": "2024-05-04T12:22:16.809192Z",
     "shell.execute_reply.started": "2024-05-04T12:22:15.941070Z"
    },
    "tags": []
   },
   "outputs": [],
   "source": [
    "dt = list(snapshots_dict.keys())[0]\n",
    "with open('/data/hymind/home/zella/HyMind/dissemination/model-output/probability-distributions/ed_admission_2200.pickle', 'rb') as f:  # Note the 'wb' mode for binary writing\n",
    "    prob_dict = pickle.load( f)\n",
    "    \n",
    "with open('/data/hymind/home/zella/HyMind/dissemination/model-output/probability-distributions/ed_admission_2200_in_time_window.pickle', 'rb') as f:  # Note the 'wb' mode for binary writing\n",
    "    prob_dict_in_window = pickle.load( f)\n",
    "\n",
    "from viz.prob_dist_plot import prob_dist_plot\n",
    "\n",
    "prediction_time_ = prediction_times[-1]\n",
    "MODEL__ED_ADMISSIONS__NAME = get_model_name('ed_admission', prediction_time_)\n",
    "\n",
    "title_ = f'Probability distribution for beds needed for patients in ED at {dt} {MODEL__ED_ADMISSIONS__NAME[-4:]}'\n",
    "prob_dist_plot(prob_dict[dt]['pred_demand'], title_=title_,  include_titles=True)\n",
    "\n",
    "title_ = f'Probability distribution for beds needed in time window for patients in ED at {dt} {MODEL__ED_ADMISSIONS__NAME[-4:]}'\n",
    "prob_dist_plot(prob_dict_in_window[dt]['pred_demand'], title_=title_,  include_titles=True)"
   ]
  },
  {
   "cell_type": "code",
   "execution_count": null,
   "id": "267a70f5-0b36-4d3a-a426-b1a6bcadebfc",
   "metadata": {
    "execution": {
     "iopub.execute_input": "2024-05-03T18:04:00.499318Z",
     "iopub.status.busy": "2024-05-03T18:04:00.498625Z",
     "iopub.status.idle": "2024-05-03T18:04:00.599918Z",
     "shell.execute_reply": "2024-05-03T18:04:00.598746Z",
     "shell.execute_reply.started": "2024-05-03T18:04:00.499269Z"
    }
   },
   "outputs": [],
   "source": [
    "weights"
   ]
  },
  {
   "cell_type": "code",
   "execution_count": null,
   "id": "396f576c-7bc9-42fc-b5ac-9acdd8921b46",
   "metadata": {},
   "outputs": [],
   "source": []
  }
 ],
 "metadata": {
  "kernelspec": {
   "display_name": "Python 3 (ipykernel)",
   "language": "python",
   "name": "python3"
  },
  "language_info": {
   "codemirror_mode": {
    "name": "ipython",
    "version": 3
   },
   "file_extension": ".py",
   "mimetype": "text/x-python",
   "name": "python",
   "nbconvert_exporter": "python",
   "pygments_lexer": "ipython3",
   "version": "3.12.3"
  }
 },
 "nbformat": 4,
 "nbformat_minor": 5
}
