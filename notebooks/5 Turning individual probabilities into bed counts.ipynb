{
 "cells": [
  {
   "cell_type": "markdown",
   "id": "b25b74cf-7d86-4196-90be-8362038cff69",
   "metadata": {},
   "source": [
    "# Predict  aggregate demand for beds\n",
    "\n",
    "At set times of day, we want to know how many beds will be needed for patients in the ED at that time\n",
    "\n",
    "For aggregation\n",
    "- evaluation is done for times of day agreed with users"
   ]
  },
  {
   "cell_type": "markdown",
   "id": "d49f32df-9f33-45c4-89ab-8663d7c32301",
   "metadata": {},
   "source": [
    "## Set up the notebook environment"
   ]
  },
  {
   "cell_type": "code",
   "execution_count": null,
   "id": "1dddd7fe-729f-4b6b-a05d-ab2547b1f180",
   "metadata": {
    "execution": {
     "iopub.execute_input": "2024-04-18T10:54:21.074561Z",
     "iopub.status.busy": "2024-04-18T10:54:21.074150Z",
     "iopub.status.idle": "2024-04-18T10:54:21.153086Z",
     "shell.execute_reply": "2024-04-18T10:54:21.151646Z",
     "shell.execute_reply.started": "2024-04-18T10:54:21.074521Z"
    },
    "tags": []
   },
   "outputs": [],
   "source": [
    "# Reload functions every time\n",
    "%load_ext autoreload \n",
    "%autoreload 2"
   ]
  },
  {
   "cell_type": "code",
   "execution_count": 1,
   "id": "56ed8f2f-4f5d-47b5-bfab-71235e27b45b",
   "metadata": {
    "tags": []
   },
   "outputs": [],
   "source": [
    "from pathlib import Path\n",
    "import sys\n",
    "import json\n",
    "import pickle\n",
    "\n",
    "\n",
    "PROJECT_ROOT = Path().home() / 'HyMind'\n",
    "\n",
    "# Patient flow package\n",
    "USER_ROOT = Path().home() / 'work'\n",
    "\n",
    "sys.path.append(str(USER_ROOT / 'patientflow' / 'src' / 'patientflow'))\n",
    "sys.path.append(str(USER_ROOT / 'patientflow' / 'functions'))\n",
    "\n",
    "\n"
   ]
  },
  {
   "cell_type": "code",
   "execution_count": null,
   "id": "0e5e829d-18df-4701-9b88-ff3c4e2facda",
   "metadata": {
    "execution": {
     "iopub.execute_input": "2024-04-18T10:54:22.015002Z",
     "iopub.status.busy": "2024-04-18T10:54:22.014620Z",
     "iopub.status.idle": "2024-04-18T10:54:22.039931Z",
     "shell.execute_reply": "2024-04-18T10:54:22.038489Z",
     "shell.execute_reply.started": "2024-04-18T10:54:22.014969Z"
    },
    "tags": []
   },
   "outputs": [],
   "source": [
    "model_file_path = PROJECT_ROOT /'data' / 'ed-predictor' / 'trained-models'\n",
    "model_file_path\n",
    "\n",
    "data_file_path = USER_ROOT / 'ed-predictor' / 'data-raw'\n",
    "data_file_path"
   ]
  },
  {
   "cell_type": "markdown",
   "id": "d9d66370-bcbe-4b95-bd03-ce8e32fb6ff9",
   "metadata": {},
   "source": [
    "## Load parameters\n",
    "\n",
    "These are set in config.json. You can change these for your own purposes. But the times of day will need to match those in the provided dataset if you want to run this notebook successfully."
   ]
  },
  {
   "cell_type": "code",
   "execution_count": 2,
   "id": "d2bcac22-aeab-4e44-a886-ba5c13255f6e",
   "metadata": {
    "tags": []
   },
   "outputs": [
    {
     "ename": "FileNotFoundError",
     "evalue": "[Errno 2] No such file or directory: '/home/jovyan/patientflow/config.yaml'",
     "output_type": "error",
     "traceback": [
      "\u001b[0;31m---------------------------------------------------------------------------\u001b[0m",
      "\u001b[0;31mFileNotFoundError\u001b[0m                         Traceback (most recent call last)",
      "Cell \u001b[0;32mIn[2], line 6\u001b[0m\n\u001b[1;32m      2\u001b[0m \u001b[38;5;28;01mimport\u001b[39;00m \u001b[38;5;21;01myaml\u001b[39;00m\n\u001b[1;32m      4\u001b[0m config_path \u001b[38;5;241m=\u001b[39m Path(USER_ROOT \u001b[38;5;241m/\u001b[39m \u001b[38;5;124m'\u001b[39m\u001b[38;5;124mpatientflow\u001b[39m\u001b[38;5;124m'\u001b[39m)\n\u001b[0;32m----> 6\u001b[0m \u001b[38;5;28;01mwith\u001b[39;00m \u001b[38;5;28;43mopen\u001b[39;49m\u001b[43m(\u001b[49m\u001b[43mconfig_path\u001b[49m\u001b[43m \u001b[49m\u001b[38;5;241;43m/\u001b[39;49m\u001b[43m \u001b[49m\u001b[38;5;124;43m'\u001b[39;49m\u001b[38;5;124;43mconfig.yaml\u001b[39;49m\u001b[38;5;124;43m'\u001b[39;49m\u001b[43m,\u001b[49m\u001b[43m \u001b[49m\u001b[38;5;124;43m'\u001b[39;49m\u001b[38;5;124;43mr\u001b[39;49m\u001b[38;5;124;43m'\u001b[39;49m\u001b[43m)\u001b[49m \u001b[38;5;28;01mas\u001b[39;00m file:\n\u001b[1;32m      7\u001b[0m     config \u001b[38;5;241m=\u001b[39m yaml\u001b[38;5;241m.\u001b[39msafe_load(file)\n\u001b[1;32m      9\u001b[0m \u001b[38;5;66;03m# Convert list of times of day at which predictions will be made (currently stored as lists) to list of tuples\u001b[39;00m\n",
      "File \u001b[0;32m/opt/conda/lib/python3.11/site-packages/IPython/core/interactiveshell.py:324\u001b[0m, in \u001b[0;36m_modified_open\u001b[0;34m(file, *args, **kwargs)\u001b[0m\n\u001b[1;32m    317\u001b[0m \u001b[38;5;28;01mif\u001b[39;00m file \u001b[38;5;129;01min\u001b[39;00m {\u001b[38;5;241m0\u001b[39m, \u001b[38;5;241m1\u001b[39m, \u001b[38;5;241m2\u001b[39m}:\n\u001b[1;32m    318\u001b[0m     \u001b[38;5;28;01mraise\u001b[39;00m \u001b[38;5;167;01mValueError\u001b[39;00m(\n\u001b[1;32m    319\u001b[0m         \u001b[38;5;124mf\u001b[39m\u001b[38;5;124m\"\u001b[39m\u001b[38;5;124mIPython won\u001b[39m\u001b[38;5;124m'\u001b[39m\u001b[38;5;124mt let you open fd=\u001b[39m\u001b[38;5;132;01m{\u001b[39;00mfile\u001b[38;5;132;01m}\u001b[39;00m\u001b[38;5;124m by default \u001b[39m\u001b[38;5;124m\"\u001b[39m\n\u001b[1;32m    320\u001b[0m         \u001b[38;5;124m\"\u001b[39m\u001b[38;5;124mas it is likely to crash IPython. If you know what you are doing, \u001b[39m\u001b[38;5;124m\"\u001b[39m\n\u001b[1;32m    321\u001b[0m         \u001b[38;5;124m\"\u001b[39m\u001b[38;5;124myou can use builtins\u001b[39m\u001b[38;5;124m'\u001b[39m\u001b[38;5;124m open.\u001b[39m\u001b[38;5;124m\"\u001b[39m\n\u001b[1;32m    322\u001b[0m     )\n\u001b[0;32m--> 324\u001b[0m \u001b[38;5;28;01mreturn\u001b[39;00m \u001b[43mio_open\u001b[49m\u001b[43m(\u001b[49m\u001b[43mfile\u001b[49m\u001b[43m,\u001b[49m\u001b[43m \u001b[49m\u001b[38;5;241;43m*\u001b[39;49m\u001b[43margs\u001b[49m\u001b[43m,\u001b[49m\u001b[43m \u001b[49m\u001b[38;5;241;43m*\u001b[39;49m\u001b[38;5;241;43m*\u001b[39;49m\u001b[43mkwargs\u001b[49m\u001b[43m)\u001b[49m\n",
      "\u001b[0;31mFileNotFoundError\u001b[0m: [Errno 2] No such file or directory: '/home/jovyan/patientflow/config.yaml'"
     ]
    }
   ],
   "source": [
    "# Load the times of day\n",
    "import yaml\n",
    "\n",
    "config_path = Path(USER_ROOT / 'patientflow')\n",
    "\n",
    "with open(config_path / 'config.yaml', 'r') as file:\n",
    "    config = yaml.safe_load(file)\n",
    "    \n",
    "# Convert list of times of day at which predictions will be made (currently stored as lists) to list of tuples\n",
    "prediction_times = [tuple(item) for item in config['prediction_times']]\n",
    "\n",
    "# See the times of day at which predictions will be made\n",
    "prediction_times"
   ]
  },
  {
   "cell_type": "markdown",
   "id": "3458fc58-9456-4873-918d-efe92cf60e7f",
   "metadata": {
    "execution": {
     "iopub.execute_input": "2024-03-12T15:15:27.833741Z",
     "iopub.status.busy": "2024-03-12T15:15:27.833169Z",
     "iopub.status.idle": "2024-03-12T15:15:27.839751Z",
     "shell.execute_reply": "2024-03-12T15:15:27.838492Z",
     "shell.execute_reply.started": "2024-03-12T15:15:27.833704Z"
    }
   },
   "source": [
    "## Load data"
   ]
  },
  {
   "cell_type": "code",
   "execution_count": null,
   "id": "6facb49b-8906-4feb-9acf-2b43c945ecfe",
   "metadata": {
    "execution": {
     "iopub.execute_input": "2024-05-03T17:14:07.736088Z",
     "iopub.status.busy": "2024-05-03T17:14:07.735518Z",
     "iopub.status.idle": "2024-05-03T17:14:10.225799Z",
     "shell.execute_reply": "2024-05-03T17:14:10.224316Z",
     "shell.execute_reply.started": "2024-05-03T17:14:07.736051Z"
    },
    "tags": []
   },
   "outputs": [],
   "source": [
    "from ed_admissions_data_retrieval import ed_admissions_get_data\n",
    "PATH_ED = 'HyMind/dissemination/data-raw/ED_visits.csv'\n",
    "\n",
    "df = ed_admissions_get_data(PATH_ED)"
   ]
  },
  {
   "cell_type": "code",
   "execution_count": null,
   "id": "6458c759-851d-419f-a91b-924e3f49ae13",
   "metadata": {
    "execution": {
     "iopub.execute_input": "2024-05-03T17:14:17.254530Z",
     "iopub.status.busy": "2024-05-03T17:14:17.254115Z",
     "iopub.status.idle": "2024-05-03T17:14:17.335418Z",
     "shell.execute_reply": "2024-05-03T17:14:17.334054Z",
     "shell.execute_reply.started": "2024-05-03T17:14:17.254496Z"
    }
   },
   "outputs": [],
   "source": [
    "df.head()"
   ]
  },
  {
   "cell_type": "code",
   "execution_count": null,
   "id": "ee0720e3-5f5a-498e-a169-96a86619b2cc",
   "metadata": {
    "execution": {
     "iopub.execute_input": "2024-04-19T14:21:01.571522Z",
     "iopub.status.busy": "2024-04-19T14:21:01.570936Z",
     "iopub.status.idle": "2024-04-19T14:21:01.688759Z",
     "shell.execute_reply": "2024-04-19T14:21:01.683104Z",
     "shell.execute_reply.started": "2024-04-19T14:21:01.571484Z"
    }
   },
   "outputs": [],
   "source": [
    "print(df[(df.training_validation_test == 'test')].index)\n"
   ]
  },
  {
   "cell_type": "markdown",
   "id": "78a65f48-b128-4f83-a2f4-38a6f8592472",
   "metadata": {},
   "source": [
    "## Set an index column in df\n",
    "\n",
    "Setting the index as the episode_slice_id before subsetting means that we retain the same values of episode_slice_id throughout the entire process, ensuring that they are consistent across the original dataset df and the subsets train_df_single and test_df_single"
   ]
  },
  {
   "cell_type": "markdown",
   "id": "fb4dcb2b-2ee0-495a-ad4b-37c41cdeb316",
   "metadata": {},
   "source": [
    "After executing the code below, the episode_slice_id has been set as the index column."
   ]
  },
  {
   "cell_type": "code",
   "execution_count": null,
   "id": "8d945bf4-251c-4ec3-b243-468710b09b96",
   "metadata": {
    "execution": {
     "iopub.execute_input": "2024-05-03T17:14:33.085363Z",
     "iopub.status.busy": "2024-05-03T17:14:33.084330Z",
     "iopub.status.idle": "2024-05-03T17:14:33.241483Z",
     "shell.execute_reply": "2024-05-03T17:14:33.240462Z",
     "shell.execute_reply.started": "2024-05-03T17:14:33.085324Z"
    },
    "tags": []
   },
   "outputs": [],
   "source": [
    "if df.index.name != 'episode_slice_id':\n",
    "    df = df.set_index('episode_slice_id')\n"
   ]
  },
  {
   "cell_type": "code",
   "execution_count": null,
   "id": "201b87b8-72f9-42c7-8a29-49336a6f7365",
   "metadata": {
    "execution": {
     "iopub.execute_input": "2024-04-18T10:54:37.366685Z",
     "iopub.status.busy": "2024-04-18T10:54:37.366311Z",
     "iopub.status.idle": "2024-04-18T10:54:37.468375Z",
     "shell.execute_reply": "2024-04-18T10:54:37.467328Z",
     "shell.execute_reply.started": "2024-04-18T10:54:37.366611Z"
    },
    "tags": []
   },
   "outputs": [],
   "source": [
    "df.sort_values(['horizon_dt', 'prediction_time'], inplace = True)"
   ]
  },
  {
   "cell_type": "code",
   "execution_count": null,
   "id": "d61a7e86-c5db-48b7-a4a3-901798e90121",
   "metadata": {
    "execution": {
     "iopub.execute_input": "2024-04-18T10:54:37.469564Z",
     "iopub.status.busy": "2024-04-18T10:54:37.469277Z",
     "iopub.status.idle": "2024-04-18T10:54:37.591104Z",
     "shell.execute_reply": "2024-04-18T10:54:37.589973Z",
     "shell.execute_reply.started": "2024-04-18T10:54:37.469533Z"
    },
    "tags": []
   },
   "outputs": [],
   "source": [
    "df"
   ]
  },
  {
   "cell_type": "markdown",
   "id": "2db1f21d-d23e-4245-a511-8cd128d895b9",
   "metadata": {},
   "source": [
    "## Generate aggregate predictions for each time of day"
   ]
  },
  {
   "cell_type": "code",
   "execution_count": null,
   "id": "cb61b306-929a-4a72-af64-462dd6fd972e",
   "metadata": {
    "execution": {
     "iopub.execute_input": "2024-05-03T17:14:41.520734Z",
     "iopub.status.busy": "2024-05-03T17:14:41.519471Z",
     "iopub.status.idle": "2024-05-03T17:24:59.859734Z",
     "shell.execute_reply": "2024-05-03T17:24:59.858625Z",
     "shell.execute_reply.started": "2024-05-03T17:14:41.520691Z"
    },
    "tags": []
   },
   "outputs": [],
   "source": [
    "from ed_admissions_helper_functions import prepare_for_inference, get_model_name\n",
    "PATH_ED = 'HyMind/dissemination/data-raw/ED_visits.csv'\n",
    "from predict.emergency_demand.from_individual_probs import get_prob_dist\n",
    "\n",
    "from ed_admissions_helper_functions import prepare_episode_slices_dict\n",
    "\n",
    "prob_dist_dict_all = {}\n",
    "# Process each time of day\n",
    "for prediction_time_ in prediction_times:\n",
    "\n",
    "    print(\"\\nProcessing :\" + str(prediction_time_))\n",
    "    \n",
    "    MODEL__ED_ADMISSIONS__NAME = get_model_name('ed_admission', prediction_time_)\n",
    "\n",
    "    # prepare data \n",
    "    X_test, y_test, model = prepare_for_inference(model_file_path, 'ed_admission', prediction_time = prediction_time_, data_path = PATH_ED, single_episode_slice_per_visit = False)\n",
    "    \n",
    "    # a check that might be useful\n",
    "    sum(df.loc[(df.training_validation_test == 'test') & (df.prediction_time == prediction_time_), 'is_admitted']) == sum(y_test)\n",
    "\n",
    "    # select the horizon dates to include in the probability distribution, with the episode slices associated with them\n",
    "    episode_slices_dict = prepare_episode_slices_dict(df[(df.training_validation_test == 'test') & (df.prediction_time == prediction_time_)])\n",
    "    \n",
    "    # get probability distribution for this time of day\n",
    "    prob_dist_dict_all[MODEL__ED_ADMISSIONS__NAME] = get_prob_dist(\n",
    "            episode_slices_dict, X_test, y_test, model\n",
    "        )\n",
    "    \n",
    "    # use model name in the path for saving the prob dist\n",
    "    full_path = prob_dist_file_path / MODEL__ED_ADMISSIONS__NAME \n",
    "    full_path = full_path.with_suffix('.pickle')\n",
    "        \n",
    "    with open(full_path, 'wb') as f:  # Note the 'wb' mode for binary writing\n",
    "        pickle.dump(prob_dist_dict_all[MODEL__ED_ADMISSIONS__NAME], f)\n",
    "    \n",
    "    \n",
    "    \n",
    "    \n",
    "    "
   ]
  },
  {
   "cell_type": "markdown",
   "id": "aa2c9809-059a-4380-bb3d-7022cc7e4181",
   "metadata": {},
   "source": [
    "## Plot one horizon date as an example"
   ]
  },
  {
   "cell_type": "code",
   "execution_count": null,
   "id": "59f981b6-ac04-4fc5-8539-5b9068f0f2c4",
   "metadata": {
    "execution": {
     "iopub.execute_input": "2024-05-03T17:33:20.491637Z",
     "iopub.status.busy": "2024-05-03T17:33:20.491090Z",
     "iopub.status.idle": "2024-05-03T17:33:20.657084Z",
     "shell.execute_reply": "2024-05-03T17:33:20.656084Z",
     "shell.execute_reply.started": "2024-05-03T17:33:20.491602Z"
    },
    "tags": []
   },
   "outputs": [],
   "source": [
    "dt = list(episode_slices_dict.keys())[0]\n",
    "# with open(full_path, 'rb') as f:  # Note the 'wb' mode for binary writing\n",
    "#     prob_dist_dict_all[MODEL__ED_ADMISSIONS__NAME] = pickle.load( f)\n",
    "\n",
    "from viz.prob_dist_plot import prob_dist_plot\n",
    "\n",
    "title_ = f'Probability distribution for beds needed in time window for patients in ED at {dt} {MODEL__ED_ADMISSIONS__NAME[-4:]}'\n",
    "prob_dist_plot(prob_dist_data=prob_dist_dict_all[MODEL__ED_ADMISSIONS__NAME][dt]['pred_demand'], title_=title_,  include_titles=True)"
   ]
  },
  {
   "cell_type": "markdown",
   "id": "5b0e8bab-c955-479a-94d9-8f58b95391f6",
   "metadata": {},
   "source": [
    "## Plot qq plot for each time of day"
   ]
  },
  {
   "cell_type": "code",
   "execution_count": null,
   "id": "3cd82a18-ce23-45f8-bb7b-c1a3496e70d9",
   "metadata": {
    "execution": {
     "iopub.execute_input": "2024-04-18T07:47:56.880646Z",
     "iopub.status.busy": "2024-04-18T07:47:56.880119Z",
     "iopub.status.idle": "2024-04-18T07:48:24.026551Z",
     "shell.execute_reply": "2024-04-18T07:48:24.025510Z",
     "shell.execute_reply.started": "2024-04-18T07:47:56.880611Z"
    },
    "tags": []
   },
   "outputs": [],
   "source": [
    "from viz.qq_plot import qq_plot\n",
    "\n",
    "for prediction_time_ in prediction_times:\n",
    "\n",
    "    print(\"\\nProcessing :\" + str(prediction_time_))\n",
    "    \n",
    "    # retrieve a name for the model based on the time of day it is trained for\n",
    "    hour_, min_ = prediction_time_\n",
    "    min_ = f\"{min_}0\" if min_ % 60 == 0 else str(min_)\n",
    "    MODEL__ED_ADMISSIONS__NAME = 'ed_admission_' + f\"{hour_:02}\" + min_\n",
    "    print(MODEL__ED_ADMISSIONS__NAME)\n",
    "    \n",
    "    title_ = 'Q-Q Plot for emergency demand predictions at ' + f\"{hour_:02}\" + min_\n",
    "\n",
    "    plt = qq_plot(horizon_dts, prob_dist_dict_all[MODEL__ED_ADMISSIONS__NAME], title_)\n",
    "    \n",
    "    # use model name in the path for saving the plot\n",
    "    qq_plot_path = media_file_path / MODEL__ED_ADMISSIONS__NAME \n",
    "    qq_plot_path = qq_plot_path.with_suffix('.png')\n",
    "    \n",
    "    plt.savefig(qq_plot_path)\n",
    "        \n"
   ]
  },
  {
   "cell_type": "markdown",
   "id": "87f7b1c0-4551-4a26-a682-50bad722c636",
   "metadata": {},
   "source": [
    "## Applying a time window\n",
    "\n",
    "So far, we have created a probability distribution for the number of beds needed at some point, by the set of patients currently in ED. Now consider that we want to predict bed demand within a time window of x hours. \n",
    "\n",
    "At the time of prediction, a patient might have just arrived, or might have already been in the ED for some hours. Their probability of being admitted within x hours is different depending how long they have been in the department already. "
   ]
  },
  {
   "cell_type": "code",
   "execution_count": null,
   "id": "862c8493-e7d0-46c4-9137-3db2073fb6dc",
   "metadata": {
    "execution": {
     "iopub.execute_input": "2024-05-03T17:39:04.863331Z",
     "iopub.status.busy": "2024-05-03T17:39:04.862684Z",
     "iopub.status.idle": "2024-05-03T17:59:36.101743Z",
     "shell.execute_reply": "2024-05-03T17:59:36.100552Z",
     "shell.execute_reply.started": "2024-05-03T17:39:04.863280Z"
    },
    "tags": []
   },
   "outputs": [],
   "source": [
    "from ed_admissions_helper_functions import prepare_for_inference, get_model_name\n",
    "PATH_ED = 'HyMind/dissemination/data-raw/ED_visits.csv'\n",
    "from predict.emergency_demand.from_individual_probs import get_prob_dist\n",
    "\n",
    "from ed_admissions_helper_functions import prepare_episode_slices_dict\n",
    "from predict.emergency_demand.admission_in_time_window_using_aspirational_curve import create_curve, calculate_probability\n",
    "\n",
    "\n",
    "prob_dist_dict_all_in_window = {}\n",
    "# Process each time of day\n",
    "for prediction_time_ in prediction_times:\n",
    "\n",
    "    print(\"\\nProcessing :\" + str(prediction_time_))\n",
    "    \n",
    "    MODEL__ED_ADMISSIONS__NAME = get_model_name('ed_admission', prediction_time_)\n",
    "\n",
    "    # prepare data \n",
    "    X_test, y_test, model = prepare_for_inference(model_file_path, 'ed_admission', prediction_time = prediction_time_, data_path = PATH_ED, single_episode_slice_per_visit = False)\n",
    "    \n",
    "    # a check that might be useful\n",
    "    sum(df.loc[(df.training_validation_test == 'test') & (df.prediction_time == prediction_time_), 'is_admitted']) == sum(y_test)\n",
    "    \n",
    "    X_test_admission_in_window_prob = X_test[['elapsed_los_td']].copy()\n",
    "\n",
    "    time_window_hrs = config['time_window']/60\n",
    "    X_test_admission_in_window_prob['elapsed_los_td_hrs'] = X_test_admission_in_window_prob['elapsed_los_td']/3600\n",
    "\n",
    "    # get probability of admission within time window\n",
    "    weights = X_test_admission_in_window_prob.apply(lambda row: calculate_probability(row['elapsed_los_td_hrs'], time_window_hrs, x1 = 4, y1 = 0.76, x2 = 12, y2 = .99), axis=1)\n",
    "\n",
    "    # select the horizon dates to include in the probability distribution, with the episode slices associated with them\n",
    "    episode_slices_dict = prepare_episode_slices_dict(df[(df.training_validation_test == 'test') & (df.prediction_time == prediction_time_)])\n",
    "    \n",
    "    # get probability distribution for this time of day\n",
    "    prob_dist_dict_all_in_window[MODEL__ED_ADMISSIONS__NAME] = get_prob_dist(\n",
    "            episode_slices_dict, X_test, y_test, model, weights = weights\n",
    "        )\n",
    "    \n",
    "    # use model name in the path for saving the prob dist\n",
    "    full_path = prob_dist_file_path / str(MODEL__ED_ADMISSIONS__NAME + '_in_time_window')\n",
    "    full_path = full_path.with_suffix('.pickle')\n",
    "        \n",
    "    with open(full_path, 'wb') as f:  # Note the 'wb' mode for binary writing\n",
    "        pickle.dump(prob_dist_dict_all_in_window[MODEL__ED_ADMISSIONS__NAME], f)\n",
    "    \n",
    "    \n",
    "    "
   ]
  },
  {
   "cell_type": "markdown",
   "id": "cf1a0909-bb2c-499b-8c90-0e5ac9338f44",
   "metadata": {},
   "source": [
    "## Compare one horizon date with and without admission in time window"
   ]
  },
  {
   "cell_type": "code",
   "execution_count": null,
   "id": "08b5290f-f89b-4922-a5bb-76fa932a6373",
   "metadata": {
    "execution": {
     "iopub.execute_input": "2024-05-04T12:19:59.770446Z",
     "iopub.status.busy": "2024-05-04T12:19:59.769845Z",
     "iopub.status.idle": "2024-05-04T12:19:59.833903Z",
     "shell.execute_reply": "2024-05-04T12:19:59.832104Z",
     "shell.execute_reply.started": "2024-05-04T12:19:59.770398Z"
    }
   },
   "outputs": [],
   "source": [
    "full_path"
   ]
  },
  {
   "cell_type": "code",
   "execution_count": null,
   "id": "72a6f146-cfe3-4c4e-aa13-5bbbfb8635d8",
   "metadata": {
    "execution": {
     "iopub.execute_input": "2024-05-04T12:22:15.941106Z",
     "iopub.status.busy": "2024-05-04T12:22:15.940537Z",
     "iopub.status.idle": "2024-05-04T12:22:16.810191Z",
     "shell.execute_reply": "2024-05-04T12:22:16.809192Z",
     "shell.execute_reply.started": "2024-05-04T12:22:15.941070Z"
    },
    "tags": []
   },
   "outputs": [],
   "source": [
    "dt = list(episode_slices_dict.keys())[0]\n",
    "with open('/data/hymind/home/zella/HyMind/dissemination/model-output/probability-distributions/ed_admission_2200.pickle', 'rb') as f:  # Note the 'wb' mode for binary writing\n",
    "    prob_dict = pickle.load( f)\n",
    "    \n",
    "with open('/data/hymind/home/zella/HyMind/dissemination/model-output/probability-distributions/ed_admission_2200_in_time_window.pickle', 'rb') as f:  # Note the 'wb' mode for binary writing\n",
    "    prob_dict_in_window = pickle.load( f)\n",
    "\n",
    "from viz.prob_dist_plot import prob_dist_plot\n",
    "\n",
    "prediction_time_ = prediction_times[-1]\n",
    "MODEL__ED_ADMISSIONS__NAME = get_model_name('ed_admission', prediction_time_)\n",
    "\n",
    "title_ = f'Probability distribution for beds needed for patients in ED at {dt} {MODEL__ED_ADMISSIONS__NAME[-4:]}'\n",
    "prob_dist_plot(prob_dict[dt]['pred_demand'], title_=title_,  include_titles=True)\n",
    "\n",
    "title_ = f'Probability distribution for beds needed in time window for patients in ED at {dt} {MODEL__ED_ADMISSIONS__NAME[-4:]}'\n",
    "prob_dist_plot(prob_dict_in_window[dt]['pred_demand'], title_=title_,  include_titles=True)"
   ]
  },
  {
   "cell_type": "code",
   "execution_count": null,
   "id": "267a70f5-0b36-4d3a-a426-b1a6bcadebfc",
   "metadata": {
    "execution": {
     "iopub.execute_input": "2024-05-03T18:04:00.499318Z",
     "iopub.status.busy": "2024-05-03T18:04:00.498625Z",
     "iopub.status.idle": "2024-05-03T18:04:00.599918Z",
     "shell.execute_reply": "2024-05-03T18:04:00.598746Z",
     "shell.execute_reply.started": "2024-05-03T18:04:00.499269Z"
    }
   },
   "outputs": [],
   "source": [
    "weights"
   ]
  },
  {
   "cell_type": "code",
   "execution_count": null,
   "id": "396f576c-7bc9-42fc-b5ac-9acdd8921b46",
   "metadata": {},
   "outputs": [],
   "source": []
  }
 ],
 "metadata": {
  "kernelspec": {
   "display_name": "Python 3 (ipykernel)",
   "language": "python",
   "name": "python3"
  },
  "language_info": {
   "codemirror_mode": {
    "name": "ipython",
    "version": 3
   },
   "file_extension": ".py",
   "mimetype": "text/x-python",
   "name": "python",
   "nbconvert_exporter": "python",
   "pygments_lexer": "ipython3",
   "version": "3.11.8"
  }
 },
 "nbformat": 4,
 "nbformat_minor": 5
}
