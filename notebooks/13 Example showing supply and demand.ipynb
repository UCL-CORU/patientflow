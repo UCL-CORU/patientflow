{
 "cells": [
  {
   "cell_type": "markdown",
   "id": "e86588f4-b03e-4f61-a54f-11eea83e3fcd",
   "metadata": {},
   "source": [
    "## Notebook showing example of plotting demand against supply\n"
   ]
  },
  {
   "cell_type": "code",
   "execution_count": null,
   "id": "9e314f13-f541-4ab6-a28e-7b4df6c7ccaa",
   "metadata": {},
   "outputs": [],
   "source": [
    "# Reload functions every time\n",
    "%load_ext autoreload \n",
    "%autoreload 2"
   ]
  },
  {
   "cell_type": "code",
   "execution_count": 103,
   "id": "94eacfa7-840c-4140-8eec-a48d83649230",
   "metadata": {},
   "outputs": [],
   "source": [
    "from pathlib import Path\n",
    "import sys\n",
    "import json\n",
    "\n",
    "\n",
    "import pandas as pd\n",
    "import matplotlib.pyplot as plt\n",
    "import numpy as np\n",
    "\n",
    "\n",
    "PROJECT_ROOT = Path().home() \n",
    "USER_ROOT = Path().home() / 'work'\n",
    "\n",
    "sys.path.append(str(USER_ROOT / 'patientflow' / 'src' / 'patientflow'))\n",
    "sys.path.append(str(USER_ROOT / 'patientflow' / 'functions'))\n",
    "\n",
    "\n",
    "data_path = Path(USER_ROOT / 'ed-predictor' / 'data-raw')\n",
    "\n",
    "media_file_path = USER_ROOT / 'patientflow' / 'notebooks' / 'img'\n",
    "media_file_path.mkdir(parents=True, exist_ok=True)\n",
    "\n",
    "from viz.prob_dist_plot import prob_dist_plot\n",
    "from plot_pipeline import create_colour_dict\n",
    "spec_colour_dict = create_colour_dict()"
   ]
  },
  {
   "cell_type": "code",
   "execution_count": 90,
   "id": "a0cf77bf-85ae-44f1-ac36-59f88077bd4e",
   "metadata": {},
   "outputs": [
    {
     "data": {
      "text/plain": [
       "{'single': {'medical': '#ED7D31',\n",
       "  'surgical': '#70AD47',\n",
       "  'haem/onc': '#FFC000',\n",
       "  'paediatric': '#5B9BD5',\n",
       "  'all': '#44546A',\n",
       "  'window': '#A9A9A9'},\n",
       " 'spectrum': {'medical': <matplotlib.colors.LinearSegmentedColormap at 0x7f61b6556e10>,\n",
       "  'surgical': <matplotlib.colors.LinearSegmentedColormap at 0x7f61b636e810>,\n",
       "  'haem/onc': <matplotlib.colors.LinearSegmentedColormap at 0x7f61b636eb90>,\n",
       "  'paediatric': <matplotlib.colors.LinearSegmentedColormap at 0x7f61b636e9d0>,\n",
       "  'all': <matplotlib.colors.LinearSegmentedColormap at 0x7f61b636e990>,\n",
       "  'window': <matplotlib.colors.LinearSegmentedColormap at 0x7f61b636eb10>}}"
      ]
     },
     "execution_count": 90,
     "metadata": {},
     "output_type": "execute_result"
    }
   ],
   "source": [
    "spec_colour_dict"
   ]
  },
  {
   "cell_type": "markdown",
   "id": "394428c2-1bb1-41d0-a130-8e12b52dc652",
   "metadata": {},
   "source": [
    "\n",
    "### Create fictional distributions"
   ]
  },
  {
   "cell_type": "code",
   "execution_count": 107,
   "id": "4d00a4be-d3ca-4c60-84e6-c32651ffcc27",
   "metadata": {},
   "outputs": [],
   "source": [
    "import numpy as np\n",
    "import pandas as pd\n",
    "from scipy.stats import poisson\n",
    "from scipy.signal import convolve\n",
    "\n",
    "# Parameters for the Poisson distributions\n",
    "size = 50    # Size of the distributions\n",
    "\n",
    "# Generate the Poisson distributions\n",
    "x = np.arange(size)\n",
    "poisson1 = poisson.pmf(x, 1) # in ED now\n",
    "poisson2 = poisson.pmf(x, 2) # yta\n",
    "poisson3 = poisson.pmf(x, 5) # discharges\n",
    "\n",
    "# Create DataFrames for each Poisson distribution\n",
    "ed = pd.DataFrame(data={'agg_proba': poisson1}, index=x)\n",
    "yta = pd.DataFrame(data={'agg_proba': poisson2}, index=x)\n",
    "\n",
    "# Function to compute the combined probabilities\n",
    "def compute_combined_probabilities(df1, df2, add = True):\n",
    "    combined_probs = {}\n",
    "    for i in df1.index:\n",
    "        # print(i)\n",
    "        for j in df2.index:\n",
    "            if add:\n",
    "                new_index = i + j\n",
    "            else:\n",
    "                new_index = i - j\n",
    "            prob = df1.loc[i, 'agg_proba'] * df2.loc[j, 'agg_proba']\n",
    "            # print(j)\n",
    "            # print(combined_probs)\n",
    "            if new_index in combined_probs:\n",
    "                combined_probs[new_index] += prob\n",
    "            else:\n",
    "                combined_probs[new_index] = prob\n",
    "    \n",
    "    return pd.DataFrame(list(combined_probs.items()), columns=['index', 'agg_proba']).set_index('index')\n",
    "\n",
    "# Compute the combined probabilities\n",
    "demand = compute_combined_probabilities(ed, yta, add = True)\n",
    "\n",
    "supply = pd.DataFrame(data={'agg_proba': poisson3}, index=x)\n",
    "netposition = compute_combined_probabilities(demand, supply, add = False)\n",
    "\n"
   ]
  },
  {
   "cell_type": "code",
   "execution_count": 158,
   "id": "69d8fff2-6684-46ad-824e-4bd10af8f043",
   "metadata": {},
   "outputs": [
    {
     "data": {
      "text/plain": [
       "PosixPath('/home/jovyan/work/patientflow/notebooks/img/supply_demand_examples')"
      ]
     },
     "execution_count": 158,
     "metadata": {},
     "output_type": "execute_result"
    }
   ],
   "source": [
    "directory_path = media_file_path / 'supply_demand_examples'\n",
    "directory_path.mkdir(parents=True, exist_ok=True)\n",
    "directory_path"
   ]
  },
  {
   "cell_type": "code",
   "execution_count": 149,
   "id": "21be6078-9812-4e91-9264-b97da661b8e5",
   "metadata": {},
   "outputs": [],
   "source": [
    "def prob_dist_plot(prob_dist_data, title_, directory_path = None, figsize = (6,3), include_titles = False, truncate_at_beds=20, text_size = None, bar_colour='#5B9BD5', file_name = None, min_beds_lines = None):\n",
    "            \n",
    "    plt.figure(figsize=figsize)\n",
    "    \n",
    "    if not file_name:\n",
    "        file_name = title_.replace(' ', '_').replace('/n', '_').replace('%', 'percent') + '.png'\n",
    "    plt.bar(prob_dist_data.index, \n",
    "            prob_dist_data['agg_proba'],\n",
    "            color=bar_colour)\n",
    "    \n",
    "    # plt.xlim(-0.5, truncate_at_beds + 0.5)\n",
    "    # plt.xticks(np.arange(0, truncate_at_beds + 1, 5))  # Set x-axis ticks at every 5 units\n",
    "\n",
    "    if min_beds_lines:\n",
    "\n",
    "        colors = itertools.cycle(plt.cm.gray(np.linspace(0.3, 0.7, len(min_beds_lines))))\n",
    "\n",
    "        for point in min_beds_lines:\n",
    "            plt.axvline(x=min_beds_lines[point], linestyle='--', linewidth=2, color=next(colors), label=f'{point*100:.0f}% probability')\n",
    "\n",
    "        plt.legend(loc='upper right')\n",
    "    \n",
    "    if text_size:\n",
    "\n",
    "        plt.tick_params(axis='both', which='major', labelsize=text_size)\n",
    "    \n",
    "    if include_titles:\n",
    "        \n",
    "        plt.title(title_, fontsize = text_size)\n",
    "        plt.xlabel('Number of beds')\n",
    "        plt.ylabel('Probability')\n",
    "\n",
    "    plt.tight_layout()\n",
    "    \n",
    "    if directory_path:\n",
    "        plt.savefig(directory_path / file_name.replace(' ','_'), dpi=300)\n",
    "    plt.show()"
   ]
  },
  {
   "cell_type": "code",
   "execution_count": 159,
   "id": "f6c23e9e-1468-4f34-9ecb-8d889d75e3f5",
   "metadata": {},
   "outputs": [
    {
     "data": {
      "image/png": "[encoded data removed]",
      "text/plain": [
       "<Figure size 600x300 with 1 Axes>"
      ]
     },
     "metadata": {},
     "output_type": "display_data"
    }
   ],
   "source": [
    "prob_dist_plot(prob_dist_data=ed.loc[0:10], title_='Patients in ED', \n",
    "                   directory_path=directory_path, \n",
    "               # figsize=figsize_global, text_size=20, \n",
    "                   # file_name = 'Figure c', \n",
    "                   truncate_at_beds = 10,\n",
    "                  bar_colour = spec_colour_dict['single']['medical'])"
   ]
  },
  {
   "cell_type": "code",
   "execution_count": 160,
   "id": "31375582-61dc-4611-8eb6-9a510487ea8e",
   "metadata": {},
   "outputs": [
    {
     "data": {
      "image/png": "[encoded data removed]",
      "text/plain": [
       "<Figure size 600x300 with 1 Axes>"
      ]
     },
     "metadata": {},
     "output_type": "display_data"
    }
   ],
   "source": [
    "prob_dist_plot(prob_dist_data=yta.loc[0:10], title_='Patients yet to arrive', \n",
    "                   directory_path=directory_path, \n",
    "                   # file_name = 'Figure c', \n",
    "                   truncate_at_beds = 10,\n",
    "                  bar_colour = spec_colour_dict['single']['haem/onc'])"
   ]
  },
  {
   "cell_type": "code",
   "execution_count": 161,
   "id": "6fafe058-3a5c-4c0b-8f12-48f15f86fb76",
   "metadata": {},
   "outputs": [
    {
     "data": {
      "text/plain": [
       "<Figure size 600x300 with 0 Axes>"
      ]
     },
     "metadata": {},
     "output_type": "display_data"
    },
    {
     "data": {
      "image/png": "[encoded data removed]",
      "text/plain": [
       "<Figure size 600x300 with 1 Axes>"
      ]
     },
     "metadata": {},
     "output_type": "display_data"
    }
   ],
   "source": [
    "prob_dist_data = demand\n",
    "plt.figure(figsize=(6,3))\n",
    "truncate_at_ = 40\n",
    "\n",
    "prob_dist_plot(prob_dist_data=demand.loc[0:15], title_='Total demand', \n",
    "                   directory_path=directory_path, \n",
    "                   # file_name = 'Figure c', \n",
    "                   truncate_at_beds = 15,\n",
    "                  bar_colour = spec_colour_dict['single']['medical'])"
   ]
  },
  {
   "cell_type": "code",
   "execution_count": 162,
   "id": "869298d8-2e02-4dd0-b89d-21e6572daf95",
   "metadata": {},
   "outputs": [
    {
     "data": {
      "image/png": "[encoded data removed]",
      "text/plain": [
       "<Figure size 600x300 with 1 Axes>"
      ]
     },
     "metadata": {},
     "output_type": "display_data"
    }
   ],
   "source": [
    "prob_dist_plot(prob_dist_data=supply.loc[0:15], title_='Discharges', \n",
    "                   directory_path=directory_path, \n",
    "                   # file_name = 'Figure c', \n",
    "                   truncate_at_beds = 15,\n",
    "                  bar_colour = spec_colour_dict['single']['surgical'])"
   ]
  },
  {
   "cell_type": "code",
   "execution_count": 163,
   "id": "ddc6aaf5-f569-4090-aa8f-8a6de400bbc7",
   "metadata": {},
   "outputs": [
    {
     "data": {
      "image/png": "[encoded data removed]",
      "text/plain": [
       "<Figure size 600x300 with 1 Axes>"
      ]
     },
     "metadata": {},
     "output_type": "display_data"
    }
   ],
   "source": [
    "prob_dist_plot(prob_dist_data=netposition.sort_index().loc[-10:10], title_='Net position', \n",
    "                   directory_path=directory_path, \n",
    "                   # file_name = 'Figure c', \n",
    "                   truncate_at_beds = 15,\n",
    "                  bar_colour = spec_colour_dict['single']['paediatric'])"
   ]
  },
  {
   "cell_type": "code",
   "execution_count": null,
   "id": "94237cb1-a1b6-4045-a681-f07accf701f8",
   "metadata": {},
   "outputs": [],
   "source": []
  }
 ],
 "metadata": {
  "kernelspec": {
   "display_name": "Python 3 (ipykernel)",
   "language": "python",
   "name": "python3"
  },
  "language_info": {
   "codemirror_mode": {
    "name": "ipython",
    "version": 3
   },
   "file_extension": ".py",
   "mimetype": "text/x-python",
   "name": "python",
   "nbconvert_exporter": "python",
   "pygments_lexer": "ipython3",
   "version": "3.11.8"
  }
 },
 "nbformat": 4,
 "nbformat_minor": 5
}
