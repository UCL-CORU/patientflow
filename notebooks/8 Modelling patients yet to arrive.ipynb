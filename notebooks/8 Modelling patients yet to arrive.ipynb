{
 "cells": [
  {
   "cell_type": "markdown",
   "id": "b25050b2-0977-490a-930c-a0ff13d8a2d4",
   "metadata": {},
   "source": [
    "# Predict yet to arrive \n",
    "\n",
    "prepare a model that will predict the number of patients yet to arrive.\n",
    "\n",
    "Inputs\n",
    "- A series of times in the day at which we want to make these predictions is set \n",
    "- A series of dates on which we want to make these predictions\n",
    "- A time window after the prediction time, within which we are interested in predicting a number of patients (eg 8 hours)"
   ]
  },
  {
   "cell_type": "markdown",
   "id": "4b447d6f-6ce6-47f9-bd27-3839841e7a2a",
   "metadata": {
    "tags": []
   },
   "source": [
    "## Set up the notebook environment"
   ]
  },
  {
   "cell_type": "code",
   "execution_count": 1,
   "id": "ba096393-44cf-4351-a76d-dc8ab80ca720",
   "metadata": {
    "tags": []
   },
   "outputs": [],
   "source": [
    "# Reload functions every time\n",
    "%load_ext autoreload \n",
    "%autoreload 2"
   ]
  },
  {
   "cell_type": "code",
   "execution_count": 4,
   "id": "c2ef0ed2-a32d-4faa-9c38-3a3b94d6bd38",
   "metadata": {
    "tags": []
   },
   "outputs": [],
   "source": [
    "from pathlib import Path\n",
    "import sys\n",
    "import json\n",
    "import pandas as pd\n",
    "import numpy as np\n",
    "# import joblib\n",
    "from joblib import load, dump\n",
    "\n",
    "\n",
    "PROJECT_ROOT = Path().home() \n",
    "\n",
    "# Patient flow package\n",
    "USER_ROOT = Path().home() / 'work'\n",
    "sys.path.append(str(USER_ROOT / 'patientflow' / 'src' / 'patientflow'))\n",
    "sys.path.append(str(USER_ROOT / 'patientflow' / 'functions'))"
   ]
  },
  {
   "cell_type": "code",
   "execution_count": 12,
   "id": "e6e730e7-bcd4-4a68-ada0-f91dccb66bda",
   "metadata": {
    "tags": []
   },
   "outputs": [],
   "source": [
    "model_file_path = PROJECT_ROOT /'data' / 'ed-predictor' / 'trained-models'\n",
    "model_file_path\n",
    "\n",
    "data_file_path = USER_ROOT / 'ed-predictor' / 'data-raw'\n",
    "data_file_path\n",
    "\n"
   ]
  },
  {
   "cell_type": "markdown",
   "id": "8364065f-b8ef-48e6-85b7-5ad58c3de274",
   "metadata": {},
   "source": [
    "## Load parameters\n",
    "\n",
    "These are set in config.json. You can change these for your own purposes. But the times of day will need to match those in the provided dataset if you want to run this notebook successfully."
   ]
  },
  {
   "cell_type": "code",
   "execution_count": 5,
   "id": "9c8b5bc7-0342-4661-989f-7acb6f5bf29e",
   "metadata": {
    "tags": []
   },
   "outputs": [],
   "source": [
    "# Load the times of day\n",
    "import yaml\n",
    "\n",
    "config_path = Path(USER_ROOT / 'patientflow')\n",
    "\n",
    "with open(config_path / 'config.yaml', 'r') as file:\n",
    "    config = yaml.safe_load(file)\n",
    "    \n",
    "# Convert list of times of day at which predictions will be made (currently stored as lists) to list of tuples\n",
    "prediction_times = [tuple(item) for item in config['prediction_times']]\n",
    "epsilon = float(eval(config['epsilon']))\n",
    "prediction_window = int(config['prediction_window'])\n",
    "time_interval = int(config['yta_time_interval'])\n",
    "\n",
    "\n"
   ]
  },
  {
   "cell_type": "markdown",
   "id": "643d6048-2da2-4a54-ab8e-e6ce6df2dbab",
   "metadata": {},
   "source": [
    "## Load data"
   ]
  },
  {
   "cell_type": "code",
   "execution_count": 16,
   "id": "da936a9a-7061-4616-b13c-5f979dbb3816",
   "metadata": {
    "tags": []
   },
   "outputs": [],
   "source": [
    "from ed_admissions_data_retrieval import ed_admissions_get_data\n",
    "PATH_ED =  str(data_file_path) + '/yet_to_arrive.csv'\n",
    "\n",
    "df = ed_admissions_get_data(PATH_ED)"
   ]
  },
  {
   "cell_type": "code",
   "execution_count": 17,
   "id": "2c8991c9-5052-4d40-9d53-e569106df5cf",
   "metadata": {
    "tags": []
   },
   "outputs": [
    {
     "data": {
      "text/html": [
       "<div>\n",
       "<style scoped>\n",
       "    .dataframe tbody tr th:only-of-type {\n",
       "        vertical-align: middle;\n",
       "    }\n",
       "\n",
       "    .dataframe tbody tr th {\n",
       "        vertical-align: top;\n",
       "    }\n",
       "\n",
       "    .dataframe thead th {\n",
       "        text-align: right;\n",
       "    }\n",
       "</style>\n",
       "<table border=\"1\" class=\"dataframe\">\n",
       "  <thead>\n",
       "    <tr style=\"text-align: right;\">\n",
       "      <th></th>\n",
       "      <th>training_validation_test</th>\n",
       "      <th>admission_datetime</th>\n",
       "      <th>sex</th>\n",
       "      <th>specialty</th>\n",
       "      <th>is_child</th>\n",
       "    </tr>\n",
       "  </thead>\n",
       "  <tbody>\n",
       "    <tr>\n",
       "      <th>0</th>\n",
       "      <td>train</td>\n",
       "      <td>2030-06-13 14:33:22+00:00</td>\n",
       "      <td>F</td>\n",
       "      <td>Oncology</td>\n",
       "      <td>False</td>\n",
       "    </tr>\n",
       "    <tr>\n",
       "      <th>1</th>\n",
       "      <td>train</td>\n",
       "      <td>2030-04-03 10:43:56+00:00</td>\n",
       "      <td>F</td>\n",
       "      <td>Oncology</td>\n",
       "      <td>False</td>\n",
       "    </tr>\n",
       "    <tr>\n",
       "      <th>2</th>\n",
       "      <td>train</td>\n",
       "      <td>2030-04-12 13:47:06+00:00</td>\n",
       "      <td>F</td>\n",
       "      <td>Oncology</td>\n",
       "      <td>False</td>\n",
       "    </tr>\n",
       "    <tr>\n",
       "      <th>3</th>\n",
       "      <td>train</td>\n",
       "      <td>2030-04-12 12:33:22+00:00</td>\n",
       "      <td>M</td>\n",
       "      <td>Haematology</td>\n",
       "      <td>False</td>\n",
       "    </tr>\n",
       "    <tr>\n",
       "      <th>4</th>\n",
       "      <td>train</td>\n",
       "      <td>2030-03-29 16:39:00+00:00</td>\n",
       "      <td>F</td>\n",
       "      <td>Urology</td>\n",
       "      <td>False</td>\n",
       "    </tr>\n",
       "  </tbody>\n",
       "</table>\n",
       "</div>"
      ],
      "text/plain": [
       "  training_validation_test         admission_datetime sex    specialty  \\\n",
       "0                    train  2030-06-13 14:33:22+00:00   F     Oncology   \n",
       "1                    train  2030-04-03 10:43:56+00:00   F     Oncology   \n",
       "2                    train  2030-04-12 13:47:06+00:00   F     Oncology   \n",
       "3                    train  2030-04-12 12:33:22+00:00   M  Haematology   \n",
       "4                    train  2030-03-29 16:39:00+00:00   F      Urology   \n",
       "\n",
       "   is_child  \n",
       "0     False  \n",
       "1     False  \n",
       "2     False  \n",
       "3     False  \n",
       "4     False  "
      ]
     },
     "execution_count": 17,
     "metadata": {},
     "output_type": "execute_result"
    }
   ],
   "source": [
    "df.head()"
   ]
  },
  {
   "cell_type": "markdown",
   "id": "27471c1f-f1c3-4bfe-a8a5-6276c2d95024",
   "metadata": {
    "tags": []
   },
   "source": [
    "## Separate into training, validation and test sets\n",
    "\n",
    "As part of preparing the data, each visit has already been allocated into one of three sets - training, vaidation and test sets. "
   ]
  },
  {
   "cell_type": "code",
   "execution_count": 18,
   "id": "4714fce0-1edd-4611-961a-219cfee87033",
   "metadata": {
    "tags": []
   },
   "outputs": [
    {
     "data": {
      "text/plain": [
       "training_validation_test\n",
       "train    14071\n",
       "test      4919\n",
       "valid     1684\n",
       "Name: count, dtype: int64"
      ]
     },
     "execution_count": 18,
     "metadata": {},
     "output_type": "execute_result"
    }
   ],
   "source": [
    "df.training_validation_test.value_counts()"
   ]
  },
  {
   "cell_type": "code",
   "execution_count": 21,
   "id": "7e601d67-1588-48ee-816e-d387fde88e61",
   "metadata": {
    "tags": []
   },
   "outputs": [
    {
     "name": "stderr",
     "output_type": "stream",
     "text": [
      "/tmp/ipykernel_4456/3446178966.py:6: SettingWithCopyWarning: \n",
      "A value is trying to be set on a copy of a slice from a DataFrame.\n",
      "Try using .loc[row_indexer,col_indexer] = value instead\n",
      "\n",
      "See the caveats in the documentation: https://pandas.pydata.org/pandas-docs/stable/user_guide/indexing.html#returning-a-view-versus-a-copy\n",
      "  train_df['admission_datetime'] = pd.to_datetime(train_df['admission_datetime'], utc = True)\n"
     ]
    }
   ],
   "source": [
    "train_df = df[df.training_validation_test == 'train']#.drop(columns='training_validation_test')\n",
    "valid_df = df[df.training_validation_test == 'valid']#.drop(columns='training_validation_test')\n",
    "test_df = df[df.training_validation_test == 'test']#.drop(columns='training_validation_test')\n",
    "\n",
    "train_df['admission_datetime'] = pd.to_datetime(train_df['admission_datetime'], utc = True)\n",
    "train_df.set_index('admission_datetime', inplace=True)"
   ]
  },
  {
   "cell_type": "code",
   "execution_count": 22,
   "id": "1f2279da-5285-4045-80ad-18e127bba698",
   "metadata": {},
   "outputs": [
    {
     "data": {
      "text/plain": [
       "True"
      ]
     },
     "execution_count": 22,
     "metadata": {},
     "output_type": "execute_result"
    }
   ],
   "source": [
    "isinstance(train_df.index, pd.DatetimeIndex)"
   ]
  },
  {
   "cell_type": "markdown",
   "id": "71006ea6-6115-40db-9537-cdc786bf7505",
   "metadata": {},
   "source": [
    "## Train the Poisson-Binomial model"
   ]
  },
  {
   "cell_type": "code",
   "execution_count": null,
   "id": "44c85a7a-b60e-400c-b39a-012734a01d79",
   "metadata": {
    "execution": {
     "iopub.execute_input": "2024-04-15T10:17:07.480113Z",
     "iopub.status.busy": "2024-04-15T10:17:07.479519Z",
     "iopub.status.idle": "2024-04-15T10:17:07.532975Z",
     "shell.execute_reply": "2024-04-15T10:17:07.531973Z",
     "shell.execute_reply.started": "2024-04-15T10:17:07.480072Z"
    },
    "tags": []
   },
   "outputs": [],
   "source": [
    "config"
   ]
  },
  {
   "cell_type": "code",
   "execution_count": 27,
   "id": "6af2ba86-0391-42be-9685-453de5406ca5",
   "metadata": {
    "tags": []
   },
   "outputs": [],
   "source": [
    "from predict.emergency_demand.poisson_binomial_predictor import PoissonBinomialPredictor"
   ]
  },
  {
   "cell_type": "markdown",
   "id": "10f7d766-929a-4ed3-bb91-bb39b4439128",
   "metadata": {},
   "source": [
    "### Train a model for all admission, irrespective of specialty of admission"
   ]
  },
  {
   "cell_type": "code",
   "execution_count": 28,
   "id": "d853b3a1-4732-45d2-8df8-bc6a5570d2ea",
   "metadata": {
    "tags": []
   },
   "outputs": [
    {
     "name": "stdout",
     "output_type": "stream",
     "text": [
      "Calculating time-varying arrival rates for data provided, which spans 520 days\n",
      "Poisson Binomial Predictor trained for these times: [(6, 0), (9, 30), (12, 0), (15, 30), (22, 0)]\n",
      "using prediction window of 480 minutes after the time of prediction\n",
      "and time interval of 15 minutes within the prediction window.\n",
      "The error value for prediction will be 1e-07\n",
      "To see the weights saved by this model, used the get_weights() method\n"
     ]
    },
    {
     "data": {
      "text/plain": [
       "['/home/jovyan/data/ed-predictor/trained-models/ed_yet_to_arrive_all_8_hours.joblib']"
      ]
     },
     "execution_count": 28,
     "metadata": {},
     "output_type": "execute_result"
    }
   ],
   "source": [
    "from predict.emergency_demand.poisson_binomial_predictor import PoissonBinomialPredictor\n",
    "from joblib import dump, load\n",
    "\n",
    "model =  PoissonBinomialPredictor()\n",
    "\n",
    "model.fit(train_df, prediction_window, time_interval, prediction_times)\n",
    "\n",
    "MODEL__ED_YETTOARRIVE__NAME = 'ed_yet_to_arrive_all_' + str(int(prediction_window/60)) + '_hours'\n",
    "full_path = model_file_path / MODEL__ED_YETTOARRIVE__NAME \n",
    "full_path = full_path.with_suffix('.joblib')\n",
    "\n",
    "dump(model, full_path)"
   ]
  },
  {
   "cell_type": "code",
   "execution_count": 31,
   "id": "d9f15478-7422-4667-9941-7742fadb08e2",
   "metadata": {
    "tags": []
   },
   "outputs": [],
   "source": [
    "weights = model.get_weights()\n"
   ]
  },
  {
   "cell_type": "code",
   "execution_count": 32,
   "id": "ffa752f3-6b7e-49ab-b32e-0a16a8689798",
   "metadata": {
    "tags": []
   },
   "outputs": [
    {
     "ename": "NameError",
     "evalue": "name 'x1' is not defined",
     "output_type": "error",
     "traceback": [
      "\u001b[0;31m---------------------------------------------------------------------------\u001b[0m",
      "\u001b[0;31mNameError\u001b[0m                                 Traceback (most recent call last)",
      "Cell \u001b[0;32mIn[32], line 1\u001b[0m\n\u001b[0;32m----> 1\u001b[0m \u001b[38;5;28mprint\u001b[39m(\u001b[43mx1\u001b[49m)\n\u001b[1;32m      2\u001b[0m \u001b[38;5;28mprint\u001b[39m(x2)\n\u001b[1;32m      4\u001b[0m preds \u001b[38;5;241m=\u001b[39m model\u001b[38;5;241m.\u001b[39mpredict(prediction_context, x1, y1, x2, y2)\n",
      "\u001b[0;31mNameError\u001b[0m: name 'x1' is not defined"
     ]
    }
   ],
   "source": [
    "\n",
    "\n",
    "print(x1)\n",
    "print(x2)\n",
    "\n",
    "preds = model.predict(prediction_context, x1, y1, x2, y2)\n",
    "\n",
    "preds['default'].head(10)#['agg_proba']"
   ]
  },
  {
   "cell_type": "code",
   "execution_count": 34,
   "id": "c7e6481b-a0a9-48a3-9616-f9c0baf95a94",
   "metadata": {
    "tags": []
   },
   "outputs": [
    {
     "name": "stderr",
     "output_type": "stream",
     "text": [
      "/home/jovyan/work/patientflow/src/patientflow/predict/emergency_demand/poisson_binomial_predictor.py:311: UserWarning: Time of day requested of (7, 0) was not in model training. Reverting to predictions for (6, 0).\n",
      "  warnings.warn(\n"
     ]
    },
    {
     "data": {
      "text/plain": [
       "{'default':      agg_proba\n",
       " sum           \n",
       " 0     0.014505\n",
       " 1     0.061405\n",
       " 2     0.129970\n",
       " 3     0.183398\n",
       " 4     0.194092\n",
       " ..         ...\n",
       " 220   0.000000\n",
       " 221   0.000000\n",
       " 222   0.000000\n",
       " 223   0.000000\n",
       " 224   0.000000\n",
       " \n",
       " [225 rows x 1 columns]}"
      ]
     },
     "execution_count": 34,
     "metadata": {},
     "output_type": "execute_result"
    }
   ],
   "source": [
    "prediction_context = {\n",
    "    'default': {\n",
    "        'prediction_time': tuple([7, 0])  \n",
    "    }\n",
    "}\n",
    "\n",
    "x1 = float(config['x1'])\n",
    "y1 = float(config['y1'])\n",
    "x2 = float(config['x2'])\n",
    "y2 = float(config['y2'])\n",
    "\n",
    "MODEL__ED_YETTOARRIVE__NAME = 'ed_yet_to_arrive_all_' + str(int(prediction_window/60)) + '_hours'\n",
    "full_path = model_file_path / MODEL__ED_YETTOARRIVE__NAME \n",
    "full_path = full_path.with_suffix('.joblib')\n",
    "\n",
    "model = load(full_path)\n",
    "\n",
    "preds = model.predict(prediction_context, x1, y1, x2, y2)\n",
    "preds"
   ]
  },
  {
   "cell_type": "markdown",
   "id": "48e4ea43-9725-4c44-8245-4ed048ddb762",
   "metadata": {},
   "source": [
    "### Predict within specialty"
   ]
  },
  {
   "cell_type": "code",
   "execution_count": null,
   "id": "e1ed1e9d-7520-4400-80ee-6c846e2b7f31",
   "metadata": {
    "execution": {
     "iopub.execute_input": "2024-05-11T10:34:29.977535Z",
     "iopub.status.busy": "2024-05-11T10:34:29.976921Z",
     "iopub.status.idle": "2024-05-11T10:34:30.121916Z",
     "shell.execute_reply": "2024-05-11T10:34:30.120728Z",
     "shell.execute_reply.started": "2024-05-11T10:34:29.977499Z"
    },
    "tags": []
   },
   "outputs": [],
   "source": [
    "from predict.emergency_demand.poisson_binomial_predictor import PoissonBinomialPredictor\n",
    "\n",
    "specialty_filters = {\n",
    "    'medical': {'observed_specialty': 'medical', 'is_child': False},\n",
    "    'surgical': {'observed_specialty': 'surgical', 'is_child': False},\n",
    "    'haem_onc': {'observed_specialty': 'haem_onc', 'is_child': False},\n",
    "    'paediatric': {'is_child': True}  # Pediatric doesn't filter by observed_specialty\n",
    "}\n",
    "\n",
    "model_by_spec =  PoissonBinomialPredictor(filters = specialty_filters)\n",
    "\n",
    "model_by_spec.fit(train_df, prediction_window, time_interval, prediction_times)\n",
    "\n",
    "\n",
    "MODEL__ED_YETTOARRIVE__NAME = 'ed_yet_to_arrive_by_spec_' + str(int(prediction_window/60)) + '_hours'\n",
    "full_path = model_file_path / MODEL__ED_YETTOARRIVE__NAME \n",
    "full_path = full_path.with_suffix('.joblib')\n",
    "\n",
    "dump(model_by_spec, full_path)"
   ]
  },
  {
   "cell_type": "markdown",
   "id": "fbf26629",
   "metadata": {},
   "source": []
  },
  {
   "cell_type": "code",
   "execution_count": null,
   "id": "5725c61c",
   "metadata": {},
   "outputs": [],
   "source": []
  },
  {
   "cell_type": "code",
   "execution_count": null,
   "id": "94e8e949",
   "metadata": {},
   "outputs": [],
   "source": []
  },
  {
   "cell_type": "code",
   "execution_count": null,
   "id": "3463d5d4",
   "metadata": {},
   "outputs": [],
   "source": []
  },
  {
   "cell_type": "code",
   "execution_count": null,
   "id": "bae046b7",
   "metadata": {},
   "outputs": [],
   "source": []
  },
  {
   "cell_type": "markdown",
   "id": "898fdb98",
   "metadata": {},
   "source": []
  },
  {
   "cell_type": "code",
   "execution_count": null,
   "id": "49d0d097",
   "metadata": {},
   "outputs": [],
   "source": []
  },
  {
   "cell_type": "markdown",
   "id": "c4fb4150",
   "metadata": {},
   "source": []
  },
  {
   "cell_type": "code",
   "execution_count": null,
   "id": "b8c58890",
   "metadata": {},
   "outputs": [],
   "source": []
  },
  {
   "cell_type": "code",
   "execution_count": null,
   "id": "725503d3",
   "metadata": {},
   "outputs": [],
   "source": []
  },
  {
   "cell_type": "markdown",
   "id": "fea2416d",
   "metadata": {},
   "source": []
  },
  {
   "cell_type": "code",
   "execution_count": null,
   "id": "cd97dd38",
   "metadata": {},
   "outputs": [],
   "source": []
  },
  {
   "cell_type": "markdown",
   "id": "d0f732e9",
   "metadata": {},
   "source": []
  },
  {
   "cell_type": "code",
   "execution_count": null,
   "id": "ae9be230",
   "metadata": {},
   "outputs": [],
   "source": []
  },
  {
   "cell_type": "markdown",
   "id": "ba759189",
   "metadata": {},
   "source": []
  },
  {
   "cell_type": "code",
   "execution_count": null,
   "id": "f73444a4",
   "metadata": {},
   "outputs": [],
   "source": []
  },
  {
   "cell_type": "markdown",
   "id": "e10ad61b",
   "metadata": {},
   "source": []
  },
  {
   "cell_type": "code",
   "execution_count": null,
   "id": "eb71ed7c",
   "metadata": {},
   "outputs": [],
   "source": []
  },
  {
   "cell_type": "markdown",
   "id": "fb83762d",
   "metadata": {},
   "source": []
  },
  {
   "cell_type": "code",
   "execution_count": null,
   "id": "77d8a0de",
   "metadata": {},
   "outputs": [],
   "source": []
  },
  {
   "cell_type": "code",
   "execution_count": null,
   "id": "e6240b82",
   "metadata": {},
   "outputs": [],
   "source": []
  },
  {
   "cell_type": "markdown",
   "id": "418ad7f0",
   "metadata": {},
   "source": []
  },
  {
   "cell_type": "code",
   "execution_count": null,
   "id": "d6f288c9",
   "metadata": {},
   "outputs": [],
   "source": []
  },
  {
   "cell_type": "markdown",
   "id": "74c35172",
   "metadata": {},
   "source": []
  },
  {
   "cell_type": "code",
   "execution_count": null,
   "id": "9c680c33",
   "metadata": {},
   "outputs": [],
   "source": []
  },
  {
   "cell_type": "markdown",
   "id": "60896836",
   "metadata": {},
   "source": []
  },
  {
   "cell_type": "markdown",
   "id": "a3de6b19",
   "metadata": {},
   "source": []
  },
  {
   "cell_type": "markdown",
   "id": "c9095742",
   "metadata": {},
   "source": []
  },
  {
   "cell_type": "code",
   "execution_count": null,
   "id": "9c5e6b02",
   "metadata": {},
   "outputs": [],
   "source": []
  },
  {
   "cell_type": "code",
   "execution_count": null,
   "id": "376ee916",
   "metadata": {},
   "outputs": [],
   "source": []
  },
  {
   "cell_type": "code",
   "execution_count": null,
   "id": "29ac375c",
   "metadata": {},
   "outputs": [],
   "source": []
  },
  {
   "cell_type": "code",
   "execution_count": null,
   "id": "c63a8c4e",
   "metadata": {},
   "outputs": [],
   "source": []
  },
  {
   "cell_type": "code",
   "execution_count": null,
   "id": "fe2bc81d",
   "metadata": {},
   "outputs": [],
   "source": []
  },
  {
   "cell_type": "code",
   "execution_count": null,
   "id": "d1243f53",
   "metadata": {},
   "outputs": [],
   "source": []
  },
  {
   "cell_type": "code",
   "execution_count": null,
   "id": "93c40535-c92f-4d0a-9404-6511038a0bd9",
   "metadata": {
    "execution": {
     "iopub.execute_input": "2024-05-11T10:35:01.862884Z",
     "iopub.status.busy": "2024-05-11T10:35:01.862341Z",
     "iopub.status.idle": "2024-05-11T10:35:02.100245Z",
     "shell.execute_reply": "2024-05-11T10:35:02.099214Z",
     "shell.execute_reply.started": "2024-05-11T10:35:01.862851Z"
    },
    "tags": []
   },
   "outputs": [],
   "source": [
    "MODEL__ED_YETTOARRIVE__NAME = 'ed_yet_to_arrive_by_spec_' + str(int(prediction_window/60)) + '_hours'\n",
    "full_path = model_file_path / MODEL__ED_YETTOARRIVE__NAME \n",
    "full_path = full_path.with_suffix('.joblib')\n",
    "\n",
    "model_by_spec = load(full_path)\n",
    "\n",
    "x1 = float(config['x1'])\n",
    "y1 = float(config['y1'])\n",
    "x2 = float(config['x2'])\n",
    "y2 = float(config['y2'])\n",
    "\n",
    "prediction_context = {\n",
    "    'medical': {\n",
    "        'prediction_time': tuple([7, 0])  \n",
    "    }\n",
    "}\n",
    "\n",
    "preds = model_by_spec.predict(prediction_context, x1, y1, x2, y2)\n",
    "preds['medical']"
   ]
  }
 ],
 "metadata": {
  "kernelspec": {
   "display_name": "Python 3 (ipykernel)",
   "language": "python",
   "name": "python3"
  },
  "language_info": {
   "codemirror_mode": {
    "name": "ipython",
    "version": 3
   },
   "file_extension": ".py",
   "mimetype": "text/x-python",
   "name": "python",
   "nbconvert_exporter": "python",
   "pygments_lexer": "ipython3",
   "version": "3.11.8"
  }
 },
 "nbformat": 4,
 "nbformat_minor": 5
}
