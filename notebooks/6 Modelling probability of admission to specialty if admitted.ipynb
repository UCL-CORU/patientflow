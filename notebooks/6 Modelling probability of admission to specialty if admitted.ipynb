{
 "cells": [
  {
   "cell_type": "markdown",
   "id": "b25b74cf-7d86-4196-90be-8362038cff69",
   "metadata": {},
   "source": [
    "# Modelling probability of admission to specialty, if admitted\n",
    "\n",
    "This notebook demonstrates the second stage of prediction, to generate a probability of admission to a specialty for each patient in the ED if they are admitted. \n",
    "\n",
    "Here we are using consult sequences as input, from a dataset that contains only patients who were later admitted. \n"
   ]
  },
  {
   "cell_type": "markdown",
   "id": "d49f32df-9f33-45c4-89ab-8663d7c32301",
   "metadata": {},
   "source": [
    "## Set up the notebook environment"
   ]
  },
  {
   "cell_type": "code",
   "execution_count": 1,
   "id": "1dddd7fe-729f-4b6b-a05d-ab2547b1f180",
   "metadata": {
    "tags": []
   },
   "outputs": [],
   "source": [
    "# Reload functions every time\n",
    "%load_ext autoreload \n",
    "%autoreload 2"
   ]
  },
  {
   "cell_type": "code",
   "execution_count": 12,
   "id": "56ed8f2f-4f5d-47b5-bfab-71235e27b45b",
   "metadata": {
    "tags": []
   },
   "outputs": [],
   "source": [
    "from pathlib import Path\n",
    "import sys\n",
    "import json\n",
    "import pickle\n",
    "\n",
    "\n",
    "PROJECT_ROOT = Path().home() \n",
    "\n",
    "# Patient flow package\n",
    "USER_ROOT = Path().home() / 'work'\n",
    "sys.path.append(str(USER_ROOT / 'patientflow' / 'src' / 'patientflow'))\n",
    "sys.path.append(str(USER_ROOT / 'patientflow' / 'functions'))\n",
    "\n",
    "\n",
    "\n"
   ]
  },
  {
   "cell_type": "code",
   "execution_count": 13,
   "id": "0e5e829d-18df-4701-9b88-ff3c4e2facda",
   "metadata": {
    "tags": []
   },
   "outputs": [
    {
     "data": {
      "text/plain": [
       "PosixPath('/home/jovyan/work/ed-predictor/data-raw')"
      ]
     },
     "execution_count": 13,
     "metadata": {},
     "output_type": "execute_result"
    }
   ],
   "source": [
    "model_file_path = PROJECT_ROOT /'data' / 'ed-predictor' / 'trained-models'\n",
    "model_file_path\n",
    "\n",
    "data_file_path = USER_ROOT / 'ed-predictor' / 'data-raw'\n",
    "data_file_path\n",
    "\n",
    "# prob_dist_file_path = PROJECT_ROOT / 'dissemination' / 'model-output' / 'probability-distributions'\n",
    "# prob_dist_file_path.mkdir(parents=True, exist_ok=True)\n"
   ]
  },
  {
   "cell_type": "code",
   "execution_count": 16,
   "id": "6ead7b6b-a1ea-44a6-9d8c-658a0fd4c8ed",
   "metadata": {},
   "outputs": [
    {
     "data": {
      "text/plain": [
       "PosixPath('/home/jovyan/work/ed-predictor/data-raw')"
      ]
     },
     "execution_count": 16,
     "metadata": {},
     "output_type": "execute_result"
    }
   ],
   "source": [
    "data_file_path"
   ]
  },
  {
   "cell_type": "markdown",
   "id": "d9d66370-bcbe-4b95-bd03-ce8e32fb6ff9",
   "metadata": {},
   "source": [
    "## Load parameters\n",
    "\n",
    "These are set in config.json. You can change these for your own purposes. But the times of day will need to match those in the provided dataset if you want to run this notebook successfully."
   ]
  },
  {
   "cell_type": "code",
   "execution_count": 6,
   "id": "d2bcac22-aeab-4e44-a886-ba5c13255f6e",
   "metadata": {
    "tags": []
   },
   "outputs": [
    {
     "data": {
      "text/plain": [
       "[(6, 0), (9, 30), (12, 0), (15, 30), (22, 0)]"
      ]
     },
     "execution_count": 6,
     "metadata": {},
     "output_type": "execute_result"
    }
   ],
   "source": [
    "# Load the times of day\n",
    "import yaml\n",
    "\n",
    "config_path = Path(USER_ROOT / 'patientflow')\n",
    "\n",
    "with open(config_path / 'config.yaml', 'r') as file:\n",
    "    config = yaml.safe_load(file)\n",
    "    \n",
    "# Convert list of times of day at which predictions will be made (currently stored as lists) to list of tuples\n",
    "prediction_times = [tuple(item) for item in config['prediction_times']]\n"
   ]
  },
  {
   "cell_type": "markdown",
   "id": "3458fc58-9456-4873-918d-efe92cf60e7f",
   "metadata": {
    "execution": {
     "iopub.execute_input": "2024-03-12T15:15:27.833741Z",
     "iopub.status.busy": "2024-03-12T15:15:27.833169Z",
     "iopub.status.idle": "2024-03-12T15:15:27.839751Z",
     "shell.execute_reply": "2024-03-12T15:15:27.838492Z",
     "shell.execute_reply.started": "2024-03-12T15:15:27.833704Z"
    },
    "tags": []
   },
   "source": [
    "## Load data"
   ]
  },
  {
   "cell_type": "code",
   "execution_count": 9,
   "id": "e83d4943-5dc4-4897-9b42-92a98e18d4a7",
   "metadata": {},
   "outputs": [
    {
     "data": {
      "text/plain": [
       "'/home/jovyan/ed-predictor/data-raw/ED_visits.csv'"
      ]
     },
     "execution_count": 9,
     "metadata": {},
     "output_type": "execute_result"
    }
   ],
   "source": [
    "str(data_file_path) + '/ED_visits.csv'"
   ]
  },
  {
   "cell_type": "code",
   "execution_count": 40,
   "id": "6facb49b-8906-4feb-9acf-2b43c945ecfe",
   "metadata": {
    "tags": []
   },
   "outputs": [],
   "source": [
    "from ed_admissions_data_retrieval import ed_admissions_get_data\n",
    "path_admission_data = str(data_file_path) + '/ed_visits.csv'\n",
    "path_spec_data = str(data_file_path) + '/specialty.csv'\n",
    "\n",
    "df = ed_admissions_get_data(path_admission_data)\n",
    "df_spec = ed_admissions_get_data(path_spec_data)"
   ]
  },
  {
   "cell_type": "code",
   "execution_count": 48,
   "id": "d316b06b-88e4-442e-95e7-f0275a0090c5",
   "metadata": {},
   "outputs": [
    {
     "data": {
      "text/html": [
       "<div>\n",
       "<style scoped>\n",
       "    .dataframe tbody tr th:only-of-type {\n",
       "        vertical-align: middle;\n",
       "    }\n",
       "\n",
       "    .dataframe tbody tr th {\n",
       "        vertical-align: top;\n",
       "    }\n",
       "\n",
       "    .dataframe thead th {\n",
       "        text-align: right;\n",
       "    }\n",
       "</style>\n",
       "<table border=\"1\" class=\"dataframe\">\n",
       "  <thead>\n",
       "    <tr style=\"text-align: right;\">\n",
       "      <th></th>\n",
       "      <th>visit_number</th>\n",
       "      <th>consultation_sequence</th>\n",
       "      <th>final_sequence</th>\n",
       "      <th>specialty</th>\n",
       "    </tr>\n",
       "    <tr>\n",
       "      <th>snapshot_id</th>\n",
       "      <th></th>\n",
       "      <th></th>\n",
       "      <th></th>\n",
       "      <th></th>\n",
       "    </tr>\n",
       "  </thead>\n",
       "  <tbody>\n",
       "    <tr>\n",
       "      <th>7</th>\n",
       "      <td>6</td>\n",
       "      <td>[CON47]</td>\n",
       "      <td>[CON47]</td>\n",
       "      <td>Oncology</td>\n",
       "    </tr>\n",
       "    <tr>\n",
       "      <th>8</th>\n",
       "      <td>7</td>\n",
       "      <td>[CON47]</td>\n",
       "      <td>[CON47]</td>\n",
       "      <td>Oncology</td>\n",
       "    </tr>\n",
       "    <tr>\n",
       "      <th>11</th>\n",
       "      <td>9</td>\n",
       "      <td>[CON47]</td>\n",
       "      <td>[CON47]</td>\n",
       "      <td>Oncology</td>\n",
       "    </tr>\n",
       "    <tr>\n",
       "      <th>12</th>\n",
       "      <td>12</td>\n",
       "      <td>[CON57]</td>\n",
       "      <td>[CON57]</td>\n",
       "      <td>Haematology</td>\n",
       "    </tr>\n",
       "    <tr>\n",
       "      <th>17</th>\n",
       "      <td>323</td>\n",
       "      <td>[CON15]</td>\n",
       "      <td>[CON15]</td>\n",
       "      <td>General Paediatrics</td>\n",
       "    </tr>\n",
       "  </tbody>\n",
       "</table>\n",
       "</div>"
      ],
      "text/plain": [
       "             visit_number consultation_sequence final_sequence  \\\n",
       "snapshot_id                                                      \n",
       "7                       6               [CON47]        [CON47]   \n",
       "8                       7               [CON47]        [CON47]   \n",
       "11                      9               [CON47]        [CON47]   \n",
       "12                     12               [CON57]        [CON57]   \n",
       "17                    323               [CON15]        [CON15]   \n",
       "\n",
       "                       specialty  \n",
       "snapshot_id                       \n",
       "7                       Oncology  \n",
       "8                       Oncology  \n",
       "11                      Oncology  \n",
       "12                   Haematology  \n",
       "17           General Paediatrics  "
      ]
     },
     "execution_count": 48,
     "metadata": {},
     "output_type": "execute_result"
    }
   ],
   "source": [
    "if df.index.name != 'snapshot_id':\n",
    "    df = df.set_index('snapshot_id')\n",
    "df.head()\n",
    "\n",
    "if df_spec.index.name != 'snapshot_id':\n",
    "    df_spec = df_spec.set_index('snapshot_id')\n",
    "df_spec.head()"
   ]
  },
  {
   "cell_type": "markdown",
   "id": "ce8e79c3-d84d-4ba5-af51-59ee24383a2b",
   "metadata": {},
   "source": [
    "Note that some visits that ended in admission had no consult request at the time they were sampled, as we can see below"
   ]
  },
  {
   "cell_type": "code",
   "execution_count": 42,
   "id": "d7a11e2a-075a-4b8d-a743-d7261381fcd7",
   "metadata": {
    "tags": []
   },
   "outputs": [
    {
     "data": {
      "text/html": [
       "<div>\n",
       "<style scoped>\n",
       "    .dataframe tbody tr th:only-of-type {\n",
       "        vertical-align: middle;\n",
       "    }\n",
       "\n",
       "    .dataframe tbody tr th {\n",
       "        vertical-align: top;\n",
       "    }\n",
       "\n",
       "    .dataframe thead th {\n",
       "        text-align: right;\n",
       "    }\n",
       "</style>\n",
       "<table border=\"1\" class=\"dataframe\">\n",
       "  <thead>\n",
       "    <tr style=\"text-align: right;\">\n",
       "      <th></th>\n",
       "      <th>snapshot_id</th>\n",
       "      <th>visit_number</th>\n",
       "      <th>consultation_sequence</th>\n",
       "      <th>final_sequence</th>\n",
       "      <th>specialty</th>\n",
       "    </tr>\n",
       "  </thead>\n",
       "  <tbody>\n",
       "    <tr>\n",
       "      <th>8</th>\n",
       "      <td>21</td>\n",
       "      <td>325</td>\n",
       "      <td>[]</td>\n",
       "      <td>[CON4]</td>\n",
       "      <td>Gastrointestinal Surgery</td>\n",
       "    </tr>\n",
       "    <tr>\n",
       "      <th>15</th>\n",
       "      <td>44</td>\n",
       "      <td>345</td>\n",
       "      <td>[]</td>\n",
       "      <td>[CON157]</td>\n",
       "      <td>Acute Medicine</td>\n",
       "    </tr>\n",
       "    <tr>\n",
       "      <th>20</th>\n",
       "      <td>49</td>\n",
       "      <td>346</td>\n",
       "      <td>[]</td>\n",
       "      <td>[CON4]</td>\n",
       "      <td>Gastrointestinal Surgery</td>\n",
       "    </tr>\n",
       "    <tr>\n",
       "      <th>19</th>\n",
       "      <td>48</td>\n",
       "      <td>346</td>\n",
       "      <td>[]</td>\n",
       "      <td>[CON4]</td>\n",
       "      <td>Gastrointestinal Surgery</td>\n",
       "    </tr>\n",
       "    <tr>\n",
       "      <th>22</th>\n",
       "      <td>69</td>\n",
       "      <td>362</td>\n",
       "      <td>[]</td>\n",
       "      <td>[CON157]</td>\n",
       "      <td>Acute Medicine</td>\n",
       "    </tr>\n",
       "    <tr>\n",
       "      <th>...</th>\n",
       "      <td>...</td>\n",
       "      <td>...</td>\n",
       "      <td>...</td>\n",
       "      <td>...</td>\n",
       "      <td>...</td>\n",
       "    </tr>\n",
       "    <tr>\n",
       "      <th>42035</th>\n",
       "      <td>271636</td>\n",
       "      <td>215422</td>\n",
       "      <td>[]</td>\n",
       "      <td>[CON157]</td>\n",
       "      <td>NaN</td>\n",
       "    </tr>\n",
       "    <tr>\n",
       "      <th>42039</th>\n",
       "      <td>271644</td>\n",
       "      <td>215433</td>\n",
       "      <td>[]</td>\n",
       "      <td>[CON157, CON250, CON158]</td>\n",
       "      <td>NaN</td>\n",
       "    </tr>\n",
       "    <tr>\n",
       "      <th>42043</th>\n",
       "      <td>271648</td>\n",
       "      <td>215434</td>\n",
       "      <td>[]</td>\n",
       "      <td>[CON176]</td>\n",
       "      <td>NaN</td>\n",
       "    </tr>\n",
       "    <tr>\n",
       "      <th>42042</th>\n",
       "      <td>271647</td>\n",
       "      <td>215434</td>\n",
       "      <td>[]</td>\n",
       "      <td>[CON176]</td>\n",
       "      <td>NaN</td>\n",
       "    </tr>\n",
       "    <tr>\n",
       "      <th>42049</th>\n",
       "      <td>271662</td>\n",
       "      <td>215443</td>\n",
       "      <td>[]</td>\n",
       "      <td>[CON10]</td>\n",
       "      <td>NaN</td>\n",
       "    </tr>\n",
       "  </tbody>\n",
       "</table>\n",
       "<p>9915 rows × 5 columns</p>\n",
       "</div>"
      ],
      "text/plain": [
       "       snapshot_id  visit_number consultation_sequence  \\\n",
       "8               21           325                    []   \n",
       "15              44           345                    []   \n",
       "20              49           346                    []   \n",
       "19              48           346                    []   \n",
       "22              69           362                    []   \n",
       "...            ...           ...                   ...   \n",
       "42035       271636        215422                    []   \n",
       "42039       271644        215433                    []   \n",
       "42043       271648        215434                    []   \n",
       "42042       271647        215434                    []   \n",
       "42049       271662        215443                    []   \n",
       "\n",
       "                 final_sequence                 specialty  \n",
       "8                        [CON4]  Gastrointestinal Surgery  \n",
       "15                     [CON157]            Acute Medicine  \n",
       "20                       [CON4]  Gastrointestinal Surgery  \n",
       "19                       [CON4]  Gastrointestinal Surgery  \n",
       "22                     [CON157]            Acute Medicine  \n",
       "...                         ...                       ...  \n",
       "42035                  [CON157]                       NaN  \n",
       "42039  [CON157, CON250, CON158]                       NaN  \n",
       "42043                  [CON176]                       NaN  \n",
       "42042                  [CON176]                       NaN  \n",
       "42049                   [CON10]                       NaN  \n",
       "\n",
       "[9915 rows x 5 columns]"
      ]
     },
     "execution_count": 42,
     "metadata": {},
     "output_type": "execute_result"
    }
   ],
   "source": [
    "df_spec[df_spec.consultation_sequence.apply(lambda x: x == [])]\n"
   ]
  },
  {
   "cell_type": "markdown",
   "id": "6d88ee8f-c381-4988-b0ec-44ba87121cb0",
   "metadata": {},
   "source": [
    "From the summary below, there are some patients with many records in the specialty dataset."
   ]
  },
  {
   "cell_type": "code",
   "execution_count": 37,
   "id": "e163d667-1bc3-4b6b-bcab-2c8e0dff83d8",
   "metadata": {
    "tags": []
   },
   "outputs": [
    {
     "data": {
      "text/html": [
       "<div>\n",
       "<style scoped>\n",
       "    .dataframe tbody tr th:only-of-type {\n",
       "        vertical-align: middle;\n",
       "    }\n",
       "\n",
       "    .dataframe tbody tr th {\n",
       "        vertical-align: top;\n",
       "    }\n",
       "\n",
       "    .dataframe thead th {\n",
       "        text-align: right;\n",
       "    }\n",
       "</style>\n",
       "<table border=\"1\" class=\"dataframe\">\n",
       "  <thead>\n",
       "    <tr style=\"text-align: right;\">\n",
       "      <th></th>\n",
       "      <th>count</th>\n",
       "    </tr>\n",
       "    <tr>\n",
       "      <th>visit_number</th>\n",
       "      <th></th>\n",
       "    </tr>\n",
       "  </thead>\n",
       "  <tbody>\n",
       "    <tr>\n",
       "      <th>63099</th>\n",
       "      <td>15</td>\n",
       "    </tr>\n",
       "    <tr>\n",
       "      <th>168295</th>\n",
       "      <td>15</td>\n",
       "    </tr>\n",
       "    <tr>\n",
       "      <th>63149</th>\n",
       "      <td>15</td>\n",
       "    </tr>\n",
       "    <tr>\n",
       "      <th>56563</th>\n",
       "      <td>14</td>\n",
       "    </tr>\n",
       "    <tr>\n",
       "      <th>193236</th>\n",
       "      <td>14</td>\n",
       "    </tr>\n",
       "    <tr>\n",
       "      <th>...</th>\n",
       "      <td>...</td>\n",
       "    </tr>\n",
       "    <tr>\n",
       "      <th>98077</th>\n",
       "      <td>1</td>\n",
       "    </tr>\n",
       "    <tr>\n",
       "      <th>98078</th>\n",
       "      <td>1</td>\n",
       "    </tr>\n",
       "    <tr>\n",
       "      <th>98079</th>\n",
       "      <td>1</td>\n",
       "    </tr>\n",
       "    <tr>\n",
       "      <th>98080</th>\n",
       "      <td>1</td>\n",
       "    </tr>\n",
       "    <tr>\n",
       "      <th>215461</th>\n",
       "      <td>1</td>\n",
       "    </tr>\n",
       "  </tbody>\n",
       "</table>\n",
       "<p>18008 rows × 1 columns</p>\n",
       "</div>"
      ],
      "text/plain": [
       "              count\n",
       "visit_number       \n",
       "63099            15\n",
       "168295           15\n",
       "63149            15\n",
       "56563            14\n",
       "193236           14\n",
       "...             ...\n",
       "98077             1\n",
       "98078             1\n",
       "98079             1\n",
       "98080             1\n",
       "215461            1\n",
       "\n",
       "[18008 rows x 1 columns]"
      ]
     },
     "execution_count": 37,
     "metadata": {},
     "output_type": "execute_result"
    }
   ],
   "source": [
    "df_spec['visit_number'].value_counts().to_frame()"
   ]
  },
  {
   "cell_type": "markdown",
   "id": "72509763-7211-4190-b348-278f735b499e",
   "metadata": {},
   "source": [
    "To handle this, we'll load the training set from the admission models, which used only one episode slice per visit, and only training using the same episode slices"
   ]
  },
  {
   "cell_type": "code",
   "execution_count": 49,
   "id": "bb3e1828-e2d5-42a8-bd1f-1077a84a14b0",
   "metadata": {},
   "outputs": [
    {
     "name": "stdout",
     "output_type": "stream",
     "text": [
      "(271686, 68)\n",
      "(185339, 67)\n"
     ]
    }
   ],
   "source": [
    "from ed_admissions_utils import select_one_snapshot_per_visit\n",
    "\n",
    "df_single = select_one_snapshot_per_visit(df)\n",
    "\n",
    "print(df.shape)\n",
    "print(df_single.shape)"
   ]
  },
  {
   "cell_type": "markdown",
   "id": "7eae6f30-e798-471b-998c-a91c6d82a98b",
   "metadata": {
    "execution": {
     "iopub.execute_input": "2024-04-30T10:43:44.485080Z",
     "iopub.status.busy": "2024-04-30T10:43:44.484529Z",
     "iopub.status.idle": "2024-04-30T10:43:44.534813Z",
     "shell.execute_reply": "2024-04-30T10:43:44.533440Z",
     "shell.execute_reply.started": "2024-04-30T10:43:44.485044Z"
    }
   },
   "source": [
    "Now select only those df_spec rows which are in df_single"
   ]
  },
  {
   "cell_type": "code",
   "execution_count": 55,
   "id": "c0c80b03-1371-4163-baf3-b3725bf835ce",
   "metadata": {},
   "outputs": [
    {
     "name": "stdout",
     "output_type": "stream",
     "text": [
      "(42051, 4)\n",
      "(17878, 4)\n"
     ]
    }
   ],
   "source": [
    "print(df_spec.shape)\n",
    "df_spec_single = df_spec.loc[df_spec.index.isin(df_single.index)].copy()\n",
    "print(df_spec_single.shape)"
   ]
  },
  {
   "cell_type": "markdown",
   "id": "251fb490-06af-401d-a2f6-d91edeefb1c5",
   "metadata": {},
   "source": [
    "As the sequence predictor requires tuples as input, we will convert the lists to tuples"
   ]
  },
  {
   "cell_type": "code",
   "execution_count": 60,
   "id": "dc121532-1a7e-42b0-8944-c74b2cce069a",
   "metadata": {},
   "outputs": [],
   "source": [
    "df_spec_single['consultation_sequence'] = df_spec_single['consultation_sequence'].apply(lambda x: tuple(x))\n",
    "df_spec_single['final_sequence'] = df_spec_single['final_sequence'].apply(lambda x: tuple(x))\n"
   ]
  },
  {
   "cell_type": "markdown",
   "id": "5669c04f-e6a7-4abf-920b-fa399b075b80",
   "metadata": {},
   "source": [
    "Drop any rows with no specialty data"
   ]
  },
  {
   "cell_type": "code",
   "execution_count": 78,
   "id": "8b6e9d5c-051f-4dfb-b701-eb5580d58322",
   "metadata": {},
   "outputs": [
    {
     "name": "stdout",
     "output_type": "stream",
     "text": [
      "196\n"
     ]
    }
   ],
   "source": [
    "print(len(df_spec_single[df_spec_single.specialty.isnull()]))\n",
    "df_spec_single = df_spec_single[~df_spec_single.specialty.isnull()]"
   ]
  },
  {
   "cell_type": "markdown",
   "id": "ca60fc67-0b4b-4f2c-b7d0-ba8f98a79064",
   "metadata": {
    "tags": []
   },
   "source": [
    "## Separate into training, validation and test sets\n",
    "\n",
    "As part of preparing the data, each visit has already been allocated into one of three sets - training, vaidation and test sets. This has been done chronologically, as shown by the output below. Using a chronological approach is appropriate for tasks where the model needs to be validated on unseen, future data.\n"
   ]
  },
  {
   "cell_type": "code",
   "execution_count": 79,
   "id": "a32f196c-f2a5-4411-af53-361251a86675",
   "metadata": {
    "tags": []
   },
   "outputs": [],
   "source": [
    "train_df_spec = df_spec_single.loc[df_spec_single.index.isin(df[df.training_validation_test == 'train'].index)]\n",
    "valid_df_spec = df_spec_single.loc[df_spec_single.index.isin(df[df.training_validation_test == 'valid'].index)]\n",
    "test_df_spec = df_spec_single.loc[df_spec_single.index.isin(df[df.training_validation_test == 'test'].index)]\n"
   ]
  },
  {
   "cell_type": "markdown",
   "id": "2db1f21d-d23e-4245-a511-8cd128d895b9",
   "metadata": {},
   "source": [
    "## Train a rooted directed tree"
   ]
  },
  {
   "cell_type": "code",
   "execution_count": 58,
   "id": "385a4de3-cbf7-40ea-bfdd-d9612f912760",
   "metadata": {
    "tags": []
   },
   "outputs": [],
   "source": [
    "from predict.emergency_demand.specialty_of_admission import SequencePredictor"
   ]
  },
  {
   "cell_type": "code",
   "execution_count": null,
   "id": "a7029a4b-c68a-4e5f-8244-4a916acc4d7d",
   "metadata": {
    "tags": []
   },
   "outputs": [],
   "source": [
    "model = SequencePredictor(input_var = 'consultation_sequence',\n",
    "                       grouping_var = 'final_sequence',\n",
    "                       outcome_var = 'specialty')\n",
    "model.fit(train_df_spec)\n",
    "\n"
   ]
  },
  {
   "cell_type": "code",
   "execution_count": 87,
   "id": "c753092c-f5e1-4a1a-b18b-bd74d803a458",
   "metadata": {},
   "outputs": [
    {
     "data": {
      "text/plain": [
       "{'Oncology': 0.03337282780410743,\n",
       " 'Haematology': 0.002567140600315956,\n",
       " 'General Paediatrics': 0.00039494470774091627,\n",
       " 'Acute Medicine': 0.7571090047393365,\n",
       " 'Gastrointestinal Surgery': 0.004936808846761454,\n",
       " 'Urology': 0.0007898894154818326,\n",
       " 'Gastrointestinal Medicine': 0.05134281200631913,\n",
       " 'Adult ENT': 0.0003949447077409163,\n",
       " 'Gynaecology': 0.0003949447077409163,\n",
       " 'Care Of the Elderly': 0.027053712480252772,\n",
       " 'Infection': 0.04680094786729859,\n",
       " 'Head and Neck': 0.00019747235387045816,\n",
       " 'Trauma & Orthopaedics': 0.0017772511848341231,\n",
       " 'Respiratory Medicine': 0.03080568720379147,\n",
       " 'Clinical Pharmacology': 0.018562401263823063,\n",
       " 'Paediatric Surgery': 0.00019747235387045813,\n",
       " 'Neurology': 0.00217219589257504,\n",
       " 'Accident & Emergency': 0.005331753554502369,\n",
       " 'Rheumatology': 0.003554502369668247,\n",
       " 'Rehab & Stroke': 0.006911532385466036,\n",
       " 'Neurosurgery': 0.0027646129541864144,\n",
       " 'Paediatric ENT': 0.0,\n",
       " 'Maternity': 0.0003949447077409163,\n",
       " 'Children & Young Peoples Cancer': 0.00019747235387045813,\n",
       " 'Oral Surgery': 0.0,\n",
       " 'Critical Care': 0.001184834123222749,\n",
       " 'Breast': 0.0,\n",
       " 'Paediatric Diabetes': 0.0,\n",
       " 'Diabetes & Endocrinology': 0.00019747235387045816,\n",
       " 'Restorative Dentistry': 0.0,\n",
       " 'Thoracic Surgery': 0.00019747235387045816,\n",
       " 'Specialist Services': 0.00019747235387045816,\n",
       " 'Neonates': 0.0,\n",
       " 'Retained Cardiology': 0.0,\n",
       " 'Obesity Services': 0.0,\n",
       " 'Dermatology': 0.00019747235387045816,\n",
       " 'Vascular Services': 0.0}"
      ]
     },
     "execution_count": 87,
     "metadata": {},
     "output_type": "execute_result"
    }
   ],
   "source": [
    "model.predict(tuple(['CON157'])) "
   ]
  },
  {
   "cell_type": "markdown",
   "id": "db666452-de5d-46c0-8ad0-9f6c74bfc317",
   "metadata": {},
   "source": [
    "The probabilities for each consult sequence ending in a given observed specialty have been saved in the model. These can be accessed as follows: "
   ]
  },
  {
   "cell_type": "code",
   "execution_count": 88,
   "id": "1ce17e1d-0b50-42e7-b60c-dcc9466257a9",
   "metadata": {
    "tags": []
   },
   "outputs": [
    {
     "data": {
      "text/plain": [
       "{'Oncology': 0.03337282780410743,\n",
       " 'Haematology': 0.002567140600315956,\n",
       " 'General Paediatrics': 0.00039494470774091627,\n",
       " 'Acute Medicine': 0.7571090047393365,\n",
       " 'Gastrointestinal Surgery': 0.004936808846761454,\n",
       " 'Urology': 0.0007898894154818326,\n",
       " 'Gastrointestinal Medicine': 0.05134281200631913,\n",
       " 'Adult ENT': 0.0003949447077409163,\n",
       " 'Gynaecology': 0.0003949447077409163,\n",
       " 'Care Of the Elderly': 0.027053712480252772,\n",
       " 'Infection': 0.04680094786729859,\n",
       " 'Head and Neck': 0.00019747235387045816,\n",
       " 'Trauma & Orthopaedics': 0.0017772511848341231,\n",
       " 'Respiratory Medicine': 0.03080568720379147,\n",
       " 'Clinical Pharmacology': 0.018562401263823063,\n",
       " 'Paediatric Surgery': 0.00019747235387045813,\n",
       " 'Neurology': 0.00217219589257504,\n",
       " 'Accident & Emergency': 0.005331753554502369,\n",
       " 'Rheumatology': 0.003554502369668247,\n",
       " 'Rehab & Stroke': 0.006911532385466036,\n",
       " 'Neurosurgery': 0.0027646129541864144,\n",
       " 'Paediatric ENT': 0.0,\n",
       " 'Maternity': 0.0003949447077409163,\n",
       " 'Children & Young Peoples Cancer': 0.00019747235387045813,\n",
       " 'Oral Surgery': 0.0,\n",
       " 'Critical Care': 0.001184834123222749,\n",
       " 'Breast': 0.0,\n",
       " 'Paediatric Diabetes': 0.0,\n",
       " 'Diabetes & Endocrinology': 0.00019747235387045816,\n",
       " 'Restorative Dentistry': 0.0,\n",
       " 'Thoracic Surgery': 0.00019747235387045816,\n",
       " 'Specialist Services': 0.00019747235387045816,\n",
       " 'Neonates': 0.0,\n",
       " 'Retained Cardiology': 0.0,\n",
       " 'Obesity Services': 0.0,\n",
       " 'Dermatology': 0.00019747235387045816,\n",
       " 'Vascular Services': 0.0}"
      ]
     },
     "execution_count": 88,
     "metadata": {},
     "output_type": "execute_result"
    }
   ],
   "source": [
    "weights = model.weights\n",
    "weights[tuple(['CON157'])]"
   ]
  },
  {
   "cell_type": "code",
   "execution_count": null,
   "id": "ba0f021e-8bb5-4789-b0f7-19cbfb9292c0",
   "metadata": {
    "execution": {
     "iopub.execute_input": "2024-05-13T16:10:40.639559Z",
     "iopub.status.busy": "2024-05-13T16:10:40.638811Z",
     "iopub.status.idle": "2024-05-13T16:10:40.760272Z",
     "shell.execute_reply": "2024-05-13T16:10:40.759171Z",
     "shell.execute_reply.started": "2024-05-13T16:10:40.639500Z"
    }
   },
   "outputs": [],
   "source": [
    "model.input_to_grouping_probs"
   ]
  },
  {
   "cell_type": "code",
   "execution_count": 89,
   "id": "d7bb7517-f4c7-4243-a45f-6b1f5ac59a9d",
   "metadata": {
    "tags": []
   },
   "outputs": [
    {
     "data": {
      "text/plain": [
       "['/home/jovyan/data/ed-predictor/trained-models/ed_specialty.joblib']"
      ]
     },
     "execution_count": 89,
     "metadata": {},
     "output_type": "execute_result"
    }
   ],
   "source": [
    "from joblib import dump, load\n",
    "\n",
    "MODEL__ED_SPECIALTY__NAME = 'ed_specialty'\n",
    "\n",
    "# use this name in the path for saving the model\n",
    "full_path = model_file_path / MODEL__ED_SPECIALTY__NAME \n",
    "full_path = full_path.with_suffix('.joblib')\n",
    "\n",
    "# save the model\n",
    "dump(model, full_path)"
   ]
  },
  {
   "cell_type": "markdown",
   "id": "a4dcdfc0-c3f2-4f1a-9148-1c87c8ba97cd",
   "metadata": {},
   "source": [
    "## Do inference on the test set"
   ]
  },
  {
   "cell_type": "code",
   "execution_count": 90,
   "id": "a4800368-3e3f-430c-8a12-0ecdd2cfdc6f",
   "metadata": {
    "tags": []
   },
   "outputs": [],
   "source": [
    "from ed_admissions_helper_functions import prepare_for_inference\n",
    "model = prepare_for_inference(model_file_path, 'ed_specialty', model_only = True)"
   ]
  },
  {
   "cell_type": "code",
   "execution_count": 91,
   "id": "4e8a93cb-3e62-4ee2-9016-53ecd9d7a7a8",
   "metadata": {
    "tags": []
   },
   "outputs": [
    {
     "data": {
      "text/plain": [
       "{'Oncology': 0.05328484465175114,\n",
       " 'Haematology': 0.046881176377579256,\n",
       " 'General Paediatrics': 0.10649063167048779,\n",
       " 'Acute Medicine': 0.3605028065459721,\n",
       " 'Gastrointestinal Surgery': 0.09067910506759429,\n",
       " 'Urology': 0.045695311882362255,\n",
       " 'Gastrointestinal Medicine': 0.026009961261759827,\n",
       " 'Adult ENT': 0.043244525258913744,\n",
       " 'Gynaecology': 0.05320578701873667,\n",
       " 'Care Of the Elderly': 0.012174875484228005,\n",
       " 'Infection': 0.039607874140248245,\n",
       " 'Head and Neck': 0.01517906553877777,\n",
       " 'Trauma & Orthopaedics': 0.024349750968456006,\n",
       " 'Respiratory Medicine': 0.01383508577753182,\n",
       " 'Clinical Pharmacology': 0.009882204126808443,\n",
       " 'Paediatric Surgery': 0.008221993833504625,\n",
       " 'Neurology': 0.002608901889477429,\n",
       " 'Accident & Emergency': 0.009882204126808444,\n",
       " 'Rheumatology': 0.0026089018894774295,\n",
       " 'Rehab & Stroke': 0.01454660447466203,\n",
       " 'Neurosurgery': 0.006482725907186339,\n",
       " 'Paediatric ENT': 0.0024507866234484946,\n",
       " 'Maternity': 0.0022136137244050916,\n",
       " 'Children & Young Peoples Cancer': 0.000869633963159143,\n",
       " 'Oral Surgery': 0.0034785358526365725,\n",
       " 'Critical Care': 0.001897383192347221,\n",
       " 'Breast': 0.0007115186971302079,\n",
       " 'Paediatric Diabetes': 0.0001581152660289351,\n",
       " 'Diabetes & Endocrinology': 0.0007115186971302079,\n",
       " 'Restorative Dentistry': 0.00015811526602893511,\n",
       " 'Thoracic Surgery': 0.00015811526602893511,\n",
       " 'Specialist Services': 0.00015811526602893511,\n",
       " 'Neonates': 0.0009486915961736107,\n",
       " 'Retained Cardiology': 7.905763301446754e-05,\n",
       " 'Obesity Services': 0.00031623053205787023,\n",
       " 'Dermatology': 0.00023717289904340267,\n",
       " 'Vascular Services': 7.905763301446754e-05}"
      ]
     },
     "execution_count": 91,
     "metadata": {},
     "output_type": "execute_result"
    }
   ],
   "source": [
    "model.predict(None)"
   ]
  },
  {
   "cell_type": "code",
   "execution_count": 92,
   "id": "5abd71f3-54a5-4bd8-9a97-0716a7f716cf",
   "metadata": {
    "tags": []
   },
   "outputs": [
    {
     "name": "stderr",
     "output_type": "stream",
     "text": [
      "/tmp/ipykernel_25652/1698500384.py:1: SettingWithCopyWarning: \n",
      "A value is trying to be set on a copy of a slice from a DataFrame.\n",
      "Try using .loc[row_indexer,col_indexer] = value instead\n",
      "\n",
      "See the caveats in the documentation: https://pandas.pydata.org/pandas-docs/stable/user_guide/indexing.html#returning-a-view-versus-a-copy\n",
      "  test_df_spec['predicted_specialty'] = test_df_spec['consultation_sequence'].apply(lambda x: model.predict(x)).apply(lambda x: max(x, key=x.get))\n"
     ]
    }
   ],
   "source": [
    "test_df_spec['predicted_specialty'] = test_df_spec['consultation_sequence'].apply(lambda x: model.predict(x)).apply(lambda x: max(x, key=x.get))"
   ]
  },
  {
   "cell_type": "code",
   "execution_count": 94,
   "id": "77b19a14-1b17-4df3-93aa-de7e5d3b535e",
   "metadata": {},
   "outputs": [
    {
     "data": {
      "text/html": [
       "<div>\n",
       "<style scoped>\n",
       "    .dataframe tbody tr th:only-of-type {\n",
       "        vertical-align: middle;\n",
       "    }\n",
       "\n",
       "    .dataframe tbody tr th {\n",
       "        vertical-align: top;\n",
       "    }\n",
       "\n",
       "    .dataframe thead th {\n",
       "        text-align: right;\n",
       "    }\n",
       "</style>\n",
       "<table border=\"1\" class=\"dataframe\">\n",
       "  <thead>\n",
       "    <tr style=\"text-align: right;\">\n",
       "      <th></th>\n",
       "      <th>visit_number</th>\n",
       "      <th>consultation_sequence</th>\n",
       "      <th>final_sequence</th>\n",
       "      <th>specialty</th>\n",
       "      <th>predicted_specialty</th>\n",
       "    </tr>\n",
       "    <tr>\n",
       "      <th>snapshot_id</th>\n",
       "      <th></th>\n",
       "      <th></th>\n",
       "      <th></th>\n",
       "      <th></th>\n",
       "      <th></th>\n",
       "    </tr>\n",
       "  </thead>\n",
       "  <tbody>\n",
       "    <tr>\n",
       "      <th>207972</th>\n",
       "      <td>158657</td>\n",
       "      <td>(CON15, CON13)</td>\n",
       "      <td>(CON15, CON13)</td>\n",
       "      <td>General Paediatrics</td>\n",
       "      <td>General Paediatrics</td>\n",
       "    </tr>\n",
       "    <tr>\n",
       "      <th>207984</th>\n",
       "      <td>158666</td>\n",
       "      <td>()</td>\n",
       "      <td>(CON13,)</td>\n",
       "      <td>Adult ENT</td>\n",
       "      <td>Acute Medicine</td>\n",
       "    </tr>\n",
       "    <tr>\n",
       "      <th>208001</th>\n",
       "      <td>158678</td>\n",
       "      <td>()</td>\n",
       "      <td>(CON157,)</td>\n",
       "      <td>Acute Medicine</td>\n",
       "      <td>Acute Medicine</td>\n",
       "    </tr>\n",
       "    <tr>\n",
       "      <th>208065</th>\n",
       "      <td>158731</td>\n",
       "      <td>(CON4,)</td>\n",
       "      <td>(CON4,)</td>\n",
       "      <td>Gastrointestinal Surgery</td>\n",
       "      <td>Gastrointestinal Surgery</td>\n",
       "    </tr>\n",
       "    <tr>\n",
       "      <th>208084</th>\n",
       "      <td>158750</td>\n",
       "      <td>(CON4,)</td>\n",
       "      <td>(CON4,)</td>\n",
       "      <td>Gastrointestinal Surgery</td>\n",
       "      <td>Gastrointestinal Surgery</td>\n",
       "    </tr>\n",
       "    <tr>\n",
       "      <th>...</th>\n",
       "      <td>...</td>\n",
       "      <td>...</td>\n",
       "      <td>...</td>\n",
       "      <td>...</td>\n",
       "      <td>...</td>\n",
       "    </tr>\n",
       "    <tr>\n",
       "      <th>271512</th>\n",
       "      <td>207500</td>\n",
       "      <td>(CON30404001, CON157)</td>\n",
       "      <td>(CON30404001, CON157, 30413CON7502)</td>\n",
       "      <td>Acute Medicine</td>\n",
       "      <td>Acute Medicine</td>\n",
       "    </tr>\n",
       "    <tr>\n",
       "      <th>271520</th>\n",
       "      <td>207511</td>\n",
       "      <td>()</td>\n",
       "      <td>(CON157,)</td>\n",
       "      <td>Acute Medicine</td>\n",
       "      <td>Acute Medicine</td>\n",
       "    </tr>\n",
       "    <tr>\n",
       "      <th>271548</th>\n",
       "      <td>207543</td>\n",
       "      <td>(CON157,)</td>\n",
       "      <td>(CON157,)</td>\n",
       "      <td>Acute Medicine</td>\n",
       "      <td>Acute Medicine</td>\n",
       "    </tr>\n",
       "    <tr>\n",
       "      <th>271558</th>\n",
       "      <td>207554</td>\n",
       "      <td>()</td>\n",
       "      <td>(CON157, CON251)</td>\n",
       "      <td>Acute Medicine</td>\n",
       "      <td>Acute Medicine</td>\n",
       "    </tr>\n",
       "    <tr>\n",
       "      <th>271571</th>\n",
       "      <td>207568</td>\n",
       "      <td>()</td>\n",
       "      <td>(CON157,)</td>\n",
       "      <td>Infection</td>\n",
       "      <td>Acute Medicine</td>\n",
       "    </tr>\n",
       "  </tbody>\n",
       "</table>\n",
       "<p>3871 rows × 5 columns</p>\n",
       "</div>"
      ],
      "text/plain": [
       "             visit_number  consultation_sequence  \\\n",
       "snapshot_id                                        \n",
       "207972             158657         (CON15, CON13)   \n",
       "207984             158666                     ()   \n",
       "208001             158678                     ()   \n",
       "208065             158731                (CON4,)   \n",
       "208084             158750                (CON4,)   \n",
       "...                   ...                    ...   \n",
       "271512             207500  (CON30404001, CON157)   \n",
       "271520             207511                     ()   \n",
       "271548             207543              (CON157,)   \n",
       "271558             207554                     ()   \n",
       "271571             207568                     ()   \n",
       "\n",
       "                                  final_sequence                 specialty  \\\n",
       "snapshot_id                                                                  \n",
       "207972                            (CON15, CON13)       General Paediatrics   \n",
       "207984                                  (CON13,)                 Adult ENT   \n",
       "208001                                 (CON157,)            Acute Medicine   \n",
       "208065                                   (CON4,)  Gastrointestinal Surgery   \n",
       "208084                                   (CON4,)  Gastrointestinal Surgery   \n",
       "...                                          ...                       ...   \n",
       "271512       (CON30404001, CON157, 30413CON7502)            Acute Medicine   \n",
       "271520                                 (CON157,)            Acute Medicine   \n",
       "271548                                 (CON157,)            Acute Medicine   \n",
       "271558                          (CON157, CON251)            Acute Medicine   \n",
       "271571                                 (CON157,)                 Infection   \n",
       "\n",
       "                  predicted_specialty  \n",
       "snapshot_id                            \n",
       "207972            General Paediatrics  \n",
       "207984                 Acute Medicine  \n",
       "208001                 Acute Medicine  \n",
       "208065       Gastrointestinal Surgery  \n",
       "208084       Gastrointestinal Surgery  \n",
       "...                               ...  \n",
       "271512                 Acute Medicine  \n",
       "271520                 Acute Medicine  \n",
       "271548                 Acute Medicine  \n",
       "271558                 Acute Medicine  \n",
       "271571                 Acute Medicine  \n",
       "\n",
       "[3871 rows x 5 columns]"
      ]
     },
     "execution_count": 94,
     "metadata": {},
     "output_type": "execute_result"
    }
   ],
   "source": [
    "test_df_spec"
   ]
  },
  {
   "cell_type": "markdown",
   "id": "1952a264-44d1-4e12-8147-c5f5a0d82dc3",
   "metadata": {},
   "source": [
    "## Generate a probability distribution for the number of admissions to each specialty\n",
    "\n",
    "Here we follow the same approach as for prediction overall admission numbers by time of day (see notebook). However, now we want to make different predictions for each specialty. To do this will iterate through each speciality, retrieving each patient's probability of being admitted to that specialty, if admitted.  \n"
   ]
  },
  {
   "cell_type": "code",
   "execution_count": null,
   "id": "bd66096d-bbc3-4eb5-91c3-b1c18e7969cd",
   "metadata": {
    "execution": {
     "iopub.execute_input": "2024-05-03T15:17:55.618805Z",
     "iopub.status.busy": "2024-05-03T15:17:55.618250Z",
     "iopub.status.idle": "2024-05-03T16:03:31.292994Z",
     "shell.execute_reply": "2024-05-03T16:03:31.289943Z",
     "shell.execute_reply.started": "2024-05-03T15:17:55.618767Z"
    },
    "tags": []
   },
   "outputs": [],
   "source": [
    "\n",
    "## New function - not yet run\n",
    "## STILL TO DO - test this against all other notebooks that use this approach\n",
    "## STILL TO DO - need to include dates and prediction_times without patients in ED at that time\n",
    "\n",
    "from ed_admissions_helper_functions import prepare_for_inference, get_model_name\n",
    "from ed_admissions_helper_functions import get_specialty_probs, prepare_episode_slices_dict\n",
    "from predict.emergency_demand.from_individual_probs import get_prob_dist\n",
    "\n",
    "\n",
    "\n",
    "child_age_group = '0-17'\n",
    "child_dict = {\n",
    "    'medical': 0.0,\n",
    "    'surgical': 0.0,\n",
    "    'haem_onc': 0.0,\n",
    "    'paediatric': 1.0\n",
    "}\n",
    "\n",
    "# Function to determine if the patient is a child\n",
    "# This can be customized to any complex logic necessary\n",
    "is_child_func = lambda row: row['age_group'] == '0-17' # or row['age'] <= 17\n",
    "\n",
    "\n",
    "\n",
    "prob_dist_dict_all = {}\n",
    "\n",
    "for prediction_time_ in prediction_times:\n",
    "\n",
    "    print(\"\\nProcessing :\" + str(prediction_time_))\n",
    "    \n",
    "    # get model name for this time of day\n",
    "    MODEL__ED_ADMISSIONS__NAME = get_model_name('ed_admission', prediction_time_)\n",
    "    \n",
    "    # initialise a dictionary to save specialty predictions\n",
    "    prob_dist_dict_all[MODEL__ED_ADMISSIONS__NAME] = {}\n",
    "\n",
    "    # prepare data \n",
    "    X_test, y_test, model = prepare_for_inference(model_file_path, 'ed_admission', prediction_time = prediction_time_, data_path = path_admission_data, single_episode_slice_per_visit = False)\n",
    "    \n",
    "    # get data on probability of admission to each specialty\n",
    "    X_test_spec = pd.merge(X_test[['age_group']], df_spec[['consultation_sequence', 'observed_specialty']], left_index=True, right_index=True, how='left')\n",
    "    \n",
    "    # this function will return a dictionary of probabilities for each \n",
    "    X_test_spec['specialty_prob'] = get_specialty_probs(model_file_path, X_test_spec, special_category_func=is_child_func, special_category_dict=child_dict)\n",
    "    \n",
    "    for spec_ in ['medical', 'surgical', 'haem_onc', 'paediatric']:\n",
    "        print(\"\\nProcessing probability of admission to:\" + spec_ )\n",
    "        \n",
    "        # get the probability of admission to this specialty for all patients\n",
    "        weights = X_test_spec['specialty_prob'].apply(lambda x: x.get(spec_))\n",
    "        \n",
    "        # select only the episode slices that pertain to children or adults, as appropriate\n",
    "        if spec_ == 'paediatric':\n",
    "            episode_slices_dict = prepare_episode_slices_dict(df[(df.training_validation_test == 'test') & (df.prediction_time == prediction_time_) & (df.age_group == '0-17')])\n",
    "        else:\n",
    "            episode_slices_dict = prepare_episode_slices_dict(df[(df.training_validation_test == 'test') & (df.prediction_time == prediction_time_) & (df.age_group != '0-17')])\n",
    "            \n",
    "        # get probability distribution for this time of day\n",
    "        prob_dist_dict_all[MODEL__ED_ADMISSIONS__NAME][spec_] = get_prob_dist(\n",
    "            episode_slices_dict, X_test, y_test, model, weights\n",
    "        )\n",
    "        \n",
    "    # use model name in the path for saving the prob dist\n",
    "    full_path = prob_dist_file_path / str(MODEL__ED_ADMISSIONS__NAME + '_with_spec') \n",
    "    full_path = full_path.with_suffix('.pickle')\n",
    "        \n",
    "    with open(full_path, 'wb') as f:  # Note the 'wb' mode for binary writing\n",
    "        pickle.dump(prob_dist_dict_all[MODEL__ED_ADMISSIONS__NAME], f)\n",
    "    \n",
    "            "
   ]
  },
  {
   "cell_type": "code",
   "execution_count": null,
   "id": "8899b659-0924-4f1b-8f04-54b5f8e99210",
   "metadata": {
    "execution": {
     "iopub.execute_input": "2024-05-03T17:09:43.850591Z",
     "iopub.status.busy": "2024-05-03T17:09:43.849990Z",
     "iopub.status.idle": "2024-05-03T17:09:43.923332Z",
     "shell.execute_reply": "2024-05-03T17:09:43.922307Z",
     "shell.execute_reply.started": "2024-05-03T17:09:43.850550Z"
    },
    "tags": []
   },
   "outputs": [],
   "source": [
    "prob_dist_dict_all[MODEL__ED_ADMISSIONS__NAME]['medical']['2023-01-26']['pred_demand'].head(10)"
   ]
  },
  {
   "cell_type": "code",
   "execution_count": null,
   "id": "60bc5fad-32d4-4912-a136-6d8fa1eca2fa",
   "metadata": {},
   "outputs": [],
   "source": [
    "prob_dist_dict_all[MODEL__ED_ADMISSIONS__NAME]['surgical']['2023-01-26']['pred_demand'].head(10)"
   ]
  },
  {
   "cell_type": "markdown",
   "id": "886a997f-4f71-4992-a298-fe1ee2643d12",
   "metadata": {},
   "source": [
    "## Plot one horizon date as an example"
   ]
  },
  {
   "cell_type": "code",
   "execution_count": null,
   "id": "97f20eaf-f443-4605-bf36-605fc6382a92",
   "metadata": {
    "execution": {
     "iopub.execute_input": "2024-05-03T17:42:05.190742Z",
     "iopub.status.busy": "2024-05-03T17:42:05.190316Z",
     "iopub.status.idle": "2024-05-03T17:42:06.479095Z",
     "shell.execute_reply": "2024-05-03T17:42:06.477856Z",
     "shell.execute_reply.started": "2024-05-03T17:42:05.190707Z"
    },
    "tags": []
   },
   "outputs": [],
   "source": [
    "from viz.prob_dist_plot import prob_dist_plot\n",
    "\n",
    "for spec_ in ['medical', 'surgical', 'haem_onc', 'paediatric']:\n",
    "\n",
    "    title_ = f'Probability distribution for beds needed in {spec_} specialties\\n for patients in ED at {horizon_dts[0]} {MODEL__ED_ADMISSIONS__NAME[-4:]}'\n",
    "    prob_dist_plot(prob_dist_data=prob_dist_dict_all[MODEL__ED_ADMISSIONS__NAME][spec_]['2023-01-26']['pred_demand'], title_=title_,  include_titles=True)"
   ]
  },
  {
   "cell_type": "markdown",
   "id": "066c6e56-1ab5-47d9-b5a0-fe008573fb40",
   "metadata": {},
   "source": [
    "## Adding in a time window"
   ]
  },
  {
   "cell_type": "code",
   "execution_count": null,
   "id": "902fef62-a606-4267-9154-40d8605893c9",
   "metadata": {
    "execution": {
     "iopub.execute_input": "2024-05-04T12:29:41.109618Z",
     "iopub.status.busy": "2024-05-04T12:29:41.109173Z",
     "iopub.status.idle": "2024-05-04T13:18:32.890128Z",
     "shell.execute_reply": "2024-05-04T13:18:32.889127Z",
     "shell.execute_reply.started": "2024-05-04T12:29:41.109583Z"
    },
    "tags": []
   },
   "outputs": [],
   "source": [
    "## NOT RUN\n",
    "\n",
    "from ed_admissions_helper_functions import prepare_for_inference, get_model_name\n",
    "from ed_admissions_helper_functions import get_specialty_probs, prepare_episode_slices_dict\n",
    "from predict.emergency_demand.from_individual_probs import get_prob_dist\n",
    "from predict.emergency_demand.admission_in_time_window_using_aspirational_curve import calculate_probability\n",
    "\n",
    "\n",
    "\n",
    "child_age_group = '0-17'\n",
    "child_dict = {\n",
    "    'medical': 0.0,\n",
    "    'surgical': 0.0,\n",
    "    'haem_onc': 0.0,\n",
    "    'paediatric': 1.0\n",
    "}\n",
    "\n",
    "# Function to determine if the patient is a child\n",
    "# This can be customized to any complex logic necessary\n",
    "is_child_func = lambda row: row['age_group'] == '0-17' # or row['age'] <= 17\n",
    "\n",
    "\n",
    "\n",
    "prob_dist_dict_all = {}\n",
    "\n",
    "for prediction_time_ in prediction_times:\n",
    "\n",
    "    print(\"\\nProcessing :\" + str(prediction_time_))\n",
    "    \n",
    "    # get model name for this time of day\n",
    "    MODEL__ED_ADMISSIONS__NAME = get_model_name('ed_admission', prediction_time_)\n",
    "    \n",
    "    # initialise a dictionary to save specialty predictions\n",
    "    prob_dist_dict_all[MODEL__ED_ADMISSIONS__NAME] = {}\n",
    "\n",
    "    # prepare data \n",
    "    X_test, y_test, model = prepare_for_inference(model_file_path, 'ed_admission', prediction_time = prediction_time_, data_path = path_admission_data, single_episode_slice_per_visit = False)\n",
    "    \n",
    "    # get data on probability of admission to each specialty\n",
    "    X_test_spec = pd.merge(X_test[['age_group']], df_spec[['consultation_sequence', 'observed_specialty']], left_index=True, right_index=True, how='left')\n",
    "    \n",
    "    # this function will return a dictionary of probabilities for each \n",
    "    X_test_spec['specialty_prob'] = get_specialty_probs(model_file_path, X_test_spec, special_category_func=is_child_func, special_category_dict=child_dict)\n",
    "    \n",
    "    # get probability of admission in time window\n",
    "    X_test_admission_in_window_prob = X_test[['elapsed_los_td']].copy()\n",
    "    time_window_hrs = config['time_window']/60\n",
    "    X_test_admission_in_window_prob['elapsed_los_td_hrs'] = X_test_admission_in_window_prob['elapsed_los_td']/3600\n",
    "    time_window_weights = X_test_admission_in_window_prob.apply(lambda row: calculate_probability(row['elapsed_los_td_hrs'], time_window_hrs, x1 = 4, y1 = 0.76, x2 = 12, y2 = .99), axis=1)\n",
    "    \n",
    "    for spec_ in ['medical', 'surgical', 'haem_onc', 'paediatric']:\n",
    "        print(\"\\nProcessing probability of admission to:\" + spec_ )\n",
    "        \n",
    "        # get the probability of admission to this specialty for all patients\n",
    "        spec_weights = X_test_spec['specialty_prob'].apply(lambda x: x.get(spec_))\n",
    "        \n",
    "        # multiply the weights\n",
    "        weights = time_window_weights*spec_weights\n",
    "        \n",
    "        # select only the episode slices that pertain to children or adults, as appropriate\n",
    "        if spec_ == 'paediatric':\n",
    "            episode_slices_dict = prepare_episode_slices_dict(df[(df.training_validation_test == 'test') & (df.prediction_time == prediction_time_) & (df.age_group == '0-17')])\n",
    "        else:\n",
    "            episode_slices_dict = prepare_episode_slices_dict(df[(df.training_validation_test == 'test') & (df.prediction_time == prediction_time_) & (df.age_group != '0-17')])\n",
    "            \n",
    "        # get probability distribution for this time of day\n",
    "        prob_dist_dict_all[MODEL__ED_ADMISSIONS__NAME][spec_] = get_prob_dist(\n",
    "            episode_slices_dict, X_test, y_test, model, weights\n",
    "        )\n",
    "        \n",
    "    # use model name in the path for saving the prob dist\n",
    "    full_path = prob_dist_file_path / str(MODEL__ED_ADMISSIONS__NAME + '_in_time_window_with_spec') \n",
    "    full_path = full_path.with_suffix('.pickle')\n",
    "        \n",
    "    with open(full_path, 'wb') as f:  # Note the 'wb' mode for binary writing\n",
    "        pickle.dump(prob_dist_dict_all[MODEL__ED_ADMISSIONS__NAME], f)\n",
    "    \n",
    "            "
   ]
  },
  {
   "cell_type": "code",
   "execution_count": null,
   "id": "90f3d314-bfc7-4a28-bc55-c4a6762d1389",
   "metadata": {},
   "outputs": [],
   "source": []
  }
 ],
 "metadata": {
  "kernelspec": {
   "display_name": "Python 3 (ipykernel)",
   "language": "python",
   "name": "python3"
  },
  "language_info": {
   "codemirror_mode": {
    "name": "ipython",
    "version": 3
   },
   "file_extension": ".py",
   "mimetype": "text/x-python",
   "name": "python",
   "nbconvert_exporter": "python",
   "pygments_lexer": "ipython3",
   "version": "3.11.8"
  }
 },
 "nbformat": 4,
 "nbformat_minor": 5
}
