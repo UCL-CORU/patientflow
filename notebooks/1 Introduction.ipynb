{
 "cells": [
  {
   "cell_type": "markdown",
   "metadata": {},
   "source": [
    "# Understanding our users\n",
    "\n",
    "In this notebook, we discuss\n",
    "\n",
    "- what do we mean by a ‘user’\n",
    "- why is it important to understand the user of the modelling problem\n",
    "- Who are the users in this case\n",
    "\n",
    "## What do we mean by a ‘user’\n",
    "\n",
    "In the context of predictive analytics, a 'user' refers to the individual or team that interacts with or is impacted by the outcomes of the analytical model.\n",
    "\n",
    "Users are the recipients of the insights and predictions generated, whose actions and decisions are guided or influenced by the model's findings.\n",
    "\n",
    "If a model was predicting something about a person's health or illness, a user might be a doctor or patient. \n",
    "\n",
    "## Why is it important to understand the user of the modelling problem?\n",
    "\n",
    "Understanding the user ensures that a predictive model is aligned with their specific needs and objectives, leading to more relevant and actionable insights.\n",
    "\n",
    "By getting to know a model's users, an analyst is more likely to produce output that provides information users actually need, at the time they need it, and in a form that they can understand and make use of. This may sound obvious, but it is suprising how many models that predict emergency demand for beds are not geared towards a specific group of users. \n",
    "\n",
    "## Who are the users in this case?\n",
    "\n",
    "Here, our users are the people making decisions about bed capacity. Who would this be, in a hospital? \n",
    "\n",
    "Typically, a team of bed managers assigns each patient needing a bed to a hospital ward. Ideally, the ward is one that is suited the patient's injury or illness. For example, a surgical patient would ideally be admitted to a ward for surgical patients, where they will get the most knowledgeable care. \n",
    "\n",
    "However, when hospitals are full, sometimes patients have to 'outlie' on a ward that has a bed available. Assigning a bed is a difficult job requiring negotiating with multiple people, each with different objectives, to allocate scarce resources. \n",
    "\n",
    "Bed managers are usually senior nurses, with a good understanding of each patient's likely care needs. They are not, as a rule, sophisticated users of data or analytical models, and may well have no familiarity with what these are or how they work. They are also always responding in quick time to rapidly changing situations, and are often firefighting. \n",
    "\n",
    "\n",
    "## What are our users needs from a predictive model?\n",
    "\n",
    "We spent several years getting to know our the bed managers at UCLH, in a process that began with occasional meetings to ask about their needs, and ended with one of the research team regularly participating in their 'flow huddles'. These are site-wide meetings in which A&E staff, ward staff and bed managers discuss incoming emergency patients, and which beds are likely to become available for them to be assigned to.\n",
    "\n",
    "Through lengthy observation, we learned where they look for information they need to do their job and what models are most likely to provide additional utility. \n",
    "\n",
    "We learned that bed managers\n",
    "\n",
    "* have a good view of patients with bed requests so any incremental value will come from insights about people in A&E, or yet to arrive, who do not have bed requests yet\n",
    "* mainly use email and spreadsheets for communication, both to receive information and to communicate about the hosptial bed capacity \n",
    "* want information at specific times of day to coincide with the flow huddles, with an 8-hour view of incoming demand at these times\n",
    "* are more concerned overall bed numbers than whether any individual patient will be admitted\n",
    "* want a breakdown by speciality of admission\n",
    "\n",
    "For more information about how we tailored the ULCH application to meet these needs, see [this talk](https://www.youtube.com/watch?v=1V1IzWmOyX8) by Dr Zella King of UCL and Craig Wood, bed manager at UCLH \n",
    "\n",
    "## Key points\n",
    "\n",
    "- bed managers are not sophisticated users of data analytics\n",
    "- they would value having better insights about future bed demand, but don't need additional about bed requests that have already been placed"
   ]
  },
  {
   "cell_type": "markdown",
   "metadata": {},
   "source": []
  }
 ],
 "metadata": {
  "language_info": {
   "name": "python"
  }
 },
 "nbformat": 4,
 "nbformat_minor": 2
}
