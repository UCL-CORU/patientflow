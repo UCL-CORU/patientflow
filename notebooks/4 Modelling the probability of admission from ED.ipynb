{
 "cells": [
  {
   "cell_type": "markdown",
   "metadata": {},
   "source": [
    "# Modelling probability of admission from ED\n",
    "\n",
    "[WORK IN PROGRESS] Please check back soon"
   ]
  },
  {
   "cell_type": "markdown",
   "metadata": {},
   "source": []
  }
 ],
 "metadata": {
  "language_info": {
   "name": "python"
  }
 },
 "nbformat": 4,
 "nbformat_minor": 2
}
