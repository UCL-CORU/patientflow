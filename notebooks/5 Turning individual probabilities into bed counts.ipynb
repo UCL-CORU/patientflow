{
 "cells": [
  {
   "cell_type": "markdown",
   "metadata": {},
   "source": [
    "# Turning individual predictions into bed counts\n",
    "\n",
    "Here we illustrate how to convert individual admission probabilities into an overall bed demand forecast\n",
    "\n",
    "[WORK IN PROGRESS] Please check back soon\n"
   ]
  },
  {
   "cell_type": "markdown",
   "metadata": {},
   "source": []
  }
 ],
 "metadata": {
  "language_info": {
   "name": "python"
  }
 },
 "nbformat": 4,
 "nbformat_minor": 2
}
