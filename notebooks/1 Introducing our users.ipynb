{
 "cells": [
  {
   "cell_type": "markdown",
   "metadata": {},
   "source": [
    "# Introducing our users\n",
    "\n",
    "In this notebook, we introduce the end-users for whom the modelling in this repo has been developed. We discuss\n",
    "\n",
    "- what do we mean by patient flow\n",
    "- Who are the users of patient flow analytics\n",
    "- What are our users needs from a predictive model\n",
    "\n",
    "## What do we mean by patient flow?\n",
    "\n",
    "Patient flow refers to a set of processes aimed at ensuring that each patient receives timely, safe care without undue delays, within the constraints of the beds and other resources available. When delays to discharge cause backlogs for incoming patients, this is an a example of poor patient flow. Good \n",
    "\n",
    "Typically, a team of bed managers take primary responsibility for managing patient flow, although it is the responsibility of everyone in the hospital, from porters and cleaners to matrons and consultants to make every hour and day count for each patient. To manage flow, bed managers:\n",
    "\n",
    "- track the capacity of the hospital ie numbers of staffed beds available for patient care\n",
    "- to anticipate pressures within different specialty areas of the hospital\n",
    "- take action to reduce such pressures, such as (in the extreme) opening additional beds or diverting ambulances \n",
    "- identify what patients are waiting for, and taking action to address these delays \n",
    "\n",
    "Bed managers are usually senior nurses, with a good understanding of each patient's likely care needs. Their days involve responding in quick time to rapidly changing situations caused by delays in patient care, infection outbreaks, excess demand for beds and numerous other types of incident. \n",
    "\n",
    "'flow huddles'. These are site-wide meetings in which ED staff, ward staff and bed managers discuss incoming emergency patients, provision for elective patients, and review which patients are likely to be discharged, by when. \n",
    "\n",
    "## What do we mean by patient flow analytics? \n",
    "\n",
    "These decisions depend on having a clear picture of current capacity and imminent pressures.  Bed managers like to anticipate the number of available beds at the end of the day or shift. For this they use simple rules of thumb to indicate how many admissions and discharges to plan for.  Gaining that picture often involves manual curation and/or validation of data in the Electronic Health Record (EHR), and frequent meetings with ward managers. 'flow huddles'. UCLH coordinates site-wide meetings in which ED staff, ward staff and bed managers discuss incoming emergency patients, provision for elective patients, and review which patients are likely to be discharged, by when. \n",
    "\n",
    "Patient flow analytics refers to the use of real-time data and predictive modelling to augment bed managers' information, given them better informed understanding of the short-term future state of the hospital. \n",
    "\n",
    "## What are our users' needs from a predictive model?\n",
    "\n",
    "We spent several years getting to know our the bed managers at UCLH, in a process that began with occasional meetings to ask about their needs, and has evolved into an embedded research relationship.\n",
    "\n",
    "Through lengthy observation, we learned where bed managers look for information they need to do their job and what models are most likely to provide additional utility. \n",
    "\n",
    "Here, we focus on their needs for a better understanding of emergency demand, as this is where our project began. We learned that bed managers\n",
    "\n",
    "* want information at specific times of day to coincide with the flow huddles, with an 8-hour view of incoming demand at these times\n",
    "* are more concerned about overall bed numbers than whether any individual patient will be admitted\n",
    "* want a breakdown by speciality of admission, as this is more actionable than overall numbers for the whole hospital\n",
    "* have a good view of patients with bed requests so any incremental value from predictive models will come from insights about people in ED, or yet to arrive, who do not have bed requests yet\n",
    "* mainly use email and spreadsheets for communication, both to receive information and to communicate about the hospital bed capacity \n",
    "\n",
    "These requirements informed our design of the modelling of emergency demand. See [this notebook](notebooks/notebooks/2%20Introducing%20emergency%20demand%20and%20its%20modelling.ipynb) for an outline of our modelling decisions. \n",
    "\n",
    "For more information about how we tailored the ULCH application to meet these needs, see [this talk](https://www.youtube.com/watch?v=1V1IzWmOyX8) by Dr Zella King of UCL and Craig Wood, bed manager at UCLH \n",
    "\n"
   ]
  },
  {
   "cell_type": "markdown",
   "metadata": {},
   "source": []
  }
 ],
 "metadata": {
  "kernelspec": {
   "display_name": "env",
   "language": "python",
   "name": "python3"
  },
  "language_info": {
   "name": "python",
   "version": "3.12.2"
  }
 },
 "nbformat": 4,
 "nbformat_minor": 2
}
