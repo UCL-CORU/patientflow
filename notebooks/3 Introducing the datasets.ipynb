{
 "cells": [
  {
   "cell_type": "markdown",
   "id": "9711d01c-b35a-4ead-b991-4bbd890dd85e",
   "metadata": {},
   "source": [
    "# Explore datasets\n",
    "\n",
    "There are three datasets:\n",
    "- ED_visits.csv \n",
    "- specialty.csv\n",
    "- yet_to_arrive.csv\n",
    "\n",
    "See the data dictionaries for more information. \n",
    "\n",
    "The ED visits database uses the following concepts:\n",
    "\n",
    "- visit: a single visit to the ED which may end in admission or discharge\n",
    "- prediction times: the times in the day at which predictions are to be made (eg 06:00, 09:30, 12:00, 15:30, 22:00)\n",
    "- visit snapshots: snapshots of visits observed at the prediction times; a vist may have multiple visit snapshots\n",
    "\n"
   ]
  },
  {
   "cell_type": "markdown",
   "id": "33fe76aa-9e8f-437b-8fdc-3ffef4c8cb7d",
   "metadata": {},
   "source": [
    "## Set up the notebook environment\n"
   ]
  },
  {
   "cell_type": "code",
   "execution_count": null,
   "id": "e5ab906e-6a30-44ba-bf63-bec8dbf72341",
   "metadata": {
    "execution": {
     "iopub.execute_input": "2024-03-22T16:32:41.346339Z",
     "iopub.status.busy": "2024-03-22T16:32:41.345735Z",
     "iopub.status.idle": "2024-03-22T16:32:41.395694Z",
     "shell.execute_reply": "2024-03-22T16:32:41.394487Z",
     "shell.execute_reply.started": "2024-03-22T16:32:41.346301Z"
    }
   },
   "outputs": [],
   "source": [
    "# Reload functions every time\n",
    "%load_ext autoreload \n",
    "%autoreload 2"
   ]
  },
  {
   "cell_type": "code",
   "execution_count": null,
   "id": "13538307-a612-46c2-9872-eb829a6731f1",
   "metadata": {
    "execution": {
     "iopub.execute_input": "2024-03-22T16:34:10.070244Z",
     "iopub.status.busy": "2024-03-22T16:34:10.069780Z",
     "iopub.status.idle": "2024-03-22T16:34:10.097781Z",
     "shell.execute_reply": "2024-03-22T16:34:10.096761Z",
     "shell.execute_reply.started": "2024-03-22T16:34:10.070208Z"
    },
    "tags": []
   },
   "outputs": [],
   "source": [
    "from pathlib import Path\n",
    "import sys\n",
    "import json\n",
    "\n",
    "\n",
    "PROJECT_ROOT = Path().home() / 'HyMind'\n",
    "sys.path.append(str(PROJECT_ROOT / 'dissemination' / 'predict4flow' ))\n",
    "sys.path.append(str(PROJECT_ROOT / 'dissemination' / 'functions' ))\n",
    "from pathlib import Path\n",
    "\n",
    "\n"
   ]
  },
  {
   "cell_type": "markdown",
   "id": "42204075-6cbc-4078-8e02-4de8a544af6d",
   "metadata": {},
   "source": [
    "## Load parameters\n",
    "\n",
    "These are set in config.json. You can change these for your own purposes. But the times of day will need to match those in the provided dataset if you want to run this notebook successfully."
   ]
  },
  {
   "cell_type": "code",
   "execution_count": null,
   "id": "6f30a98e-4ab1-4805-940c-2c06caa8f5fb",
   "metadata": {
    "execution": {
     "iopub.execute_input": "2024-03-22T16:34:13.587348Z",
     "iopub.status.busy": "2024-03-22T16:34:13.586851Z",
     "iopub.status.idle": "2024-03-22T16:34:13.670793Z",
     "shell.execute_reply": "2024-03-22T16:34:13.669834Z",
     "shell.execute_reply.started": "2024-03-22T16:34:13.587314Z"
    },
    "tags": []
   },
   "outputs": [],
   "source": [
    "# Load the times of day\n",
    "import yaml\n",
    "\n",
    "config_path = Path(PROJECT_ROOT / 'dissemination' / 'patientflow')\n",
    "\n",
    "with open(config_path / 'config.yaml', 'r') as file:\n",
    "    config = yaml.safe_load(file)\n",
    "    \n",
    "# Convert list of times of day at which predictions will be made (currently stored as lists) to list of tuples\n",
    "prediction_times = [tuple(item) for item in config['prediction_times']]\n",
    "\n",
    "# See the times of day at which predictions will be made\n",
    "prediction_times"
   ]
  },
  {
   "cell_type": "markdown",
   "id": "1ba94ca0-c1bc-4838-adcd-0b8418cf7917",
   "metadata": {
    "execution": {
     "iopub.execute_input": "2024-03-12T15:15:27.833741Z",
     "iopub.status.busy": "2024-03-12T15:15:27.833169Z",
     "iopub.status.idle": "2024-03-12T15:15:27.839751Z",
     "shell.execute_reply": "2024-03-12T15:15:27.838492Z",
     "shell.execute_reply.started": "2024-03-12T15:15:27.833704Z"
    }
   },
   "source": [
    "## Load data"
   ]
  },
  {
   "cell_type": "code",
   "execution_count": null,
   "id": "a80a2017-1e34-42a3-9643-1c4c6e1bd772",
   "metadata": {
    "execution": {
     "iopub.execute_input": "2024-03-22T16:52:07.798863Z",
     "iopub.status.busy": "2024-03-22T16:52:07.798329Z",
     "iopub.status.idle": "2024-03-22T16:52:10.216927Z",
     "shell.execute_reply": "2024-03-22T16:52:10.215955Z",
     "shell.execute_reply.started": "2024-03-22T16:52:07.798829Z"
    },
    "tags": []
   },
   "outputs": [],
   "source": [
    "from ed_admissions_data_retrieval import ed_admissions_get_data\n",
    "PATH_ED = 'HyMind/dissemination/data-raw/ED_visits.csv'\n",
    "\n",
    "df = ed_admissions_get_data(PATH_ED)"
   ]
  },
  {
   "cell_type": "code",
   "execution_count": null,
   "id": "9c0cbcd4-7fd9-4274-926c-c2b0d235a149",
   "metadata": {
    "execution": {
     "iopub.execute_input": "2024-03-22T16:52:44.048121Z",
     "iopub.status.busy": "2024-03-22T16:52:44.047567Z",
     "iopub.status.idle": "2024-03-22T16:52:44.114200Z",
     "shell.execute_reply": "2024-03-22T16:52:44.113245Z",
     "shell.execute_reply.started": "2024-03-22T16:52:44.048083Z"
    },
    "tags": []
   },
   "outputs": [],
   "source": [
    "# certain columns are not used in training\n",
    "exclude_from_plot = [\n",
    "    \"visit_number\",\n",
    "    \"snapshot_datetime\",\n",
    "    \"prediction_time\",\n",
    "    \"random_number\",\n",
    "    \"snapshot_id\", \n",
    "    \"training_validation_test\"]"
   ]
  },
  {
   "cell_type": "code",
   "execution_count": null,
   "id": "ee6c5408-8dc7-4ca6-ad3f-139096b98770",
   "metadata": {},
   "outputs": [],
   "source": []
  },
  {
   "cell_type": "markdown",
   "id": "1bdb8007-190d-4215-96bc-c5ee0b72d84f",
   "metadata": {},
   "source": [
    "### Elapsed length of stay\n",
    "\n",
    "A long tail of long visits, and the box plot shows that the long tail is comprised of people who are not admitted"
   ]
  },
  {
   "cell_type": "code",
   "execution_count": null,
   "id": "4ddf71b3-4adc-4518-8fb3-4c2d42cd0056",
   "metadata": {
    "execution": {
     "iopub.execute_input": "2024-03-22T17:36:18.138128Z",
     "iopub.status.busy": "2024-03-22T17:36:18.137525Z",
     "iopub.status.idle": "2024-03-22T17:36:22.873784Z",
     "shell.execute_reply": "2024-03-22T17:36:22.872751Z",
     "shell.execute_reply.started": "2024-03-22T17:36:18.138091Z"
    },
    "tags": []
   },
   "outputs": [],
   "source": [
    "def plot_numerical(df, column):# Faceted Histogram\n",
    "    g = sns.FacetGrid(df, row='is_admitted', height=2, aspect=4)\n",
    "    g.map(sns.histplot, column)\n",
    "    g.set_titles(\"{row_name} is_admitted\")\n",
    "    plt.show()\n",
    "\n",
    "    # Faceted Boxplot\n",
    "    g = sns.FacetGrid(df, row='is_admitted', height=2, aspect=4)\n",
    "    order = df.is_admitted.unique()\n",
    "    g.map(sns.boxplot, column, orient='h', order = order)\n",
    "    g.set_titles(\"{row_name} is_admitted\")\n",
    "    plt.show()\n",
    "    \n",
    "plot_numerical(df, 'elapsed_los_td')"
   ]
  },
  {
   "cell_type": "code",
   "execution_count": null,
   "id": "db3e7262-ad39-455a-9df7-04106ffc292f",
   "metadata": {
    "execution": {
     "iopub.execute_input": "2024-03-22T17:34:23.244653Z",
     "iopub.status.busy": "2024-03-22T17:34:23.243720Z",
     "iopub.status.idle": "2024-03-22T17:34:23.349882Z",
     "shell.execute_reply": "2024-03-22T17:34:23.348722Z",
     "shell.execute_reply.started": "2024-03-22T17:34:23.244609Z"
    }
   },
   "outputs": [],
   "source": [
    "# Remove visits where LOS is > 3 days\n",
    "df = df[df.elapsed_los_td <= 72 * 3600]\n"
   ]
  },
  {
   "cell_type": "code",
   "execution_count": null,
   "id": "8a2fc4c9-91f2-4fb6-9a83-e0743f54b332",
   "metadata": {
    "execution": {
     "iopub.execute_input": "2024-03-22T17:34:47.013710Z",
     "iopub.status.busy": "2024-03-22T17:34:47.013257Z",
     "iopub.status.idle": "2024-03-22T17:34:47.078276Z",
     "shell.execute_reply": "2024-03-22T17:34:47.076962Z",
     "shell.execute_reply.started": "2024-03-22T17:34:47.013676Z"
    },
    "tags": []
   },
   "outputs": [],
   "source": [
    "df[(df.is_admitted == False) & (df.elapsed_los_td > 24*60*60) ]['current_ed_location'].value_counts()"
   ]
  },
  {
   "cell_type": "code",
   "execution_count": null,
   "id": "baf7934d-298f-4bc2-9383-ed73e5c8c8c4",
   "metadata": {
    "execution": {
     "iopub.execute_input": "2024-03-22T17:34:59.206038Z",
     "iopub.status.busy": "2024-03-22T17:34:59.203751Z",
     "iopub.status.idle": "2024-03-22T17:34:59.306617Z",
     "shell.execute_reply": "2024-03-22T17:34:59.304984Z",
     "shell.execute_reply.started": "2024-03-22T17:34:59.205951Z"
    },
    "tags": []
   },
   "outputs": [],
   "source": [
    "long_stays_otf = df[(df.elapsed_los_td > 24*60*60) & (df.current_ed_location == 'OTF')]['visit_number'].unique()"
   ]
  },
  {
   "cell_type": "code",
   "execution_count": null,
   "id": "29769c73-ad5a-4b76-afa6-19b9d8ca8dff",
   "metadata": {
    "execution": {
     "iopub.execute_input": "2024-03-22T17:35:05.365187Z",
     "iopub.status.busy": "2024-03-22T17:35:05.364640Z",
     "iopub.status.idle": "2024-03-22T17:35:10.466007Z",
     "shell.execute_reply": "2024-03-22T17:35:10.464937Z",
     "shell.execute_reply.started": "2024-03-22T17:35:05.365150Z"
    },
    "tags": []
   },
   "outputs": [],
   "source": [
    "df['elapsed_los_td_hrs'] = df.elapsed_los_td/3600\n",
    "plot_numerical(df[~(df.visit_number.isin(long_stays_otf)) ], 'elapsed_los_td_hrs')"
   ]
  },
  {
   "cell_type": "code",
   "execution_count": null,
   "id": "3a88a73a-4588-423f-9362-b898d5fc1f85",
   "metadata": {
    "execution": {
     "iopub.execute_input": "2024-03-22T17:37:47.817986Z",
     "iopub.status.busy": "2024-03-22T17:37:47.817442Z",
     "iopub.status.idle": "2024-03-22T17:37:47.945111Z",
     "shell.execute_reply": "2024-03-22T17:37:47.944148Z",
     "shell.execute_reply.started": "2024-03-22T17:37:47.817952Z"
    },
    "tags": []
   },
   "outputs": [],
   "source": [
    "df[~(df.visit_number.isin(long_stays_otf)) ]\n",
    "df[(df.elapsed_los_td_hrs > 24) & (df.is_admitted == False)]"
   ]
  },
  {
   "cell_type": "code",
   "execution_count": null,
   "id": "5a2acbe6-7f5d-483f-a890-6d56022c087c",
   "metadata": {
    "execution": {
     "iopub.execute_input": "2024-03-22T17:40:58.735518Z",
     "iopub.status.busy": "2024-03-22T17:40:58.734387Z",
     "iopub.status.idle": "2024-03-22T17:40:58.785931Z",
     "shell.execute_reply": "2024-03-22T17:40:58.784798Z",
     "shell.execute_reply.started": "2024-03-22T17:40:58.735481Z"
    }
   },
   "outputs": [],
   "source": [
    "\n",
    "    \n",
    "for column in df.columns:\n",
    "    if column not in exclude_from_training_data:\n",
    "        # Decide whether to facet based on 'is_admitted'\n",
    "        facet_by = 'is_admitted' if 'is_admitted' in df.columns else None\n",
    "        \n",
    "        # Determine the plot type based on the data type\n",
    "        if df[column].dtype == 'object' or df[column].nunique() < 20:  # Treating columns with fewer than 20 unique values as categorical\n",
    "            plot_categorical(column, df, facet_by)\n",
    "        else:\n",
    "            plot_numerical(column, df, facet_by)"
   ]
  },
  {
   "cell_type": "code",
   "execution_count": null,
   "id": "8e435787-60d4-40d2-8744-ebf71612cc41",
   "metadata": {
    "execution": {
     "iopub.execute_input": "2024-03-22T17:45:02.531653Z",
     "iopub.status.busy": "2024-03-22T17:45:02.531249Z",
     "iopub.status.idle": "2024-03-22T17:45:17.291246Z",
     "shell.execute_reply": "2024-03-22T17:45:17.290274Z",
     "shell.execute_reply.started": "2024-03-22T17:45:02.531619Z"
    },
    "tags": []
   },
   "outputs": [],
   "source": [
    "import pandas as pd\n",
    "import matplotlib.pyplot as plt\n",
    "import seaborn as sns\n",
    "\n",
    "def plot_data(column_name, df, facet_by = True):\n",
    "    # Check if the column is boolean and convert it to category if it is\n",
    "    if df[column_name].dtype == 'bool':\n",
    "        df[column_name] = df[column_name].astype('category')\n",
    "\n",
    "    if df[column_name].dtype in ['object', 'category'] or df[column_name].dtype == 'bool':\n",
    "        # Categorical plot\n",
    "        if facet_by:\n",
    "            g = sns.FacetGrid(df, col='is_admitted', height=2, aspect=1)\n",
    "            g.map(sns.countplot, column_name, order=df[column_name].value_counts().index, orient='h')\n",
    "        else:\n",
    "            sns.countplot(y=column_name, data=df, order=df[column_name].value_counts().index, orient='h')\n",
    "        # plt.title(f'Distribution of {column_name}')\n",
    "    else:\n",
    "        # Numerical plot (boxplot)\n",
    "        if facet_by:\n",
    "            g = sns.FacetGrid(df, row='is_admitted', height=2, aspect=6)\n",
    "            order = df.is_admitted.unique()\n",
    "            g.map(sns.boxplot, column_name, data=df, orient='h', order = order)\n",
    "        else:\n",
    "            sns.boxplot(y=column_name, data=df, orient='h')\n",
    "        # plt.title(f'Boxplot of {column_name}')\n",
    "    plt.tight_layout()\n",
    "    plt.show()\n",
    "\n",
    "\n",
    "# Iterate through each column and plot\n",
    "for column in df.columns:\n",
    "    if column not in exclude_from_plot and df[column].dtype == 'category' :\n",
    "        print(column)\n",
    "        plot_data(column, df)\n",
    "\n",
    "\n",
    "\n"
   ]
  },
  {
   "cell_type": "code",
   "execution_count": null,
   "id": "28005449-a5d0-436f-9441-5c233304caa6",
   "metadata": {},
   "outputs": [],
   "source": []
  }
 ],
 "metadata": {
  "kernelspec": {
   "display_name": "Python 3",
   "language": "python",
   "name": "python3"
  },
  "language_info": {
   "codemirror_mode": {
    "name": "ipython",
    "version": 3
   },
   "file_extension": ".py",
   "mimetype": "text/x-python",
   "name": "python",
   "nbconvert_exporter": "python",
   "pygments_lexer": "ipython3",
   "version": "3.9.5"
  }
 },
 "nbformat": 4,
 "nbformat_minor": 5
}
