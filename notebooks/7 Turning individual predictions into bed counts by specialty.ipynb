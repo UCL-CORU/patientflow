{
 "cells": [
  {
   "cell_type": "markdown",
   "metadata": {},
   "source": [
    "# Turning individual predictions into bed counts by specialty\n",
    "\n",
    "Here we combine the output from previous steps into a probability distribution for the number beds needed in each specialty for patients currently in ED. We break down the predictions by different categories (male/female). \n",
    "\n",
    "[WORK IN PROGRESS] Please check back soon"
   ]
  },
  {
   "cell_type": "markdown",
   "metadata": {},
   "source": []
  }
 ],
 "metadata": {
  "language_info": {
   "name": "python"
  }
 },
 "nbformat": 4,
 "nbformat_minor": 2
}
