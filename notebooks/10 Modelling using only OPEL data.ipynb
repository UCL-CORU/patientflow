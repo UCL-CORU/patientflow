{
 "cells": [
  {
   "cell_type": "markdown",
   "metadata": {},
   "source": [
    "# Modelling using only OPEL data\n",
    "\n",
    "In this notebook, we will show how you might use a small amount of real-time data (such as that sent to your Integrated Care Board for OPEL reporting), to make demand predictions. We will explain how to use a datase of previous hospital visits to prepare the predictive models. We will compare these simple predictions with those made with more data, and evaluate how much predictive power is lost when using a more minimal dataset. \n",
    "\n",
    "[WORK IN PROGRESS] Please check back soon"
   ]
  },
  {
   "cell_type": "markdown",
   "metadata": {},
   "source": []
  }
 ],
 "metadata": {
  "language_info": {
   "name": "python"
  }
 },
 "nbformat": 4,
 "nbformat_minor": 2
}
