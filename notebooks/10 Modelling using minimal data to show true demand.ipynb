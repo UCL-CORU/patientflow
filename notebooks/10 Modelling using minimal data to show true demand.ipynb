{
 "cells": [
  {
   "cell_type": "markdown",
   "id": "b25050b2-0977-490a-930c-a0ff13d8a2d4",
   "metadata": {},
   "source": [
    "# Predict using minimal data to show true demand\n",
    "\n",
    "prepare a model that will use only arrival rates and aspirational targes for ED\n",
    "\n",
    "Inputs\n",
    "- A series of times in the day at which we want to make these predictions is set \n",
    "- A series of dates on which we want to make these predictions\n",
    "- A time window after the prediction time, within which we are interested in predicting a number of patients (eg 8 hours)"
   ]
  },
  {
   "cell_type": "markdown",
   "id": "4b447d6f-6ce6-47f9-bd27-3839841e7a2a",
   "metadata": {
    "tags": []
   },
   "source": [
    "## Set up the notebook environment"
   ]
  },
  {
   "cell_type": "code",
   "execution_count": 1,
   "id": "ba096393-44cf-4351-a76d-dc8ab80ca720",
   "metadata": {
    "tags": []
   },
   "outputs": [],
   "source": [
    "# Reload functions every time\n",
    "%load_ext autoreload \n",
    "%autoreload 2"
   ]
  },
  {
   "cell_type": "code",
   "execution_count": 2,
   "id": "c2ef0ed2-a32d-4faa-9c38-3a3b94d6bd38",
   "metadata": {
    "tags": []
   },
   "outputs": [],
   "source": [
    "from pathlib import Path\n",
    "import sys\n",
    "import json\n",
    "import pandas as pd\n",
    "import numpy as np\n",
    "# import joblib\n",
    "from joblib import load, dump\n",
    "\n",
    "\n",
    "PROJECT_ROOT = Path().home() \n",
    "\n",
    "# Patient flow package\n",
    "USER_ROOT = Path().home() / 'work'\n",
    "sys.path.append(str(USER_ROOT / 'patientflow' / 'src' / 'patientflow'))\n",
    "sys.path.append(str(USER_ROOT / 'patientflow' / 'functions'))"
   ]
  },
  {
   "cell_type": "code",
   "execution_count": 3,
   "id": "e6e730e7-bcd4-4a68-ada0-f91dccb66bda",
   "metadata": {
    "tags": []
   },
   "outputs": [
    {
     "data": {
      "text/plain": [
       "PosixPath('/home/jovyan/work/ed-predictor/data-raw')"
      ]
     },
     "execution_count": 3,
     "metadata": {},
     "output_type": "execute_result"
    }
   ],
   "source": [
    "model_file_path = PROJECT_ROOT /'data' / 'ed-predictor' / 'trained-models'\n",
    "model_file_path\n",
    "\n",
    "data_file_path = USER_ROOT / 'ed-predictor' / 'data-raw'\n",
    "data_file_path\n",
    "\n"
   ]
  },
  {
   "cell_type": "markdown",
   "id": "8364065f-b8ef-48e6-85b7-5ad58c3de274",
   "metadata": {},
   "source": [
    "## Load parameters\n",
    "\n",
    "These are set in config.json. You can change these for your own purposes. But the times of day will need to match those in the provided dataset if you want to run this notebook successfully."
   ]
  },
  {
   "cell_type": "code",
   "execution_count": 5,
   "id": "9c8b5bc7-0342-4661-989f-7acb6f5bf29e",
   "metadata": {
    "tags": []
   },
   "outputs": [],
   "source": [
    "# # Load the times of day\n",
    "# import yaml\n",
    "\n",
    "# config_path = Path(USER_ROOT / 'patientflow')\n",
    "\n",
    "# with open(config_path / 'config.yaml', 'r') as file:\n",
    "#     config = yaml.safe_load(file)\n",
    "    \n",
    "# # Convert list of times of day at which predictions will be made (currently stored as lists) to list of tuples\n",
    "# prediction_times = [tuple(item) for item in config['prediction_times']]\n",
    "# epsilon = float(eval(config['epsilon']))\n",
    "# prediction_window = int(config['prediction_window'])\n",
    "# time_interval = int(config['yta_time_interval'])\n",
    "\n",
    "\n"
   ]
  },
  {
   "cell_type": "markdown",
   "id": "643d6048-2da2-4a54-ab8e-e6ce6df2dbab",
   "metadata": {},
   "source": [
    "## Load data"
   ]
  },
  {
   "cell_type": "code",
   "execution_count": 4,
   "id": "da936a9a-7061-4616-b13c-5f979dbb3816",
   "metadata": {
    "tags": []
   },
   "outputs": [],
   "source": [
    "from ed_admissions_data_retrieval import ed_admissions_get_data\n",
    "PATH_ED =  str(data_file_path) + '/yet_to_arrive.csv'\n",
    "\n",
    "df = ed_admissions_get_data(PATH_ED)"
   ]
  },
  {
   "cell_type": "code",
   "execution_count": 5,
   "id": "2c8991c9-5052-4d40-9d53-e569106df5cf",
   "metadata": {
    "tags": []
   },
   "outputs": [
    {
     "data": {
      "text/html": [
       "<div>\n",
       "<style scoped>\n",
       "    .dataframe tbody tr th:only-of-type {\n",
       "        vertical-align: middle;\n",
       "    }\n",
       "\n",
       "    .dataframe tbody tr th {\n",
       "        vertical-align: top;\n",
       "    }\n",
       "\n",
       "    .dataframe thead th {\n",
       "        text-align: right;\n",
       "    }\n",
       "</style>\n",
       "<table border=\"1\" class=\"dataframe\">\n",
       "  <thead>\n",
       "    <tr style=\"text-align: right;\">\n",
       "      <th></th>\n",
       "      <th>training_validation_test</th>\n",
       "      <th>arrival_datetime</th>\n",
       "      <th>sex</th>\n",
       "      <th>specialty</th>\n",
       "      <th>is_child</th>\n",
       "    </tr>\n",
       "  </thead>\n",
       "  <tbody>\n",
       "    <tr>\n",
       "      <th>0</th>\n",
       "      <td>train</td>\n",
       "      <td>2030-11-01 17:40:00+00:00</td>\n",
       "      <td>F</td>\n",
       "      <td>surgical</td>\n",
       "      <td>False</td>\n",
       "    </tr>\n",
       "    <tr>\n",
       "      <th>1</th>\n",
       "      <td>train</td>\n",
       "      <td>2030-06-13 19:51:00+00:00</td>\n",
       "      <td>F</td>\n",
       "      <td>haem/onc</td>\n",
       "      <td>False</td>\n",
       "    </tr>\n",
       "    <tr>\n",
       "      <th>2</th>\n",
       "      <td>train</td>\n",
       "      <td>2030-04-03 17:39:00+00:00</td>\n",
       "      <td>F</td>\n",
       "      <td>haem/onc</td>\n",
       "      <td>False</td>\n",
       "    </tr>\n",
       "    <tr>\n",
       "      <th>3</th>\n",
       "      <td>train</td>\n",
       "      <td>2030-04-12 19:00:00+00:00</td>\n",
       "      <td>F</td>\n",
       "      <td>haem/onc</td>\n",
       "      <td>False</td>\n",
       "    </tr>\n",
       "    <tr>\n",
       "      <th>4</th>\n",
       "      <td>train</td>\n",
       "      <td>2030-04-05 18:24:00+00:00</td>\n",
       "      <td>F</td>\n",
       "      <td>haem/onc</td>\n",
       "      <td>False</td>\n",
       "    </tr>\n",
       "  </tbody>\n",
       "</table>\n",
       "</div>"
      ],
      "text/plain": [
       "  training_validation_test           arrival_datetime sex specialty  is_child\n",
       "0                    train  2030-11-01 17:40:00+00:00   F  surgical     False\n",
       "1                    train  2030-06-13 19:51:00+00:00   F  haem/onc     False\n",
       "2                    train  2030-04-03 17:39:00+00:00   F  haem/onc     False\n",
       "3                    train  2030-04-12 19:00:00+00:00   F  haem/onc     False\n",
       "4                    train  2030-04-05 18:24:00+00:00   F  haem/onc     False"
      ]
     },
     "execution_count": 5,
     "metadata": {},
     "output_type": "execute_result"
    }
   ],
   "source": [
    "df.head()"
   ]
  },
  {
   "cell_type": "markdown",
   "id": "27471c1f-f1c3-4bfe-a8a5-6276c2d95024",
   "metadata": {
    "tags": []
   },
   "source": [
    "## Separate into training, validation and test sets\n",
    "\n",
    "As part of preparing the data, each visit has already been allocated into one of three sets - training, vaidation and test sets. "
   ]
  },
  {
   "cell_type": "code",
   "execution_count": 6,
   "id": "4714fce0-1edd-4611-961a-219cfee87033",
   "metadata": {
    "tags": []
   },
   "outputs": [
    {
     "data": {
      "text/plain": [
       "training_validation_test\n",
       "train    22025\n",
       "test      7705\n",
       "valid     2493\n",
       "Name: count, dtype: int64"
      ]
     },
     "execution_count": 6,
     "metadata": {},
     "output_type": "execute_result"
    }
   ],
   "source": [
    "df.training_validation_test.value_counts()"
   ]
  },
  {
   "cell_type": "code",
   "execution_count": 7,
   "id": "7e601d67-1588-48ee-816e-d387fde88e61",
   "metadata": {
    "tags": []
   },
   "outputs": [
    {
     "name": "stderr",
     "output_type": "stream",
     "text": [
      "/tmp/ipykernel_14482/1241294487.py:5: SettingWithCopyWarning: \n",
      "A value is trying to be set on a copy of a slice from a DataFrame.\n",
      "Try using .loc[row_indexer,col_indexer] = value instead\n",
      "\n",
      "See the caveats in the documentation: https://pandas.pydata.org/pandas-docs/stable/user_guide/indexing.html#returning-a-view-versus-a-copy\n",
      "  train_df['arrival_datetime'] = pd.to_datetime(train_df['arrival_datetime'], utc = True)\n"
     ]
    }
   ],
   "source": [
    "train_df = df[df.training_validation_test == 'train']#.drop(columns='training_validation_test')\n",
    "valid_df = df[df.training_validation_test == 'valid']#.drop(columns='training_validation_test')\n",
    "test_df = df[df.training_validation_test == 'test']#.drop(columns='training_validation_test')\n",
    "\n",
    "train_df['arrival_datetime'] = pd.to_datetime(train_df['arrival_datetime'], utc = True)\n",
    "train_df.set_index('arrival_datetime', inplace=True)"
   ]
  },
  {
   "cell_type": "code",
   "execution_count": 8,
   "id": "1f2279da-5285-4045-80ad-18e127bba698",
   "metadata": {},
   "outputs": [
    {
     "data": {
      "text/plain": [
       "True"
      ]
     },
     "execution_count": 8,
     "metadata": {},
     "output_type": "execute_result"
    }
   ],
   "source": [
    "isinstance(train_df.index, pd.DatetimeIndex)"
   ]
  },
  {
   "cell_type": "markdown",
   "id": "ab54006c-7bd0-4eb7-bda5-e86937489c90",
   "metadata": {},
   "source": [
    "## Get arrival rates by hour"
   ]
  },
  {
   "cell_type": "code",
   "execution_count": 10,
   "id": "6ff79b85-6441-4270-a32b-c8544a245d14",
   "metadata": {},
   "outputs": [
    {
     "name": "stdout",
     "output_type": "stream",
     "text": [
      "Calculating time-varying arrival rates for data provided, which spans 517 days\n"
     ]
    }
   ],
   "source": [
    "from predict.emergency_demand.time_varying_arrival_rates import calculate_rates\n",
    "dict = calculate_rates(train_df, time_interval = 60)"
   ]
  },
  {
   "cell_type": "code",
   "execution_count": 13,
   "id": "de693396-6cd2-410c-ac99-6a0ce391e3f4",
   "metadata": {},
   "outputs": [
    {
     "data": {
      "image/png": "[encoded data removed]",
      "text/plain": [
       "<Figure size 1000x600 with 1 Axes>"
      ]
     },
     "metadata": {},
     "output_type": "display_data"
    }
   ],
   "source": [
    "import matplotlib.pyplot as plt\n",
    "import datetime\n",
    "\n",
    "# Extract keys and values\n",
    "hours = list(dict.keys())\n",
    "arrival_rates = list(dict.values())\n",
    "\n",
    "# Convert datetime.time objects to strings for better readability on the plot\n",
    "hour_labels = [hour.strftime('%H:%M') for hour in hours]\n",
    "\n",
    "# Plot the data\n",
    "plt.figure(figsize=(10, 6))\n",
    "plt.plot(hour_labels, arrival_rates, marker='o')\n",
    "plt.xticks(rotation=45)\n",
    "plt.xlabel('Hour of day')\n",
    "plt.ylabel('Arrival Rate (patients per hour)')\n",
    "plt.title('Arrival Rates of patients later admitted, by hour of the day')\n",
    "plt.grid(True)\n",
    "plt.tight_layout()\n",
    "plt.show()"
   ]
  },
  {
   "cell_type": "code",
   "execution_count": 26,
   "id": "b08812ba-6ebc-4bce-9d99-b563f3e5de6e",
   "metadata": {},
   "outputs": [
    {
     "data": {
      "image/png": "[encoded data removed]",
      "text/plain": [
       "<Figure size 1000x600 with 1 Axes>"
      ]
     },
     "metadata": {},
     "output_type": "display_data"
    }
   ],
   "source": [
    "## Lag by four hours\n",
    "\n",
    "from collections import OrderedDict\n",
    "\n",
    "# Assuming 'dict' is already defined\n",
    "\n",
    "# Lag the arrival times by 4 hours\n",
    "lagged_dict = OrderedDict()\n",
    "for time, rate in dict.items():\n",
    "    lagged_time = (datetime.datetime.combine(datetime.date.today(), time) + datetime.timedelta(hours=4)).time()\n",
    "    lagged_dict[lagged_time] = rate\n",
    "\n",
    "# Sort the dictionary by the new lagged time\n",
    "sorted_lagged_dict = OrderedDict(sorted(lagged_dict.items()))\n",
    "\n",
    "# Extract keys and values from the sorted dictionary\n",
    "hours = list(sorted_lagged_dict.keys())\n",
    "arrival_rates = list(sorted_lagged_dict.values())\n",
    "\n",
    "# Convert datetime.time objects to strings for better readability on the plot\n",
    "hour_labels = [hour.strftime('%H:%M') for hour in hours]\n",
    "\n",
    "# Plot the data\n",
    "plt.figure(figsize=(10, 6))\n",
    "plt.bar(hour_labels, arrival_rates)\n",
    "plt.xticks(rotation=45)\n",
    "plt.xlabel('Hour of the Day')\n",
    "plt.ylabel('Number of beds needed')\n",
    "plt.title('Average number of beds needed by hour of day, if each patient was admitted exactly four hours after arrival')\n",
    "# plt.grid(True)\n",
    "plt.tight_layout()\n",
    "plt.show()"
   ]
  },
  {
   "cell_type": "code",
   "execution_count": 27,
   "id": "ff56fa4e-e6a7-4afa-ba70-4b8eeb9bfd82",
   "metadata": {},
   "outputs": [
    {
     "data": {
      "image/png": "[encoded data removed]",
      "text/plain": [
       "<Figure size 1000x600 with 1 Axes>"
      ]
     },
     "metadata": {},
     "output_type": "display_data"
    }
   ],
   "source": [
    "# Cumulative arrival rates\n",
    "\n",
    "# Calculate cumulative arrivals\n",
    "total_arrivals = np.sum(arrival_rates)\n",
    "cumulative_arrivals_percentage = (np.cumsum(arrival_rates) / total_arrivals) * 100\n",
    "\n",
    "\n",
    "# Plot the cumulative data\n",
    "plt.figure(figsize=(10, 6))\n",
    "plt.plot(hour_labels, cumulative_arrivals_percentage, marker='o')\n",
    "plt.xticks(rotation=45)\n",
    "plt.xlabel('Hour of the Day')\n",
    "plt.ylabel('Cumulative Arrivals (%)')\n",
    "plt.title('Cumulative Arrivals as Percentage of Total by Hour of the Day')\n",
    "plt.grid(True)\n",
    "plt.tight_layout()\n",
    "plt.show()"
   ]
  },
  {
   "cell_type": "markdown",
   "id": "8b576ca2-7488-4bbf-8639-13d0a0ef440b",
   "metadata": {},
   "source": [
    "## For each "
   ]
  },
  {
   "cell_type": "markdown",
   "id": "71006ea6-6115-40db-9537-cdc786bf7505",
   "metadata": {},
   "source": [
    "## Train the Poisson-Binomial model"
   ]
  },
  {
   "cell_type": "code",
   "execution_count": 27,
   "id": "6af2ba86-0391-42be-9685-453de5406ca5",
   "metadata": {
    "tags": []
   },
   "outputs": [],
   "source": [
    "from predict.emergency_demand.poisson_binomial_predictor import PoissonBinomialPredictor"
   ]
  },
  {
   "cell_type": "markdown",
   "id": "10f7d766-929a-4ed3-bb91-bb39b4439128",
   "metadata": {},
   "source": [
    "### Train a model for all admission, irrespective of specialty of admission"
   ]
  },
  {
   "cell_type": "code",
   "execution_count": 40,
   "id": "d853b3a1-4732-45d2-8df8-bc6a5570d2ea",
   "metadata": {
    "tags": []
   },
   "outputs": [
    {
     "name": "stdout",
     "output_type": "stream",
     "text": [
      "Calculating time-varying arrival rates for data provided, which spans 520 days\n",
      "Poisson Binomial Predictor trained for these times: [(6, 0), (9, 30), (12, 0), (15, 30), (22, 0)]\n",
      "using prediction window of 480 minutes after the time of prediction\n",
      "and time interval of 15 minutes within the prediction window.\n",
      "The error value for prediction will be 1e-07\n",
      "To see the weights saved by this model, used the get_weights() method\n"
     ]
    },
    {
     "data": {
      "text/plain": [
       "['/home/jovyan/data/ed-predictor/trained-models/ed_yet_to_arrive_all_8_hours.joblib']"
      ]
     },
     "execution_count": 40,
     "metadata": {},
     "output_type": "execute_result"
    }
   ],
   "source": [
    "from predict.emergency_demand.poisson_binomial_predictor import PoissonBinomialPredictor\n",
    "from joblib import dump, load\n",
    "\n",
    "model =  PoissonBinomialPredictor()\n",
    "\n",
    "model.fit(train_df, prediction_window, time_interval, prediction_times)\n",
    "\n",
    "MODEL__ED_YETTOARRIVE__NAME = 'ed_yet_to_arrive_all_' + str(int(prediction_window/60)) + '_hours'\n",
    "full_path = model_file_path / MODEL__ED_YETTOARRIVE__NAME \n",
    "full_path = full_path.with_suffix('.joblib')\n",
    "\n",
    "dump(model, full_path)"
   ]
  },
  {
   "cell_type": "code",
   "execution_count": 41,
   "id": "d9f15478-7422-4667-9941-7742fadb08e2",
   "metadata": {
    "tags": []
   },
   "outputs": [],
   "source": [
    "weights = model.get_weights()\n"
   ]
  },
  {
   "cell_type": "code",
   "execution_count": 42,
   "id": "c7e6481b-a0a9-48a3-9616-f9c0baf95a94",
   "metadata": {
    "tags": []
   },
   "outputs": [
    {
     "name": "stderr",
     "output_type": "stream",
     "text": [
      "/home/jovyan/work/patientflow/src/patientflow/predict/emergency_demand/poisson_binomial_predictor.py:311: UserWarning: Time of day requested of (7, 0) was not in model training. Reverting to predictions for (6, 0).\n",
      "  warnings.warn(\n"
     ]
    },
    {
     "data": {
      "text/plain": [
       "{'default':      agg_proba\n",
       " sum           \n",
       " 0     0.014505\n",
       " 1     0.061405\n",
       " 2     0.129970\n",
       " 3     0.183398\n",
       " 4     0.194092\n",
       " ..         ...\n",
       " 220   0.000000\n",
       " 221   0.000000\n",
       " 222   0.000000\n",
       " 223   0.000000\n",
       " 224   0.000000\n",
       " \n",
       " [225 rows x 1 columns]}"
      ]
     },
     "execution_count": 42,
     "metadata": {},
     "output_type": "execute_result"
    }
   ],
   "source": [
    "prediction_context = {\n",
    "    'default': {\n",
    "        'prediction_time': tuple([7, 0])  \n",
    "    }\n",
    "}\n",
    "\n",
    "x1 = float(config['x1'])\n",
    "y1 = float(config['y1'])\n",
    "x2 = float(config['x2'])\n",
    "y2 = float(config['y2'])\n",
    "\n",
    "MODEL__ED_YETTOARRIVE__NAME = 'ed_yet_to_arrive_all_' + str(int(prediction_window/60)) + '_hours'\n",
    "full_path = model_file_path / MODEL__ED_YETTOARRIVE__NAME \n",
    "full_path = full_path.with_suffix('.joblib')\n",
    "\n",
    "model = load(full_path)\n",
    "\n",
    "preds = model.predict(prediction_context, x1, y1, x2, y2)\n",
    "preds"
   ]
  },
  {
   "cell_type": "markdown",
   "id": "48e4ea43-9725-4c44-8245-4ed048ddb762",
   "metadata": {},
   "source": [
    "### Predict within specialty"
   ]
  },
  {
   "cell_type": "code",
   "execution_count": 47,
   "id": "3f1a2773-792a-4f76-be0f-b5fb80ca47d4",
   "metadata": {},
   "outputs": [
    {
     "data": {
      "text/html": [
       "<div>\n",
       "<style scoped>\n",
       "    .dataframe tbody tr th:only-of-type {\n",
       "        vertical-align: middle;\n",
       "    }\n",
       "\n",
       "    .dataframe tbody tr th {\n",
       "        vertical-align: top;\n",
       "    }\n",
       "\n",
       "    .dataframe thead th {\n",
       "        text-align: right;\n",
       "    }\n",
       "</style>\n",
       "<table border=\"1\" class=\"dataframe\">\n",
       "  <thead>\n",
       "    <tr style=\"text-align: right;\">\n",
       "      <th></th>\n",
       "      <th>training_validation_test</th>\n",
       "      <th>sex</th>\n",
       "      <th>specialty</th>\n",
       "      <th>is_child</th>\n",
       "    </tr>\n",
       "    <tr>\n",
       "      <th>admission_datetime</th>\n",
       "      <th></th>\n",
       "      <th></th>\n",
       "      <th></th>\n",
       "      <th></th>\n",
       "    </tr>\n",
       "  </thead>\n",
       "  <tbody>\n",
       "    <tr>\n",
       "      <th>2030-06-13 14:33:22+00:00</th>\n",
       "      <td>train</td>\n",
       "      <td>F</td>\n",
       "      <td>haem/onc</td>\n",
       "      <td>False</td>\n",
       "    </tr>\n",
       "    <tr>\n",
       "      <th>2030-04-03 10:43:56+00:00</th>\n",
       "      <td>train</td>\n",
       "      <td>F</td>\n",
       "      <td>haem/onc</td>\n",
       "      <td>False</td>\n",
       "    </tr>\n",
       "    <tr>\n",
       "      <th>2030-04-12 13:47:06+00:00</th>\n",
       "      <td>train</td>\n",
       "      <td>F</td>\n",
       "      <td>haem/onc</td>\n",
       "      <td>False</td>\n",
       "    </tr>\n",
       "    <tr>\n",
       "      <th>2030-04-12 12:33:22+00:00</th>\n",
       "      <td>train</td>\n",
       "      <td>M</td>\n",
       "      <td>haem/onc</td>\n",
       "      <td>False</td>\n",
       "    </tr>\n",
       "    <tr>\n",
       "      <th>2030-03-29 16:39:00+00:00</th>\n",
       "      <td>train</td>\n",
       "      <td>F</td>\n",
       "      <td>surgical</td>\n",
       "      <td>False</td>\n",
       "    </tr>\n",
       "    <tr>\n",
       "      <th>...</th>\n",
       "      <td>...</td>\n",
       "      <td>...</td>\n",
       "      <td>...</td>\n",
       "      <td>...</td>\n",
       "    </tr>\n",
       "    <tr>\n",
       "      <th>2030-11-27 01:57:00+00:00</th>\n",
       "      <td>train</td>\n",
       "      <td>M</td>\n",
       "      <td>NaN</td>\n",
       "      <td>False</td>\n",
       "    </tr>\n",
       "    <tr>\n",
       "      <th>2030-11-27 01:50:00+00:00</th>\n",
       "      <td>train</td>\n",
       "      <td>M</td>\n",
       "      <td>NaN</td>\n",
       "      <td>False</td>\n",
       "    </tr>\n",
       "    <tr>\n",
       "      <th>2031-02-17 04:33:00+00:00</th>\n",
       "      <td>train</td>\n",
       "      <td>M</td>\n",
       "      <td>NaN</td>\n",
       "      <td>False</td>\n",
       "    </tr>\n",
       "    <tr>\n",
       "      <th>2031-03-05 02:55:00+00:00</th>\n",
       "      <td>train</td>\n",
       "      <td>F</td>\n",
       "      <td>NaN</td>\n",
       "      <td>False</td>\n",
       "    </tr>\n",
       "    <tr>\n",
       "      <th>2030-12-07 03:57:00+00:00</th>\n",
       "      <td>train</td>\n",
       "      <td>M</td>\n",
       "      <td>NaN</td>\n",
       "      <td>True</td>\n",
       "    </tr>\n",
       "  </tbody>\n",
       "</table>\n",
       "<p>14071 rows × 4 columns</p>\n",
       "</div>"
      ],
      "text/plain": [
       "                          training_validation_test sex specialty  is_child\n",
       "admission_datetime                                                        \n",
       "2030-06-13 14:33:22+00:00                    train   F  haem/onc     False\n",
       "2030-04-03 10:43:56+00:00                    train   F  haem/onc     False\n",
       "2030-04-12 13:47:06+00:00                    train   F  haem/onc     False\n",
       "2030-04-12 12:33:22+00:00                    train   M  haem/onc     False\n",
       "2030-03-29 16:39:00+00:00                    train   F  surgical     False\n",
       "...                                            ...  ..       ...       ...\n",
       "2030-11-27 01:57:00+00:00                    train   M       NaN     False\n",
       "2030-11-27 01:50:00+00:00                    train   M       NaN     False\n",
       "2031-02-17 04:33:00+00:00                    train   M       NaN     False\n",
       "2031-03-05 02:55:00+00:00                    train   F       NaN     False\n",
       "2030-12-07 03:57:00+00:00                    train   M       NaN      True\n",
       "\n",
       "[14071 rows x 4 columns]"
      ]
     },
     "execution_count": 47,
     "metadata": {},
     "output_type": "execute_result"
    }
   ],
   "source": [
    "train_df"
   ]
  },
  {
   "cell_type": "code",
   "execution_count": 53,
   "id": "e1ed1e9d-7520-4400-80ee-6c846e2b7f31",
   "metadata": {
    "tags": []
   },
   "outputs": [
    {
     "name": "stdout",
     "output_type": "stream",
     "text": [
      "{'medical': {'specialty': 'medical', 'is_child': False}, 'surgical': {'specialty': 'surgical', 'is_child': False}, 'haem/onc': {'specialty': 'haem/onc', 'is_child': False}, 'paediatric': {'is_child': True}}\n",
      "Calculating time-varying arrival rates for data provided, which spans 519 days\n",
      "Calculating time-varying arrival rates for data provided, which spans 520 days\n",
      "Calculating time-varying arrival rates for data provided, which spans 519 days\n",
      "Calculating time-varying arrival rates for data provided, which spans 519 days\n",
      "Poisson Binomial Predictor trained for these times: [(6, 0), (9, 30), (12, 0), (15, 30), (22, 0)]\n",
      "using prediction window of 480 minutes after the time of prediction\n",
      "and time interval of 15 minutes within the prediction window.\n",
      "The error value for prediction will be 1e-07\n",
      "To see the weights saved by this model, used the get_weights() method\n"
     ]
    },
    {
     "data": {
      "text/plain": [
       "['/home/jovyan/data/ed-predictor/trained-models/ed_yet_to_arrive_by_spec_8_hours.joblib']"
      ]
     },
     "execution_count": 53,
     "metadata": {},
     "output_type": "execute_result"
    }
   ],
   "source": [
    "from predict.emergency_demand.poisson_binomial_predictor import PoissonBinomialPredictor\n",
    "\n",
    "specialty_filters = {\n",
    "    'medical': {'specialty': 'medical', 'is_child': False},\n",
    "    'surgical': {'specialty': 'surgical', 'is_child': False},\n",
    "    'haem/onc': {'specialty': 'haem/onc', 'is_child': False},\n",
    "    'paediatric': {'is_child': True}  # Pediatric doesn't filter by observed_specialty\n",
    "}\n",
    "\n",
    "model_by_spec =  PoissonBinomialPredictor(filters = specialty_filters)\n",
    "\n",
    "model_by_spec.fit(train_df, prediction_window, time_interval, prediction_times)\n",
    "\n",
    "\n",
    "MODEL__ED_YETTOARRIVE__NAME = 'ed_yet_to_arrive_by_spec_' + str(int(prediction_window/60)) + '_hours'\n",
    "full_path = model_file_path / MODEL__ED_YETTOARRIVE__NAME \n",
    "full_path = full_path.with_suffix('.joblib')\n",
    "\n",
    "dump(model_by_spec, full_path)"
   ]
  },
  {
   "cell_type": "code",
   "execution_count": null,
   "id": "fe2bc81d",
   "metadata": {},
   "outputs": [],
   "source": []
  },
  {
   "cell_type": "code",
   "execution_count": null,
   "id": "d1243f53",
   "metadata": {},
   "outputs": [],
   "source": []
  },
  {
   "cell_type": "code",
   "execution_count": 55,
   "id": "93c40535-c92f-4d0a-9404-6511038a0bd9",
   "metadata": {
    "tags": []
   },
   "outputs": [
    {
     "name": "stderr",
     "output_type": "stream",
     "text": [
      "/home/jovyan/work/patientflow/src/patientflow/predict/emergency_demand/poisson_binomial_predictor.py:312: UserWarning: Time of day requested of (7, 0) was not in model training. Reverting to predictions for (6, 0).\n",
      "  warnings.warn(\n"
     ]
    },
    {
     "data": {
      "text/html": [
       "<div>\n",
       "<style scoped>\n",
       "    .dataframe tbody tr th:only-of-type {\n",
       "        vertical-align: middle;\n",
       "    }\n",
       "\n",
       "    .dataframe tbody tr th {\n",
       "        vertical-align: top;\n",
       "    }\n",
       "\n",
       "    .dataframe thead th {\n",
       "        text-align: right;\n",
       "    }\n",
       "</style>\n",
       "<table border=\"1\" class=\"dataframe\">\n",
       "  <thead>\n",
       "    <tr style=\"text-align: right;\">\n",
       "      <th></th>\n",
       "      <th>agg_proba</th>\n",
       "    </tr>\n",
       "    <tr>\n",
       "      <th>sum</th>\n",
       "      <th></th>\n",
       "    </tr>\n",
       "  </thead>\n",
       "  <tbody>\n",
       "    <tr>\n",
       "      <th>0</th>\n",
       "      <td>0.145917</td>\n",
       "    </tr>\n",
       "    <tr>\n",
       "      <th>1</th>\n",
       "      <td>0.280849</td>\n",
       "    </tr>\n",
       "    <tr>\n",
       "      <th>2</th>\n",
       "      <td>0.270277</td>\n",
       "    </tr>\n",
       "    <tr>\n",
       "      <th>3</th>\n",
       "      <td>0.173402</td>\n",
       "    </tr>\n",
       "    <tr>\n",
       "      <th>4</th>\n",
       "      <td>0.083438</td>\n",
       "    </tr>\n",
       "    <tr>\n",
       "      <th>...</th>\n",
       "      <td>...</td>\n",
       "    </tr>\n",
       "    <tr>\n",
       "      <th>188</th>\n",
       "      <td>0.000000</td>\n",
       "    </tr>\n",
       "    <tr>\n",
       "      <th>189</th>\n",
       "      <td>0.000000</td>\n",
       "    </tr>\n",
       "    <tr>\n",
       "      <th>190</th>\n",
       "      <td>0.000000</td>\n",
       "    </tr>\n",
       "    <tr>\n",
       "      <th>191</th>\n",
       "      <td>0.000000</td>\n",
       "    </tr>\n",
       "    <tr>\n",
       "      <th>192</th>\n",
       "      <td>0.000000</td>\n",
       "    </tr>\n",
       "  </tbody>\n",
       "</table>\n",
       "<p>193 rows × 1 columns</p>\n",
       "</div>"
      ],
      "text/plain": [
       "     agg_proba\n",
       "sum           \n",
       "0     0.145917\n",
       "1     0.280849\n",
       "2     0.270277\n",
       "3     0.173402\n",
       "4     0.083438\n",
       "..         ...\n",
       "188   0.000000\n",
       "189   0.000000\n",
       "190   0.000000\n",
       "191   0.000000\n",
       "192   0.000000\n",
       "\n",
       "[193 rows x 1 columns]"
      ]
     },
     "execution_count": 55,
     "metadata": {},
     "output_type": "execute_result"
    }
   ],
   "source": [
    "MODEL__ED_YETTOARRIVE__NAME = 'ed_yet_to_arrive_by_spec_' + str(int(prediction_window/60)) + '_hours'\n",
    "full_path = model_file_path / MODEL__ED_YETTOARRIVE__NAME \n",
    "full_path = full_path.with_suffix('.joblib')\n",
    "\n",
    "model_by_spec = load(full_path)\n",
    "\n",
    "x1 = float(config['x1'])\n",
    "y1 = float(config['y1'])\n",
    "x2 = float(config['x2'])\n",
    "y2 = float(config['y2'])\n",
    "\n",
    "prediction_context = {\n",
    "    'medical': {\n",
    "        'prediction_time': tuple([7, 0])  \n",
    "    }\n",
    "}\n",
    "\n",
    "preds = model_by_spec.predict(prediction_context, x1, y1, x2, y2)\n",
    "preds['medical']"
   ]
  },
  {
   "cell_type": "code",
   "execution_count": null,
   "id": "8c5aabe4-9834-4929-b8ad-0ff756e1173c",
   "metadata": {},
   "outputs": [],
   "source": []
  }
 ],
 "metadata": {
  "kernelspec": {
   "display_name": "Python 3 (ipykernel)",
   "language": "python",
   "name": "python3"
  },
  "language_info": {
   "codemirror_mode": {
    "name": "ipython",
    "version": 3
   },
   "file_extension": ".py",
   "mimetype": "text/x-python",
   "name": "python",
   "nbconvert_exporter": "python",
   "pygments_lexer": "ipython3",
   "version": "3.11.8"
  }
 },
 "nbformat": 4,
 "nbformat_minor": 5
}
