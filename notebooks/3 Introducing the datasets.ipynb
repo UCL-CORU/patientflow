{
 "cells": [
  {
   "cell_type": "markdown",
   "metadata": {},
   "source": [
    "# Introducing the datasets\n",
    "\n",
    "Here we introduce the three datasets we have created to accompany this repository.\n",
    "\n",
    "[WORK IN PROGRESS] Please check back soon\n"
   ]
  },
  {
   "cell_type": "markdown",
   "metadata": {},
   "source": []
  }
 ],
 "metadata": {
  "language_info": {
   "name": "python"
  }
 },
 "nbformat": 4,
 "nbformat_minor": 2
}
