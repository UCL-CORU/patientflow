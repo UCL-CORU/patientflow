{
 "cells": [
  {
   "cell_type": "markdown",
   "metadata": {},
   "source": [
    "# Evaluating the predictions\n",
    "\n",
    "In this notebook we will discuss the importance of evaluating predictions and talk about what it means to evaluate an aspirational model. When a model is aspirational (ie telling a hospital how many beds it would need to provide if the ED was meeting its targets), you cannot evaluate it by comparing with observed patterns of admissions during a period where targets were not met. There are ways to evaluate its components, nonetheless and we will talk about those here. \n",
    "\n",
    "[WORK IN PROGRESS] Please check back soon"
   ]
  },
  {
   "cell_type": "markdown",
   "metadata": {},
   "source": []
  }
 ],
 "metadata": {
  "language_info": {
   "name": "python"
  }
 },
 "nbformat": 4,
 "nbformat_minor": 2
}
