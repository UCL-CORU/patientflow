{
 "cells": [
  {
   "cell_type": "markdown",
   "metadata": {},
   "source": [
    "# Set up your environment\n",
    "\n",
    "Skip this notebook if you are just browsing. \n",
    "\n",
    "If you want to run the code in these repository, this will show you where the code looks for data and saves models and media by default, and  how to set up your environment. There are two README files that may be useful :\n",
    "\n",
    "* [Repository README](/README.md) in the root of the repisotory\n",
    "* [Notebooks README](README.md) in this folder"
   ]
  },
  {
   "cell_type": "markdown",
   "metadata": {},
   "source": [
    "## Check that the patientflow package has been installed"
   ]
  },
  {
   "cell_type": "code",
   "execution_count": 1,
   "metadata": {},
   "outputs": [
    {
     "name": "stdout",
     "output_type": "stream",
     "text": [
      "✓ patientflow 0.1.0 imported successfully\n"
     ]
    }
   ],
   "source": [
    "try:\n",
    "   import patientflow\n",
    "   print(f\"✓ patientflow {patientflow.__version__} imported successfully\")\n",
    "except ImportError:\n",
    "   print(\"❌ patientflow not found - please check installation instructions in README\")\n",
    "   print(\"   pip install -e '.[test]'\")\n",
    "except Exception as e:\n",
    "   print(f\"❌ Error: {e}\")"
   ]
  },
  {
   "cell_type": "markdown",
   "metadata": {},
   "source": [
    "## Check that the PROJECT_ROOT variable has been set correctly\n",
    "\n",
    "The environment variable, called PROJECT_ROOT, tells the notebooks where the patientflow repository resides on your computer. All paths in the notebooks are set relatively to PROJECT_ROOT. There are various ways to set it, which are described in the notebooks [README](README.md). Here we will check it has been set correctly"
   ]
  },
  {
   "cell_type": "code",
   "execution_count": 4,
   "metadata": {},
   "outputs": [
    {
     "name": "stdout",
     "output_type": "stream",
     "text": [
      "Project root is /Users/zellaking/Repos/patientflow\n"
     ]
    }
   ],
   "source": [
    "# check PROJECT_ROOT has been set\n",
    "from pathlib import Path\n",
    "import os\n",
    "\n",
    "try:\n",
    "    PROJECT_ROOT = Path(os.getenv('PROJECT_ROOT'))\n",
    "    if PROJECT_ROOT is None:\n",
    "        raise ValueError(\"PROJECT_ROOT environment variable not set\")\n",
    "    if not PROJECT_ROOT.exists():\n",
    "        raise NotADirectoryError(f\"Path {PROJECT_ROOT} does not exist\")\n",
    "    print(f\"Project root is {PROJECT_ROOT}\")\n",
    "except Exception as e:\n",
    "    print(f\"Error setting project root: {e}\")\n",
    "    print(f\"\\nCurrent directory: {Path().absolute()}\")\n",
    "    print(\"\\nRun one of these commands in a new cell to set PROJECT_ROOT:\")\n",
    "    print(\"# Linux/Mac:\")\n",
    "    print(\"%env PROJECT_ROOT=/path/to/patientflow\")\n",
    "    print(\"\\n# Windows:\")\n",
    "    print(\"%env PROJECT_ROOT=C:\\\\path\\\\to\\\\patientflow\")\n"
   ]
  },
  {
   "cell_type": "markdown",
   "metadata": {},
   "source": [
    "This can also be done with a function"
   ]
  },
  {
   "cell_type": "code",
   "execution_count": 33,
   "metadata": {},
   "outputs": [
    {
     "name": "stdout",
     "output_type": "stream",
     "text": [
      "Project root is /Users/zellaking/Repos/patientflow\n"
     ]
    }
   ],
   "source": [
    "from patientflow.load import set_project_root\n",
    "project_root = set_project_root()"
   ]
  },
  {
   "cell_type": "markdown",
   "metadata": {},
   "source": [
    "## Set file paths\n",
    "\n",
    "Now that you have set the project root, you can specify where the data will be loaded from, where images and models are saved, and where to load the config file from. By default, a function called `set_file_paths()` sets these as shown here. "
   ]
  },
  {
   "cell_type": "code",
   "execution_count": 36,
   "metadata": {},
   "outputs": [
    {
     "name": "stdout",
     "output_type": "stream",
     "text": [
      "patientflow version: 0.1.0\n",
      "Repository root: /Users/zellaking/Repos/patientflow\n",
      "✓ Synthetic data found\n"
     ]
    }
   ],
   "source": [
    "# Check paths\n",
    "\n",
    "# Basic checks\n",
    "print(f\"patientflow version: {patientflow.__version__}\")\n",
    "print(f\"Repository root: {PROJECT_ROOT}\")\n",
    "\n",
    "# Verify data access\n",
    "data_folder_name = 'data-synthetic'\n",
    "data_file_path = PROJECT_ROOT / data_folder_name\n",
    "if data_file_path.exists():\n",
    "    print(\"✓ Synthetic data found\")\n",
    "else:\n",
    "    print(\"Synthetic data not found - check repository structure\")"
   ]
  },
  {
   "cell_type": "markdown",
   "metadata": {},
   "source": [
    "The function will set file paths to default values, as shown here. You can override these as required. "
   ]
  },
  {
   "cell_type": "code",
   "execution_count": 35,
   "metadata": {},
   "outputs": [
    {
     "name": "stdout",
     "output_type": "stream",
     "text": [
      "Configuration will be loaded from: /Users/zellaking/Repos/patientflow/config.yaml\n",
      "Data files will be loaded from: /Users/zellaking/Repos/patientflow/data-synthetic\n",
      "Trained models will be saved to: /Users/zellaking/Repos/patientflow/trained-models/synthetic\n",
      "Images will be saved to: /Users/zellaking/Repos/patientflow/trained-models/synthetic/media\n"
     ]
    }
   ],
   "source": [
    "from patientflow.load import set_file_paths\n",
    "data_file_path, media_file_path, model_file_path, config_path = set_file_paths(project_root, \n",
    "               data_folder_name=data_folder_name)"
   ]
  },
  {
   "cell_type": "markdown",
   "metadata": {},
   "source": [
    "## Summary\n",
    "\n",
    "In this notebook you have seen \n",
    "\n",
    "* how to configure your environment to run these notebooks\n",
    "* where the notebooks expect to find data, and where they will save models and media, by default. \n",
    "\n",
    "Now you are ready to explore the data that has been provided with this repository"
   ]
  },
  {
   "cell_type": "markdown",
   "metadata": {},
   "source": []
  }
 ],
 "metadata": {
  "kernelspec": {
   "display_name": "patientflow",
   "language": "python",
   "name": "python3"
  },
  "language_info": {
   "codemirror_mode": {
    "name": "ipython",
    "version": 3
   },
   "file_extension": ".py",
   "mimetype": "text/x-python",
   "name": "python",
   "nbconvert_exporter": "python",
   "pygments_lexer": "ipython3",
   "version": "3.12.8"
  }
 },
 "nbformat": 4,
 "nbformat_minor": 2
}
