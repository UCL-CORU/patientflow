{
 "cells": [
  {
   "cell_type": "markdown",
   "metadata": {},
   "source": [
    "# Modelling using only OPEL data\n",
    "\n",
    "In this notebook, we will show how you might use a small amount of real-time data (such as that sent to your Integrated Care Board for OPEL reporting), to make demand predictions. We will explain how to use a datase of previous hospital visits to prepare the predictive models. We will compare these simple predictions with those made with more data, and evaluate how much predictive power is lost when using a more minimal dataset. \n",
    "\n",
    "[WORK IN PROGRESS] Please check back soon"
   ]
  },
  {
   "cell_type": "markdown",
   "metadata": {},
   "source": []
  }
 ],
 "metadata": {
  "kernelspec": {
   "display_name": "Python 3 (ipykernel)",
   "language": "python",
   "name": "python3"
  },
  "language_info": {
   "codemirror_mode": {
    "name": "ipython",
    "version": 3
   },
   "file_extension": ".py",
   "mimetype": "text/x-python",
   "name": "python",
   "nbconvert_exporter": "python",
   "pygments_lexer": "ipython3",
   "version": "3.11.8"
  }
 },
 "nbformat": 4,
 "nbformat_minor": 4
}
