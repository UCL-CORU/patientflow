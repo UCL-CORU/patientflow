{
 "cells": [
  {
   "cell_type": "markdown",
   "metadata": {},
   "source": [
    "# Introducing our users\n",
    "\n",
    "In this notebook, we introduce the end-users for whom the modelling in this repo has been developed. We discuss\n",
    "\n",
    "- what do we mean by a ‘user’\n",
    "- Who are the users in our case\n",
    "- What are our users needs from a predictive model\n",
    "\n",
    "## What do we mean by a ‘user’?\n",
    "\n",
    "In the context of predictive analytics, a 'user' refers to the individual or team that interacts with or is impacted by the outcomes of the analytical model. Users are the recipients of the insights and predictions generated, whose actions and decisions are guided or influenced by the model's findings.\n",
    "\n",
    "Understanding the user ensures that a predictive model is aligned with their specific needs and objectives, leading to more relevant and actionable insights.\n",
    "\n",
    "By getting to know a model's users, an analyst is more likely to produce output that provides information users actually need, at the time they need it, and in a form that they can understand and make use of. This may sound obvious, but it is suprising how many models that predict emergency demand for beds are not geared towards a specific group of users. \n",
    "\n",
    "## Who are the users in this case?\n",
    "\n",
    "Here, our users are the people making decisions about bed capacity. Who would this be, in a hospital? \n",
    "\n",
    "Typically, a team of bed managers assigns each patient needing a bed to a hospital ward. Ideally, the ward is one that is suited the patient's injury or illness. For example, a surgical patient would ideally be admitted to a ward for surgical patients, where they will get the most knowledgeable care. \n",
    "\n",
    "Ideally, hospitals have enough capacity for everyone. Unfortunately, patients who are ready for discharge often get stuck in hospital for numerous reasons. When hospitals are full, incoming patients have to 'outlie' on a ward that has a bed free. Or they may have to wait until a bed is available.\n",
    "\n",
    "Bed managers are usually senior nurses, with a good understanding of each patient's likely care needs. Their days involve responding in quick time to rapidly changing situations caused by delays in patient care, infection outbreaks, excess demand for beds and numerous other types of incident. Theirs is a difficult job requiring negotiating with multiple people, each with different objectives, to allocate scarce resources.  They don't have time for information that is not crucial to their work. \n",
    "\n",
    "However, there are many aspects of their job that could be improved with predictive modelling, especially using real-time data. Bed managers must decide when to initiate escalation measures like discharging patients earlier, repurposing wards, cancelling elective admissions or diverting ambulances because patient care is no longer safe. These decisions depend on having a solid picture of current capacity and imminent pressures.  Gaining that picture often involves manual curation and/or validation of data in the Electronic Health Record (EHR), and frequent meetings with ward managers. They use simple heuristics to predict end-of-day bed capacity. \n",
    "\n",
    "There is huge scope to reduce this manual effort, and to use real-time data from the EHR, to improve the usefulness of the predictions they rely on. That is where our predictive modelling of bed capacity comes in. \n",
    "\n",
    "\n",
    "## What are our users' needs from a predictive model?\n",
    "\n",
    "We spent several years getting to know our the bed managers at UCLH, in a process that began with occasional meetings to ask about their needs, and has evolved into an embedded research relationship, with one of the UCL team regularly participating in the hospital's 'flow huddles'. These are site-wide meetings in which A&E staff, ward staff and bed managers discuss incoming emergency patients, provision for elective patients, and review which patients are likely to be discharged, by when. \n",
    "\n",
    "Through lengthy observation, we learned where bed managers look for information they need to do their job and what models are most likely to provide additional utility. \n",
    "\n",
    "Here, we focus on their needs for a better understanding of emergency demand, as this is where our project began. We learned that bed managers\n",
    "\n",
    "* have a good view of patients with bed requests so any incremental value will come from insights about people in A&E, or yet to arrive, who do not have bed requests yet\n",
    "* mainly use email and spreadsheets for communication, both to receive information and to communicate about the hospital bed capacity \n",
    "* want information at specific times of day to coincide with the flow huddles, with an 8-hour view of incoming demand at these times\n",
    "* when thinking about capacity, are more concerned about overall bed numbers than whether any individual patient will be admitted\n",
    "* want a breakdown by speciality of admission, as this is more actionable\n",
    "\n",
    "These requirements informed our design of the modelling of emergency demand. See [this notebook](notebooks/notebooks/2%20Introducing%20emergency%20demand%20and%20its%20modelling.ipynb) for an outline of our modelling decisions. \n",
    "\n",
    "For more information about how we tailored the ULCH application to meet these needs, see [this talk](https://www.youtube.com/watch?v=1V1IzWmOyX8) by Dr Zella King of UCL and Craig Wood, bed manager at UCLH \n",
    "\n"
   ]
  },
  {
   "cell_type": "markdown",
   "metadata": {},
   "source": []
  }
 ],
 "metadata": {
  "kernelspec": {
   "display_name": "env",
   "language": "python",
   "name": "python3"
  },
  "language_info": {
   "name": "python",
   "version": "3.12.2"
  }
 },
 "nbformat": 4,
 "nbformat_minor": 2
}
